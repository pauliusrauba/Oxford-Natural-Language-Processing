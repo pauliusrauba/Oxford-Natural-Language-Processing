{
 "cells": [
  {
   "cell_type": "markdown",
   "metadata": {},
   "source": [
    "# Formative 3"
   ]
  },
  {
   "cell_type": "code",
   "execution_count": 1,
   "metadata": {},
   "outputs": [],
   "source": [
    "import re\n",
    "from html import unescape\n",
    "\n",
    "import pandas as pd\n",
    "from nltk import sent_tokenize\n",
    "from sklearn.model_selection import train_test_split\n",
    "import torch\n",
    "from torch import nn, optim\n",
    "from collections import defaultdict, Counter\n",
    "import numpy as np"
   ]
  },
  {
   "cell_type": "code",
   "execution_count": 2,
   "metadata": {},
   "outputs": [],
   "source": [
    "pd.options.mode.chained_assignment = None"
   ]
  },
  {
   "cell_type": "markdown",
   "metadata": {},
   "source": [
    "### Part I: Data Preparation and Helper Functions"
   ]
  },
  {
   "cell_type": "code",
   "execution_count": 3,
   "metadata": {},
   "outputs": [],
   "source": [
    "# Define function to clean and split text\n",
    "def clean(text):\n",
    "    text = unescape(text)\n",
    "    return [re.sub('[^a-z0-9]', '', w.lower()) for w in text.strip().split()]"
   ]
  },
  {
   "cell_type": "code",
   "execution_count": 4,
   "metadata": {},
   "outputs": [],
   "source": [
    "# Load dataframe\n",
    "df = pd.read_csv('reddit_mbti.csv')\n",
    "\n",
    "# Remove columns not needed for formative\n",
    "#df = df[['comment', 'type']]\n",
    "\n",
    "# Remove empty comments\n",
    "df = df[df.comment.apply(lambda x: len(clean(x))) > 0]"
   ]
  },
  {
   "cell_type": "code",
   "execution_count": 5,
   "metadata": {},
   "outputs": [
    {
     "data": {
      "text/plain": [
       "0        1.0\n",
       "1        5.0\n",
       "2        1.0\n",
       "3        2.0\n",
       "4        1.0\n",
       "        ... \n",
       "76656    9.0\n",
       "76657    1.0\n",
       "76658   -4.0\n",
       "76659    0.0\n",
       "76660    0.0\n",
       "Name: score, Length: 76659, dtype: float64"
      ]
     },
     "execution_count": 5,
     "metadata": {},
     "output_type": "execute_result"
    }
   ],
   "source": [
    "df['score']"
   ]
  },
  {
   "cell_type": "code",
   "execution_count": 6,
   "metadata": {},
   "outputs": [
    {
     "data": {
      "text/plain": [
       "Index(['Unnamed: 0', 'name', 'author', 'author_flair_text', 'downs',\n",
       "       'created_utc', 'subreddit_id', 'link_id', 'parent_id', 'score',\n",
       "       'controversiality', 'gilded', 'id', 'subreddit', 'ups', 'type',\n",
       "       'word_count', 'word_count_quoteless', 'quote_to_text_ratio',\n",
       "       'is_mbti_related', 'comment', 'lang'],\n",
       "      dtype='object')"
      ]
     },
     "execution_count": 6,
     "metadata": {},
     "output_type": "execute_result"
    }
   ],
   "source": [
    "df.columns"
   ]
  },
  {
   "cell_type": "code",
   "execution_count": 7,
   "metadata": {},
   "outputs": [
    {
     "data": {
      "text/plain": [
       "Index(['Unnamed: 0', 'name', 'author', 'author_flair_text', 'downs',\n",
       "       'created_utc', 'subreddit_id', 'link_id', 'parent_id', 'score',\n",
       "       'controversiality', 'gilded', 'id', 'subreddit', 'ups', 'type',\n",
       "       'word_count', 'word_count_quoteless', 'quote_to_text_ratio',\n",
       "       'is_mbti_related', 'comment', 'lang'],\n",
       "      dtype='object')"
      ]
     },
     "execution_count": 7,
     "metadata": {},
     "output_type": "execute_result"
    }
   ],
   "source": [
    "df.columns"
   ]
  },
  {
   "cell_type": "code",
   "execution_count": 8,
   "metadata": {},
   "outputs": [],
   "source": [
    "from datetime import datetime"
   ]
  },
  {
   "cell_type": "code",
   "execution_count": 9,
   "metadata": {},
   "outputs": [
    {
     "data": {
      "text/plain": [
       "datetime.datetime(2015, 1, 1, 0, 39, 53)"
      ]
     },
     "execution_count": 9,
     "metadata": {},
     "output_type": "execute_result"
    }
   ],
   "source": [
    "datetime.utcfromtimestamp(df['created_utc'].min())"
   ]
  },
  {
   "cell_type": "code",
   "execution_count": 10,
   "metadata": {},
   "outputs": [
    {
     "data": {
      "text/plain": [
       "datetime.datetime(2017, 10, 31, 23, 53, 46)"
      ]
     },
     "execution_count": 10,
     "metadata": {},
     "output_type": "execute_result"
    }
   ],
   "source": [
    "datetime.utcfromtimestamp(df['created_utc'].max())"
   ]
  },
  {
   "cell_type": "code",
   "execution_count": 11,
   "metadata": {},
   "outputs": [],
   "source": [
    "df['date'] = df['created_utc'].map(lambda day: datetime.strftime(datetime.utcfromtimestamp(day), '%Y-%m'))"
   ]
  },
  {
   "cell_type": "code",
   "execution_count": 12,
   "metadata": {},
   "outputs": [
    {
     "data": {
      "text/plain": [
       "<AxesSubplot:>"
      ]
     },
     "execution_count": 12,
     "metadata": {},
     "output_type": "execute_result"
    },
    {
     "data": {
      "image/png": "[encoded data removed]",
      "text/plain": [
       "<Figure size 432x288 with 1 Axes>"
      ]
     },
     "metadata": {
      "needs_background": "light"
     },
     "output_type": "display_data"
    }
   ],
   "source": [
    "df['date'].value_counts().sort_index().plot(kind='bar')"
   ]
  },
  {
   "cell_type": "code",
   "execution_count": 13,
   "metadata": {},
   "outputs": [
    {
     "data": {
      "text/html": [
       "<div>\n",
       "<style scoped>\n",
       "    .dataframe tbody tr th:only-of-type {\n",
       "        vertical-align: middle;\n",
       "    }\n",
       "\n",
       "    .dataframe tbody tr th {\n",
       "        vertical-align: top;\n",
       "    }\n",
       "\n",
       "    .dataframe thead th {\n",
       "        text-align: right;\n",
       "    }\n",
       "</style>\n",
       "<table border=\"1\" class=\"dataframe\">\n",
       "  <thead>\n",
       "    <tr style=\"text-align: right;\">\n",
       "      <th></th>\n",
       "      <th>Unnamed: 0</th>\n",
       "      <th>name</th>\n",
       "      <th>author</th>\n",
       "      <th>author_flair_text</th>\n",
       "      <th>downs</th>\n",
       "      <th>created_utc</th>\n",
       "      <th>subreddit_id</th>\n",
       "      <th>link_id</th>\n",
       "      <th>parent_id</th>\n",
       "      <th>score</th>\n",
       "      <th>...</th>\n",
       "      <th>subreddit</th>\n",
       "      <th>ups</th>\n",
       "      <th>type</th>\n",
       "      <th>word_count</th>\n",
       "      <th>word_count_quoteless</th>\n",
       "      <th>quote_to_text_ratio</th>\n",
       "      <th>is_mbti_related</th>\n",
       "      <th>comment</th>\n",
       "      <th>lang</th>\n",
       "      <th>date</th>\n",
       "    </tr>\n",
       "  </thead>\n",
       "  <tbody>\n",
       "    <tr>\n",
       "      <th>0</th>\n",
       "      <td>0</td>\n",
       "      <td>NaN</td>\n",
       "      <td>procrastablasta</td>\n",
       "      <td>NaN</td>\n",
       "      <td>0.0</td>\n",
       "      <td>1.479440e+09</td>\n",
       "      <td>t5_2cneq</td>\n",
       "      <td>t3_5dhlfi</td>\n",
       "      <td>t1_da568p7</td>\n",
       "      <td>1.0</td>\n",
       "      <td>...</td>\n",
       "      <td>politics</td>\n",
       "      <td>0.0</td>\n",
       "      <td>enfp</td>\n",
       "      <td>72</td>\n",
       "      <td>72</td>\n",
       "      <td>0.00000</td>\n",
       "      <td>False</td>\n",
       "      <td>you really want to go down this path?  Would y...</td>\n",
       "      <td>en</td>\n",
       "      <td>2016-11</td>\n",
       "    </tr>\n",
       "    <tr>\n",
       "      <th>1</th>\n",
       "      <td>1</td>\n",
       "      <td>NaN</td>\n",
       "      <td>SWaspMale</td>\n",
       "      <td>NaN</td>\n",
       "      <td>0.0</td>\n",
       "      <td>1.451479e+09</td>\n",
       "      <td>t5_2cneq</td>\n",
       "      <td>t3_3ys15l</td>\n",
       "      <td>t3_3ys15l</td>\n",
       "      <td>5.0</td>\n",
       "      <td>...</td>\n",
       "      <td>politics</td>\n",
       "      <td>5.0</td>\n",
       "      <td>intp</td>\n",
       "      <td>25</td>\n",
       "      <td>25</td>\n",
       "      <td>0.00000</td>\n",
       "      <td>False</td>\n",
       "      <td>I think insurance companies do that.  Once you...</td>\n",
       "      <td>en</td>\n",
       "      <td>2015-12</td>\n",
       "    </tr>\n",
       "    <tr>\n",
       "      <th>2</th>\n",
       "      <td>2</td>\n",
       "      <td>NaN</td>\n",
       "      <td>SWaspMale</td>\n",
       "      <td>NaN</td>\n",
       "      <td>0.0</td>\n",
       "      <td>1.454790e+09</td>\n",
       "      <td>t5_2cneq</td>\n",
       "      <td>t3_44g0e0</td>\n",
       "      <td>t3_44g0e0</td>\n",
       "      <td>1.0</td>\n",
       "      <td>...</td>\n",
       "      <td>politics</td>\n",
       "      <td>1.0</td>\n",
       "      <td>intp</td>\n",
       "      <td>29</td>\n",
       "      <td>29</td>\n",
       "      <td>0.00000</td>\n",
       "      <td>False</td>\n",
       "      <td>I see it as 22,500 people working for about an...</td>\n",
       "      <td>en</td>\n",
       "      <td>2016-02</td>\n",
       "    </tr>\n",
       "    <tr>\n",
       "      <th>3</th>\n",
       "      <td>3</td>\n",
       "      <td>NaN</td>\n",
       "      <td>SWaspMale</td>\n",
       "      <td>NaN</td>\n",
       "      <td>0.0</td>\n",
       "      <td>1.508847e+09</td>\n",
       "      <td>t5_2cneq</td>\n",
       "      <td>t3_78eyz6</td>\n",
       "      <td>t1_dot9vvz</td>\n",
       "      <td>2.0</td>\n",
       "      <td>...</td>\n",
       "      <td>politics</td>\n",
       "      <td>0.0</td>\n",
       "      <td>intp</td>\n",
       "      <td>21</td>\n",
       "      <td>21</td>\n",
       "      <td>0.00000</td>\n",
       "      <td>False</td>\n",
       "      <td>Our President stands ready to ride his golf ca...</td>\n",
       "      <td>en</td>\n",
       "      <td>2017-10</td>\n",
       "    </tr>\n",
       "    <tr>\n",
       "      <th>4</th>\n",
       "      <td>4</td>\n",
       "      <td>NaN</td>\n",
       "      <td>SWaspMale</td>\n",
       "      <td>NaN</td>\n",
       "      <td>0.0</td>\n",
       "      <td>1.492797e+09</td>\n",
       "      <td>t5_2cneq</td>\n",
       "      <td>t3_66o9bu</td>\n",
       "      <td>t1_dgk8idx</td>\n",
       "      <td>1.0</td>\n",
       "      <td>...</td>\n",
       "      <td>politics</td>\n",
       "      <td>0.0</td>\n",
       "      <td>intp</td>\n",
       "      <td>54</td>\n",
       "      <td>47</td>\n",
       "      <td>0.12963</td>\n",
       "      <td>False</td>\n",
       "      <td>Some write that he was trying to say \"big leag...</td>\n",
       "      <td>en</td>\n",
       "      <td>2017-04</td>\n",
       "    </tr>\n",
       "  </tbody>\n",
       "</table>\n",
       "<p>5 rows × 23 columns</p>\n",
       "</div>"
      ],
      "text/plain": [
       "   Unnamed: 0 name           author author_flair_text  downs   created_utc  \\\n",
       "0           0  NaN  procrastablasta               NaN    0.0  1.479440e+09   \n",
       "1           1  NaN        SWaspMale               NaN    0.0  1.451479e+09   \n",
       "2           2  NaN        SWaspMale               NaN    0.0  1.454790e+09   \n",
       "3           3  NaN        SWaspMale               NaN    0.0  1.508847e+09   \n",
       "4           4  NaN        SWaspMale               NaN    0.0  1.492797e+09   \n",
       "\n",
       "  subreddit_id    link_id   parent_id  score  ...  subreddit  ups  type  \\\n",
       "0     t5_2cneq  t3_5dhlfi  t1_da568p7    1.0  ...   politics  0.0  enfp   \n",
       "1     t5_2cneq  t3_3ys15l   t3_3ys15l    5.0  ...   politics  5.0  intp   \n",
       "2     t5_2cneq  t3_44g0e0   t3_44g0e0    1.0  ...   politics  1.0  intp   \n",
       "3     t5_2cneq  t3_78eyz6  t1_dot9vvz    2.0  ...   politics  0.0  intp   \n",
       "4     t5_2cneq  t3_66o9bu  t1_dgk8idx    1.0  ...   politics  0.0  intp   \n",
       "\n",
       "  word_count  word_count_quoteless quote_to_text_ratio  is_mbti_related  \\\n",
       "0         72                    72             0.00000            False   \n",
       "1         25                    25             0.00000            False   \n",
       "2         29                    29             0.00000            False   \n",
       "3         21                    21             0.00000            False   \n",
       "4         54                    47             0.12963            False   \n",
       "\n",
       "                                             comment  lang     date  \n",
       "0  you really want to go down this path?  Would y...    en  2016-11  \n",
       "1  I think insurance companies do that.  Once you...    en  2015-12  \n",
       "2  I see it as 22,500 people working for about an...    en  2016-02  \n",
       "3  Our President stands ready to ride his golf ca...    en  2017-10  \n",
       "4  Some write that he was trying to say \"big leag...    en  2017-04  \n",
       "\n",
       "[5 rows x 23 columns]"
      ]
     },
     "execution_count": 13,
     "metadata": {},
     "output_type": "execute_result"
    }
   ],
   "source": [
    "df.head()"
   ]
  },
  {
   "cell_type": "code",
   "execution_count": 14,
   "metadata": {},
   "outputs": [
    {
     "data": {
      "text/plain": [
       "1925"
      ]
     },
     "execution_count": 14,
     "metadata": {},
     "output_type": "execute_result"
    }
   ],
   "source": [
    "df.author.nunique()"
   ]
  },
  {
   "cell_type": "code",
   "execution_count": 15,
   "metadata": {},
   "outputs": [],
   "source": [
    "import matplotlib.pyplot as plt"
   ]
  },
  {
   "cell_type": "code",
   "execution_count": 16,
   "metadata": {},
   "outputs": [],
   "source": [
    "sizes = np.array(df.author.value_counts().values)"
   ]
  },
  {
   "cell_type": "code",
   "execution_count": 17,
   "metadata": {},
   "outputs": [
    {
     "data": {
      "text/plain": [
       "[<matplotlib.lines.Line2D at 0x2424657c8b0>]"
      ]
     },
     "execution_count": 17,
     "metadata": {},
     "output_type": "execute_result"
    },
    {
     "data": {
      "image/png": "[encoded data removed]",
      "text/plain": [
       "<Figure size 432x288 with 1 Axes>"
      ]
     },
     "metadata": {
      "needs_background": "light"
     },
     "output_type": "display_data"
    }
   ],
   "source": [
    "plt.plot(np.array(df.author.value_counts().values))"
   ]
  },
  {
   "cell_type": "code",
   "execution_count": 18,
   "metadata": {},
   "outputs": [
    {
     "data": {
      "text/plain": [
       "Text(0, 0.5, 'Log_{e} of the number of comments')"
      ]
     },
     "execution_count": 18,
     "metadata": {},
     "output_type": "execute_result"
    },
    {
     "data": {
      "image/png": "[encoded data removed]",
      "text/plain": [
       "<Figure size 432x288 with 1 Axes>"
      ]
     },
     "metadata": {
      "needs_background": "light"
     },
     "output_type": "display_data"
    }
   ],
   "source": [
    "plt.plot(np.log(sizes))\n",
    "plt.xlabel(\"User rank\")\n",
    "plt.ylabel(\"Log_{e} of the number of comments\")"
   ]
  },
  {
   "cell_type": "code",
   "execution_count": 19,
   "metadata": {},
   "outputs": [
    {
     "data": {
      "text/plain": [
       "1"
      ]
     },
     "execution_count": 19,
     "metadata": {},
     "output_type": "execute_result"
    }
   ],
   "source": [
    "df.subreddit_id.nunique()"
   ]
  },
  {
   "cell_type": "code",
   "execution_count": 20,
   "metadata": {},
   "outputs": [
    {
     "data": {
      "text/plain": [
       "74794"
      ]
     },
     "execution_count": 20,
     "metadata": {},
     "output_type": "execute_result"
    }
   ],
   "source": [
    "df.parent_id.nunique()"
   ]
  },
  {
   "cell_type": "code",
   "execution_count": 21,
   "metadata": {},
   "outputs": [
    {
     "data": {
      "text/plain": [
       "23845"
      ]
     },
     "execution_count": 21,
     "metadata": {},
     "output_type": "execute_result"
    }
   ],
   "source": [
    "df.link_id.nunique()"
   ]
  },
  {
   "cell_type": "code",
   "execution_count": 22,
   "metadata": {},
   "outputs": [
    {
     "data": {
      "text/html": [
       "<div>\n",
       "<style scoped>\n",
       "    .dataframe tbody tr th:only-of-type {\n",
       "        vertical-align: middle;\n",
       "    }\n",
       "\n",
       "    .dataframe tbody tr th {\n",
       "        vertical-align: top;\n",
       "    }\n",
       "\n",
       "    .dataframe thead th {\n",
       "        text-align: right;\n",
       "    }\n",
       "</style>\n",
       "<table border=\"1\" class=\"dataframe\">\n",
       "  <thead>\n",
       "    <tr style=\"text-align: right;\">\n",
       "      <th></th>\n",
       "      <th>Unnamed: 0</th>\n",
       "      <th>name</th>\n",
       "      <th>author</th>\n",
       "      <th>author_flair_text</th>\n",
       "      <th>downs</th>\n",
       "      <th>created_utc</th>\n",
       "      <th>subreddit_id</th>\n",
       "      <th>link_id</th>\n",
       "      <th>parent_id</th>\n",
       "      <th>score</th>\n",
       "      <th>...</th>\n",
       "      <th>subreddit</th>\n",
       "      <th>ups</th>\n",
       "      <th>type</th>\n",
       "      <th>word_count</th>\n",
       "      <th>word_count_quoteless</th>\n",
       "      <th>quote_to_text_ratio</th>\n",
       "      <th>is_mbti_related</th>\n",
       "      <th>comment</th>\n",
       "      <th>lang</th>\n",
       "      <th>date</th>\n",
       "    </tr>\n",
       "  </thead>\n",
       "  <tbody>\n",
       "    <tr>\n",
       "      <th>0</th>\n",
       "      <td>0</td>\n",
       "      <td>NaN</td>\n",
       "      <td>procrastablasta</td>\n",
       "      <td>NaN</td>\n",
       "      <td>0.0</td>\n",
       "      <td>1.479440e+09</td>\n",
       "      <td>t5_2cneq</td>\n",
       "      <td>t3_5dhlfi</td>\n",
       "      <td>t1_da568p7</td>\n",
       "      <td>1.0</td>\n",
       "      <td>...</td>\n",
       "      <td>politics</td>\n",
       "      <td>0.0</td>\n",
       "      <td>enfp</td>\n",
       "      <td>72</td>\n",
       "      <td>72</td>\n",
       "      <td>0.000000</td>\n",
       "      <td>False</td>\n",
       "      <td>you really want to go down this path?  Would y...</td>\n",
       "      <td>en</td>\n",
       "      <td>2016-11</td>\n",
       "    </tr>\n",
       "    <tr>\n",
       "      <th>1</th>\n",
       "      <td>1</td>\n",
       "      <td>NaN</td>\n",
       "      <td>SWaspMale</td>\n",
       "      <td>NaN</td>\n",
       "      <td>0.0</td>\n",
       "      <td>1.451479e+09</td>\n",
       "      <td>t5_2cneq</td>\n",
       "      <td>t3_3ys15l</td>\n",
       "      <td>t3_3ys15l</td>\n",
       "      <td>5.0</td>\n",
       "      <td>...</td>\n",
       "      <td>politics</td>\n",
       "      <td>5.0</td>\n",
       "      <td>intp</td>\n",
       "      <td>25</td>\n",
       "      <td>25</td>\n",
       "      <td>0.000000</td>\n",
       "      <td>False</td>\n",
       "      <td>I think insurance companies do that.  Once you...</td>\n",
       "      <td>en</td>\n",
       "      <td>2015-12</td>\n",
       "    </tr>\n",
       "    <tr>\n",
       "      <th>2</th>\n",
       "      <td>2</td>\n",
       "      <td>NaN</td>\n",
       "      <td>SWaspMale</td>\n",
       "      <td>NaN</td>\n",
       "      <td>0.0</td>\n",
       "      <td>1.454790e+09</td>\n",
       "      <td>t5_2cneq</td>\n",
       "      <td>t3_44g0e0</td>\n",
       "      <td>t3_44g0e0</td>\n",
       "      <td>1.0</td>\n",
       "      <td>...</td>\n",
       "      <td>politics</td>\n",
       "      <td>1.0</td>\n",
       "      <td>intp</td>\n",
       "      <td>29</td>\n",
       "      <td>29</td>\n",
       "      <td>0.000000</td>\n",
       "      <td>False</td>\n",
       "      <td>I see it as 22,500 people working for about an...</td>\n",
       "      <td>en</td>\n",
       "      <td>2016-02</td>\n",
       "    </tr>\n",
       "    <tr>\n",
       "      <th>3</th>\n",
       "      <td>3</td>\n",
       "      <td>NaN</td>\n",
       "      <td>SWaspMale</td>\n",
       "      <td>NaN</td>\n",
       "      <td>0.0</td>\n",
       "      <td>1.508847e+09</td>\n",
       "      <td>t5_2cneq</td>\n",
       "      <td>t3_78eyz6</td>\n",
       "      <td>t1_dot9vvz</td>\n",
       "      <td>2.0</td>\n",
       "      <td>...</td>\n",
       "      <td>politics</td>\n",
       "      <td>0.0</td>\n",
       "      <td>intp</td>\n",
       "      <td>21</td>\n",
       "      <td>21</td>\n",
       "      <td>0.000000</td>\n",
       "      <td>False</td>\n",
       "      <td>Our President stands ready to ride his golf ca...</td>\n",
       "      <td>en</td>\n",
       "      <td>2017-10</td>\n",
       "    </tr>\n",
       "    <tr>\n",
       "      <th>4</th>\n",
       "      <td>4</td>\n",
       "      <td>NaN</td>\n",
       "      <td>SWaspMale</td>\n",
       "      <td>NaN</td>\n",
       "      <td>0.0</td>\n",
       "      <td>1.492797e+09</td>\n",
       "      <td>t5_2cneq</td>\n",
       "      <td>t3_66o9bu</td>\n",
       "      <td>t1_dgk8idx</td>\n",
       "      <td>1.0</td>\n",
       "      <td>...</td>\n",
       "      <td>politics</td>\n",
       "      <td>0.0</td>\n",
       "      <td>intp</td>\n",
       "      <td>54</td>\n",
       "      <td>47</td>\n",
       "      <td>0.129630</td>\n",
       "      <td>False</td>\n",
       "      <td>Some write that he was trying to say \"big leag...</td>\n",
       "      <td>en</td>\n",
       "      <td>2017-04</td>\n",
       "    </tr>\n",
       "    <tr>\n",
       "      <th>...</th>\n",
       "      <td>...</td>\n",
       "      <td>...</td>\n",
       "      <td>...</td>\n",
       "      <td>...</td>\n",
       "      <td>...</td>\n",
       "      <td>...</td>\n",
       "      <td>...</td>\n",
       "      <td>...</td>\n",
       "      <td>...</td>\n",
       "      <td>...</td>\n",
       "      <td>...</td>\n",
       "      <td>...</td>\n",
       "      <td>...</td>\n",
       "      <td>...</td>\n",
       "      <td>...</td>\n",
       "      <td>...</td>\n",
       "      <td>...</td>\n",
       "      <td>...</td>\n",
       "      <td>...</td>\n",
       "      <td>...</td>\n",
       "      <td>...</td>\n",
       "    </tr>\n",
       "    <tr>\n",
       "      <th>76656</th>\n",
       "      <td>107537</td>\n",
       "      <td>NaN</td>\n",
       "      <td>TheGreasyPole</td>\n",
       "      <td>Foreign</td>\n",
       "      <td>0.0</td>\n",
       "      <td>1.507918e+09</td>\n",
       "      <td>t5_2cneq</td>\n",
       "      <td>t3_764ihr</td>\n",
       "      <td>t1_dobkwtg</td>\n",
       "      <td>9.0</td>\n",
       "      <td>...</td>\n",
       "      <td>politics</td>\n",
       "      <td>0.0</td>\n",
       "      <td>esfj</td>\n",
       "      <td>65</td>\n",
       "      <td>51</td>\n",
       "      <td>0.215385</td>\n",
       "      <td>False</td>\n",
       "      <td>John Kerry was a coward who didn't deserve his...</td>\n",
       "      <td>en</td>\n",
       "      <td>2017-10</td>\n",
       "    </tr>\n",
       "    <tr>\n",
       "      <th>76657</th>\n",
       "      <td>107538</td>\n",
       "      <td>NaN</td>\n",
       "      <td>TheGreasyPole</td>\n",
       "      <td>Foreign</td>\n",
       "      <td>0.0</td>\n",
       "      <td>1.508098e+09</td>\n",
       "      <td>t5_2cneq</td>\n",
       "      <td>t3_76i8oa</td>\n",
       "      <td>t1_doedg60</td>\n",
       "      <td>1.0</td>\n",
       "      <td>...</td>\n",
       "      <td>politics</td>\n",
       "      <td>0.0</td>\n",
       "      <td>esfj</td>\n",
       "      <td>65</td>\n",
       "      <td>39</td>\n",
       "      <td>0.400000</td>\n",
       "      <td>False</td>\n",
       "      <td>Kevin Drum has already run the numbers and don...</td>\n",
       "      <td>en</td>\n",
       "      <td>2017-10</td>\n",
       "    </tr>\n",
       "    <tr>\n",
       "      <th>76658</th>\n",
       "      <td>107539</td>\n",
       "      <td>NaN</td>\n",
       "      <td>chasingstatues</td>\n",
       "      <td>NaN</td>\n",
       "      <td>0.0</td>\n",
       "      <td>1.508437e+09</td>\n",
       "      <td>t5_2cneq</td>\n",
       "      <td>t3_77ee4k</td>\n",
       "      <td>t1_doldxcj</td>\n",
       "      <td>-4.0</td>\n",
       "      <td>...</td>\n",
       "      <td>politics</td>\n",
       "      <td>0.0</td>\n",
       "      <td>esfj</td>\n",
       "      <td>95</td>\n",
       "      <td>94</td>\n",
       "      <td>0.010526</td>\n",
       "      <td>False</td>\n",
       "      <td>I mean, can we not acknowledge that Donald Tru...</td>\n",
       "      <td>en</td>\n",
       "      <td>2017-10</td>\n",
       "    </tr>\n",
       "    <tr>\n",
       "      <th>76659</th>\n",
       "      <td>107540</td>\n",
       "      <td>NaN</td>\n",
       "      <td>chasingstatues</td>\n",
       "      <td>NaN</td>\n",
       "      <td>0.0</td>\n",
       "      <td>1.508468e+09</td>\n",
       "      <td>t5_2cneq</td>\n",
       "      <td>t3_77ee4k</td>\n",
       "      <td>t1_dom5vsf</td>\n",
       "      <td>0.0</td>\n",
       "      <td>...</td>\n",
       "      <td>politics</td>\n",
       "      <td>0.0</td>\n",
       "      <td>esfj</td>\n",
       "      <td>26</td>\n",
       "      <td>16</td>\n",
       "      <td>0.384615</td>\n",
       "      <td>False</td>\n",
       "      <td>Well the comment I was responding to said this...</td>\n",
       "      <td>en</td>\n",
       "      <td>2017-10</td>\n",
       "    </tr>\n",
       "    <tr>\n",
       "      <th>76660</th>\n",
       "      <td>107541</td>\n",
       "      <td>NaN</td>\n",
       "      <td>TheGreasyPole</td>\n",
       "      <td>Foreign</td>\n",
       "      <td>0.0</td>\n",
       "      <td>1.508623e+09</td>\n",
       "      <td>t5_2cneq</td>\n",
       "      <td>t3_77ti54</td>\n",
       "      <td>t1_doood81</td>\n",
       "      <td>0.0</td>\n",
       "      <td>...</td>\n",
       "      <td>politics</td>\n",
       "      <td>0.0</td>\n",
       "      <td>esfj</td>\n",
       "      <td>28</td>\n",
       "      <td>27</td>\n",
       "      <td>0.035714</td>\n",
       "      <td>False</td>\n",
       "      <td>I'm not sure how easy it would be to sneak a w...</td>\n",
       "      <td>en</td>\n",
       "      <td>2017-10</td>\n",
       "    </tr>\n",
       "  </tbody>\n",
       "</table>\n",
       "<p>76659 rows × 23 columns</p>\n",
       "</div>"
      ],
      "text/plain": [
       "       Unnamed: 0 name           author author_flair_text  downs  \\\n",
       "0               0  NaN  procrastablasta               NaN    0.0   \n",
       "1               1  NaN        SWaspMale               NaN    0.0   \n",
       "2               2  NaN        SWaspMale               NaN    0.0   \n",
       "3               3  NaN        SWaspMale               NaN    0.0   \n",
       "4               4  NaN        SWaspMale               NaN    0.0   \n",
       "...           ...  ...              ...               ...    ...   \n",
       "76656      107537  NaN    TheGreasyPole           Foreign    0.0   \n",
       "76657      107538  NaN    TheGreasyPole           Foreign    0.0   \n",
       "76658      107539  NaN   chasingstatues               NaN    0.0   \n",
       "76659      107540  NaN   chasingstatues               NaN    0.0   \n",
       "76660      107541  NaN    TheGreasyPole           Foreign    0.0   \n",
       "\n",
       "        created_utc subreddit_id    link_id   parent_id  score  ...  \\\n",
       "0      1.479440e+09     t5_2cneq  t3_5dhlfi  t1_da568p7    1.0  ...   \n",
       "1      1.451479e+09     t5_2cneq  t3_3ys15l   t3_3ys15l    5.0  ...   \n",
       "2      1.454790e+09     t5_2cneq  t3_44g0e0   t3_44g0e0    1.0  ...   \n",
       "3      1.508847e+09     t5_2cneq  t3_78eyz6  t1_dot9vvz    2.0  ...   \n",
       "4      1.492797e+09     t5_2cneq  t3_66o9bu  t1_dgk8idx    1.0  ...   \n",
       "...             ...          ...        ...         ...    ...  ...   \n",
       "76656  1.507918e+09     t5_2cneq  t3_764ihr  t1_dobkwtg    9.0  ...   \n",
       "76657  1.508098e+09     t5_2cneq  t3_76i8oa  t1_doedg60    1.0  ...   \n",
       "76658  1.508437e+09     t5_2cneq  t3_77ee4k  t1_doldxcj   -4.0  ...   \n",
       "76659  1.508468e+09     t5_2cneq  t3_77ee4k  t1_dom5vsf    0.0  ...   \n",
       "76660  1.508623e+09     t5_2cneq  t3_77ti54  t1_doood81    0.0  ...   \n",
       "\n",
       "       subreddit  ups  type word_count  word_count_quoteless  \\\n",
       "0       politics  0.0  enfp         72                    72   \n",
       "1       politics  5.0  intp         25                    25   \n",
       "2       politics  1.0  intp         29                    29   \n",
       "3       politics  0.0  intp         21                    21   \n",
       "4       politics  0.0  intp         54                    47   \n",
       "...          ...  ...   ...        ...                   ...   \n",
       "76656   politics  0.0  esfj         65                    51   \n",
       "76657   politics  0.0  esfj         65                    39   \n",
       "76658   politics  0.0  esfj         95                    94   \n",
       "76659   politics  0.0  esfj         26                    16   \n",
       "76660   politics  0.0  esfj         28                    27   \n",
       "\n",
       "      quote_to_text_ratio  is_mbti_related  \\\n",
       "0                0.000000            False   \n",
       "1                0.000000            False   \n",
       "2                0.000000            False   \n",
       "3                0.000000            False   \n",
       "4                0.129630            False   \n",
       "...                   ...              ...   \n",
       "76656            0.215385            False   \n",
       "76657            0.400000            False   \n",
       "76658            0.010526            False   \n",
       "76659            0.384615            False   \n",
       "76660            0.035714            False   \n",
       "\n",
       "                                                 comment  lang     date  \n",
       "0      you really want to go down this path?  Would y...    en  2016-11  \n",
       "1      I think insurance companies do that.  Once you...    en  2015-12  \n",
       "2      I see it as 22,500 people working for about an...    en  2016-02  \n",
       "3      Our President stands ready to ride his golf ca...    en  2017-10  \n",
       "4      Some write that he was trying to say \"big leag...    en  2017-04  \n",
       "...                                                  ...   ...      ...  \n",
       "76656  John Kerry was a coward who didn't deserve his...    en  2017-10  \n",
       "76657  Kevin Drum has already run the numbers and don...    en  2017-10  \n",
       "76658  I mean, can we not acknowledge that Donald Tru...    en  2017-10  \n",
       "76659  Well the comment I was responding to said this...    en  2017-10  \n",
       "76660  I'm not sure how easy it would be to sneak a w...    en  2017-10  \n",
       "\n",
       "[76659 rows x 23 columns]"
      ]
     },
     "execution_count": 22,
     "metadata": {},
     "output_type": "execute_result"
    }
   ],
   "source": [
    "df"
   ]
  },
  {
   "cell_type": "code",
   "execution_count": 23,
   "metadata": {},
   "outputs": [
    {
     "data": {
      "text/plain": [
       "'2016-11'"
      ]
     },
     "execution_count": 23,
     "metadata": {},
     "output_type": "execute_result"
    }
   ],
   "source": [
    "datetime.strftime(datetime.utcfromtimestamp(df['created_utc'].iloc[0]), '%Y-%m')"
   ]
  },
  {
   "cell_type": "code",
   "execution_count": 24,
   "metadata": {},
   "outputs": [
    {
     "data": {
      "text/plain": [
       "\"Yes. Saying what's on your mind might not be polite, but you can't tell me you've never thought of punching somebody in the face. A mean teacher, your dad, some asshole at the supermarket, a bitch ex-girlfriend. Doesn't mean you did it, or would even do it. But boy would you like to be able to.Transcending these feelings is what makes us a better species than others, let's not forget that. Denying you have these feelings is lying to yourself and others.\""
      ]
     },
     "execution_count": 24,
     "metadata": {},
     "output_type": "execute_result"
    }
   ],
   "source": [
    "df['comment'].iloc[20]"
   ]
  },
  {
   "cell_type": "code",
   "execution_count": 25,
   "metadata": {},
   "outputs": [
    {
     "data": {
      "text/plain": [
       "0.0"
      ]
     },
     "execution_count": 25,
     "metadata": {},
     "output_type": "execute_result"
    }
   ],
   "source": [
    "df['is_mbti_related'].mean()"
   ]
  },
  {
   "cell_type": "code",
   "execution_count": 26,
   "metadata": {},
   "outputs": [
    {
     "data": {
      "text/plain": [
       "Index(['Unnamed: 0', 'name', 'author', 'author_flair_text', 'downs',\n",
       "       'created_utc', 'subreddit_id', 'link_id', 'parent_id', 'score',\n",
       "       'controversiality', 'gilded', 'id', 'subreddit', 'ups', 'type',\n",
       "       'word_count', 'word_count_quoteless', 'quote_to_text_ratio',\n",
       "       'is_mbti_related', 'comment', 'lang', 'date'],\n",
       "      dtype='object')"
      ]
     },
     "execution_count": 26,
     "metadata": {},
     "output_type": "execute_result"
    }
   ],
   "source": [
    "df.columns"
   ]
  },
  {
   "cell_type": "code",
   "execution_count": 27,
   "metadata": {},
   "outputs": [],
   "source": [
    "# Define dictionary for particle look-up\n",
    "p2id = {'over': 0, 'back': 1, 'around': 2, 'out': 3}\n",
    "\n",
    "# Define dictionary for reverse particle look-up\n",
    "id2p = {v: k for k, v in p2id.items()}\n"
   ]
  },
  {
   "cell_type": "code",
   "execution_count": 28,
   "metadata": {},
   "outputs": [],
   "source": [
    "# Define dictionary for particle look-up\n",
    "p2id = {'over': 0, 'back': 1, 'around': 2, 'out': 3}\n",
    "\n",
    "# Define dictionary for reverse particle look-up\n",
    "id2p = {v: k for k, v in p2id.items()}\n",
    "\n",
    "# Initialize lists for storing contexts around particles\n",
    "sent_1 = list()\n",
    "sent_2 = list()\n",
    "\n",
    "# Initialize list for storing labels\n",
    "labels = list()\n",
    "\n",
    "# Loop over comments\n",
    "for c in df.comment:\n",
    "    \n",
    "    # Loop over individual sentences\n",
    "    for s in sent_tokenize(c):\n",
    "        \n",
    "        # Clean and split sentence\n",
    "        split = clean(s)\n",
    "        \n",
    "        if len(split) < 10:\n",
    "            continue\n",
    "        \n",
    "        # Add sentence to list if only one particle in sentence\n",
    "        if len([w for w in split if w in p2id]) == 1:\n",
    "            \n",
    "            # Identify particle\n",
    "            p = [w for w in split if w in p2id][0]\n",
    "\n",
    "            # Store contexts and label\n",
    "            sent_1.append(split[:split.index(p)])\n",
    "            sent_2.append(split[split.index(p) + 1:])\n",
    "            labels.append(p)"
   ]
  },
  {
   "cell_type": "code",
   "execution_count": 104,
   "metadata": {},
   "outputs": [
    {
     "data": {
      "text/plain": [
       "['this',\n",
       " 'subreddit',\n",
       " 'views',\n",
       " 'things',\n",
       " 'too',\n",
       " 'black',\n",
       " 'and',\n",
       " 'whitetheres',\n",
       " 'more',\n",
       " 'races']"
      ]
     },
     "execution_count": 104,
     "metadata": {},
     "output_type": "execute_result"
    }
   ],
   "source": [
    "sent_1[2]"
   ]
  },
  {
   "cell_type": "code",
   "execution_count": 29,
   "metadata": {},
   "outputs": [],
   "source": [
    "# Create dataframe with contexts and labels and perform stratified sampling\n",
    "p_df = pd.DataFrame({'sent_1': sent_1, 'sent_2': sent_2, 'label': labels})[['sent_1', 'sent_2', 'label']]\n",
    "p_df = p_df.groupby('label', group_keys=False).apply(lambda x: x.sample(n=1500, random_state=0)).reset_index(drop=True)"
   ]
  },
  {
   "cell_type": "code",
   "execution_count": 30,
   "metadata": {},
   "outputs": [],
   "source": [
    "# Split dataframe into training, evaluation, and test data\n",
    "train, dev_test = train_test_split(p_df, test_size=0.2, stratify=p_df['label'], random_state=0)\n",
    "dev, test = train_test_split(dev_test, test_size=0.5, stratify=dev_test['label'], random_state=0)"
   ]
  },
  {
   "cell_type": "markdown",
   "metadata": {},
   "source": [
    "### Part I: Additional changes"
   ]
  },
  {
   "cell_type": "code",
   "execution_count": 31,
   "metadata": {},
   "outputs": [
    {
     "data": {
      "text/html": [
       "<div>\n",
       "<style scoped>\n",
       "    .dataframe tbody tr th:only-of-type {\n",
       "        vertical-align: middle;\n",
       "    }\n",
       "\n",
       "    .dataframe tbody tr th {\n",
       "        vertical-align: top;\n",
       "    }\n",
       "\n",
       "    .dataframe thead th {\n",
       "        text-align: right;\n",
       "    }\n",
       "</style>\n",
       "<table border=\"1\" class=\"dataframe\">\n",
       "  <thead>\n",
       "    <tr style=\"text-align: right;\">\n",
       "      <th></th>\n",
       "      <th>sent_1</th>\n",
       "      <th>sent_2</th>\n",
       "      <th>label</th>\n",
       "    </tr>\n",
       "  </thead>\n",
       "  <tbody>\n",
       "    <tr>\n",
       "      <th>1118</th>\n",
       "      <td>[sandy, had]</td>\n",
       "      <td>[100b, in, funding, and, it, affected, way, mo...</td>\n",
       "      <td>around</td>\n",
       "    </tr>\n",
       "    <tr>\n",
       "      <th>852</th>\n",
       "      <td>[so, once, shes, there, theres, no, reason, to...</td>\n",
       "      <td>[even, if, you, buy, into, the, fallacy, that,...</td>\n",
       "      <td>around</td>\n",
       "    </tr>\n",
       "    <tr>\n",
       "      <th>1431</th>\n",
       "      <td>[as, a, result, they, gained, extraterritorial...</td>\n",
       "      <td>[the, world]</td>\n",
       "      <td>around</td>\n",
       "    </tr>\n",
       "    <tr>\n",
       "      <th>4981</th>\n",
       "      <td>[theyre, the, ones, paying, all, these, politi...</td>\n",
       "      <td>[so, they, can, price, gouge, necessities, for...</td>\n",
       "      <td>over</td>\n",
       "    </tr>\n",
       "    <tr>\n",
       "      <th>3221</th>\n",
       "      <td>[payment, for, class, a, drugs, , 1mhowever, w...</td>\n",
       "      <td>[]</td>\n",
       "      <td>out</td>\n",
       "    </tr>\n",
       "  </tbody>\n",
       "</table>\n",
       "</div>"
      ],
      "text/plain": [
       "                                                 sent_1  \\\n",
       "1118                                       [sandy, had]   \n",
       "852   [so, once, shes, there, theres, no, reason, to...   \n",
       "1431  [as, a, result, they, gained, extraterritorial...   \n",
       "4981  [theyre, the, ones, paying, all, these, politi...   \n",
       "3221  [payment, for, class, a, drugs, , 1mhowever, w...   \n",
       "\n",
       "                                                 sent_2   label  \n",
       "1118  [100b, in, funding, and, it, affected, way, mo...  around  \n",
       "852   [even, if, you, buy, into, the, fallacy, that,...  around  \n",
       "1431                                       [the, world]  around  \n",
       "4981  [so, they, can, price, gouge, necessities, for...    over  \n",
       "3221                                                 []     out  "
      ]
     },
     "execution_count": 31,
     "metadata": {},
     "output_type": "execute_result"
    }
   ],
   "source": [
    "train.head()"
   ]
  },
  {
   "cell_type": "code",
   "execution_count": 32,
   "metadata": {},
   "outputs": [],
   "source": [
    "# Create a dictionary for word look up\n",
    "word_counter = Counter([w for s in train.sent_1 for w in s] + [w for s in train.sent_2 for w in s])\n",
    "w2id = {w: i + 2 for i, w in enumerate(w for w, c in word_counter.most_common())}"
   ]
  },
  {
   "cell_type": "code",
   "execution_count": 109,
   "metadata": {},
   "outputs": [
    {
     "data": {
      "text/plain": [
       "12853"
      ]
     },
     "execution_count": 109,
     "metadata": {},
     "output_type": "execute_result"
    }
   ],
   "source": [
    "len(w2id)"
   ]
  },
  {
   "cell_type": "code",
   "execution_count": 33,
   "metadata": {},
   "outputs": [],
   "source": [
    "id2w = {i:w for w, i in w2id.items()}"
   ]
  },
  {
   "cell_type": "code",
   "execution_count": 34,
   "metadata": {},
   "outputs": [],
   "source": [
    "def encode(sent, w2id):\n",
    "    return [w2id[w] if w in w2id else 1 for w in sent]"
   ]
  },
  {
   "cell_type": "code",
   "execution_count": 111,
   "metadata": {},
   "outputs": [
    {
     "data": {
      "text/plain": [
       "[93, 165, 2844, 1227, 3, 2772, 49, 1730, 4721]"
      ]
     },
     "execution_count": 111,
     "metadata": {},
     "output_type": "execute_result"
    }
   ],
   "source": [
    "encode(sent_1[0], w2id)"
   ]
  },
  {
   "cell_type": "code",
   "execution_count": 112,
   "metadata": {},
   "outputs": [
    {
     "data": {
      "text/plain": [
       "['our', 'president', 'stands', 'ready', 'to', 'ride', 'his', 'golf', 'cart']"
      ]
     },
     "execution_count": 112,
     "metadata": {},
     "output_type": "execute_result"
    }
   ],
   "source": [
    "sent_1[0]"
   ]
  },
  {
   "cell_type": "code",
   "execution_count": 35,
   "metadata": {},
   "outputs": [],
   "source": [
    "sent = train.sent_1.iloc[1]"
   ]
  },
  {
   "cell_type": "code",
   "execution_count": 36,
   "metadata": {},
   "outputs": [],
   "source": [
    "def pad(sent):\n",
    "    if len(sent) > 5:\n",
    "        sent = sent[-5:]\n",
    "    elif len(sent) < 5:\n",
    "        sent = [0] * (5 - len(sent)) + sent\n",
    "    return sent"
   ]
  },
  {
   "cell_type": "code",
   "execution_count": 37,
   "metadata": {},
   "outputs": [
    {
     "data": {
      "text/plain": [
       "[0, 0, 0, 'the', 'world']"
      ]
     },
     "execution_count": 37,
     "metadata": {},
     "output_type": "execute_result"
    }
   ],
   "source": [
    "pad(train.sent_2.iloc[2])"
   ]
  },
  {
   "cell_type": "code",
   "execution_count": 38,
   "metadata": {},
   "outputs": [
    {
     "data": {
      "text/plain": [
       "['the', 'world']"
      ]
     },
     "execution_count": 38,
     "metadata": {},
     "output_type": "execute_result"
    }
   ],
   "source": [
    "train.sent_2.iloc[2]"
   ]
  },
  {
   "cell_type": "code",
   "execution_count": 39,
   "metadata": {},
   "outputs": [],
   "source": [
    "# Encode sentences \n",
    "\n",
    "for data in [train, dev, test]:\n",
    "    \n",
    "    # Encode and pad left contexts\n",
    "    data['enc_1'] = data.sent_1.apply(lambda x: pad(encode(x, w2id)))\n",
    "    \n",
    "    # Encode and pad right contexts\n",
    "    data['enc_2'] = data.sent_2.apply(lambda x: pad(encode(x, w2id)[::-1]))"
   ]
  },
  {
   "cell_type": "code",
   "execution_count": 40,
   "metadata": {},
   "outputs": [
    {
     "data": {
      "text/plain": [
       "2"
      ]
     },
     "execution_count": 40,
     "metadata": {},
     "output_type": "execute_result"
    }
   ],
   "source": [
    "w2id['the']"
   ]
  },
  {
   "cell_type": "code",
   "execution_count": 41,
   "metadata": {},
   "outputs": [
    {
     "data": {
      "text/plain": [
       "sent_1    [as, a, result, they, gained, extraterritorial...\n",
       "sent_2                                         [the, world]\n",
       "label                                                around\n",
       "enc_1                             [745, 371, 3920, 8, 2504]\n",
       "enc_2                                     [0, 0, 0, 131, 2]\n",
       "Name: 1431, dtype: object"
      ]
     },
     "execution_count": 41,
     "metadata": {},
     "output_type": "execute_result"
    }
   ],
   "source": [
    "train.loc[1431]"
   ]
  },
  {
   "cell_type": "code",
   "execution_count": 42,
   "metadata": {},
   "outputs": [],
   "source": [
    "def train_classifier(classifier, train_x, train_y, dev_x, dev_y, test_x, test_y, device):\n",
    "    \n",
    "    # Define training objective\n",
    "    criterion = nn.CrossEntropyLoss()\n",
    "    \n",
    "    # Define optimizer\n",
    "    optimizer = optim.Adam(classifier.parameters(), lr = 0.01)\n",
    "    \n",
    "    # Move model and data to CUDA\n",
    "    classifier = classifier.to(device)\n",
    "    [train_x, train_y, dev_x, dev_y, test_x, test_y] = [data.to(device) for data in [train_x, train_y, dev_x, dev_y, test_x, test_y]]\n",
    "    \n",
    "    for epoch in range(1,21):\n",
    "        \n",
    "        # Perform forward pass\n",
    "        classifier.train()  # <-- how does this work?? What data is he training on?\n",
    "        optimizer.zero_grad()\n",
    "        output = classifier(train_x)\n",
    "        loss = criterion(output, train_y)\n",
    "        \n",
    "        # Backprop\n",
    "        loss.backward()\n",
    "        \n",
    "        # Update model weights\n",
    "        optimizer.step()\n",
    "        \n",
    "        # Evaluate model every fifth epoch\n",
    "        if epoch % 5 == 0:\n",
    "            \n",
    "            classifier.eval() # Set classifier to evaluation model\n",
    "            \n",
    "            with torch.no_grad():\n",
    "                \n",
    "                # Perform forward pass\n",
    "                output = classifier(dev_x)\n",
    "                \n",
    "                # Make prediction\n",
    "                max_output = output.argmax(dim=1, keepdim = True)\n",
    "                \n",
    "                # Compute accuracy\n",
    "                acc = max_output.squeeze(1).eq(dev_y).sum() / torch.FloatTensor([dev_y.shape[0]])\n",
    "                \n",
    "                print(\"Accuracy on the dev data after {:02d} epochs: {:.4f}\".format(epoch, acc.data.item()))\n",
    "        \n",
    "    # Test model\n",
    "    classifier.eval()\n",
    "    \n",
    "    with torch.no_grad():\n",
    "        \n",
    "        # Perform forward pass    \n",
    "        output = classifier(test_x)\n",
    "        \n",
    "        # Make predcton\n",
    "        max_output = output.argmax(dim=1, keepdim=True)\n",
    "        \n",
    "        # Compute accuracy\n",
    "        acc = max_output.squeeze(1).eq(test_y).sum() / torch.FloatTensor([test_y.shape[0]])\n",
    "        \n",
    "        print('Accuracy on test data: {:.4f}'.format(acc.data.item()))\n",
    "\n",
    "    return acc.data.item(), [l.item() for l in test_y], [p.item() for p in max_output]"
   ]
  },
  {
   "cell_type": "code",
   "execution_count": 43,
   "metadata": {},
   "outputs": [
    {
     "name": "stderr",
     "output_type": "stream",
     "text": [
      "C:\\Users\\Paulius\\anaconda3\\lib\\site-packages\\torch\\cuda\\__init__.py:52: UserWarning: CUDA initialization: Found no NVIDIA driver on your system. Please check that you have an NVIDIA GPU and installed a driver from http://www.nvidia.com/Download/index.aspx (Triggered internally at  ..\\c10\\cuda\\CUDAFunctions.cpp:100.)\n",
      "  return torch._C._cuda_getDeviceCount() > 0\n"
     ]
    }
   ],
   "source": [
    "# Define device\n",
    "device = torch.device('cuda' if torch.cuda.is_available() else 'cpu')"
   ]
  },
  {
   "cell_type": "code",
   "execution_count": 44,
   "metadata": {},
   "outputs": [
    {
     "data": {
      "text/plain": [
       "device(type='cpu')"
      ]
     },
     "execution_count": 44,
     "metadata": {},
     "output_type": "execute_result"
    }
   ],
   "source": [
    "device"
   ]
  },
  {
   "cell_type": "markdown",
   "metadata": {},
   "source": [
    "### Part II: Logistic Regression Classifier"
   ]
  },
  {
   "cell_type": "code",
   "execution_count": 45,
   "metadata": {},
   "outputs": [],
   "source": [
    "class LRClassifier(nn.Module):\n",
    "    \n",
    "    def __init__(self, input_dim, output_dim):\n",
    "        \n",
    "        super(LRClassifier, self).__init__()\n",
    "        self.linear = nn.Linear(input_dim, output_dim)\n",
    "        \n",
    "    def forward(self, x):\n",
    "        return self.linear(x)"
   ]
  },
  {
   "cell_type": "code",
   "execution_count": 46,
   "metadata": {},
   "outputs": [],
   "source": [
    "def sent2sparse(sent1, sent2, vocab):\n",
    "    counter = Counter(sent1 + sent2)\n",
    "    return [counter[w] for w in sorted(vocab)[:5000]]"
   ]
  },
  {
   "cell_type": "code",
   "execution_count": 117,
   "metadata": {},
   "outputs": [
    {
     "data": {
      "text/plain": [
       "['our', 'president', 'stands', 'ready', 'to', 'ride', 'his', 'golf', 'cart']"
      ]
     },
     "execution_count": 117,
     "metadata": {},
     "output_type": "execute_result"
    }
   ],
   "source": [
    "sent_1[0]"
   ]
  },
  {
   "cell_type": "code",
   "execution_count": 120,
   "metadata": {},
   "outputs": [
    {
     "data": {
      "text/plain": [
       "5000"
      ]
     },
     "execution_count": 120,
     "metadata": {},
     "output_type": "execute_result"
    }
   ],
   "source": [
    "len(sent2sparse(encode(sent_1[0], w2id), sent_2[0], vocab))"
   ]
  },
  {
   "cell_type": "code",
   "execution_count": 47,
   "metadata": {},
   "outputs": [],
   "source": [
    "vocab = id2w.keys()"
   ]
  },
  {
   "cell_type": "code",
   "execution_count": 48,
   "metadata": {},
   "outputs": [
    {
     "data": {
      "text/plain": [
       "['so', 'once', 'shes', 'there', 'theres', 'no', 'reason', 'to', 'keep', 'it']"
      ]
     },
     "execution_count": 48,
     "metadata": {},
     "output_type": "execute_result"
    }
   ],
   "source": [
    "sent"
   ]
  },
  {
   "cell_type": "code",
   "execution_count": 49,
   "metadata": {},
   "outputs": [],
   "source": [
    "sent1 = train.sent_1.loc[0]\n",
    "sent2 = train.sent_2.loc[0]"
   ]
  },
  {
   "cell_type": "code",
   "execution_count": 50,
   "metadata": {},
   "outputs": [],
   "source": [
    "# Define hyperparameters\n",
    "input_dim = 5000\n",
    "output_dim = 4"
   ]
  },
  {
   "cell_type": "code",
   "execution_count": 51,
   "metadata": {},
   "outputs": [],
   "source": [
    "# Define a range of context window sizes"
   ]
  },
  {
   "cell_type": "code",
   "execution_count": 52,
   "metadata": {},
   "outputs": [],
   "source": [
    "k = 1"
   ]
  },
  {
   "cell_type": "code",
   "execution_count": 53,
   "metadata": {},
   "outputs": [
    {
     "data": {
      "text/plain": [
       "1118      [11, 4, 1051, 8, 5248]\n",
       "852        [91, 465, 13, 22, 72]\n",
       "1431           [0, 0, 0, 131, 2]\n",
       "4981    [9339, 1625, 50, 14, 32]\n",
       "3221             [0, 0, 0, 0, 0]\n",
       "                  ...           \n",
       "5757       [0, 2607, 172, 2, 16]\n",
       "2982         [61, 8, 1514, 2, 3]\n",
       "3808     [2355, 5, 8, 47, 12852]\n",
       "1447    [861, 21, 46, 12853, 53]\n",
       "662          [0, 0, 0, 0, 12854]\n",
       "Name: enc_2, Length: 4800, dtype: object"
      ]
     },
     "execution_count": 53,
     "metadata": {},
     "output_type": "execute_result"
    }
   ],
   "source": [
    "train.enc_2"
   ]
  },
  {
   "cell_type": "code",
   "execution_count": 54,
   "metadata": {},
   "outputs": [
    {
     "data": {
      "text/plain": [
       "1118     [5248]\n",
       "852        [72]\n",
       "1431        [2]\n",
       "4981       [32]\n",
       "3221        [0]\n",
       "         ...   \n",
       "5757       [16]\n",
       "2982        [3]\n",
       "3808    [12852]\n",
       "1447       [53]\n",
       "662     [12854]\n",
       "Name: enc_2, Length: 4800, dtype: object"
      ]
     },
     "execution_count": 54,
     "metadata": {},
     "output_type": "execute_result"
    }
   ],
   "source": [
    "train.enc_2.map(lambda x: x[-1:])"
   ]
  },
  {
   "cell_type": "code",
   "execution_count": 55,
   "metadata": {},
   "outputs": [],
   "source": [
    "vocab = list(id2w.keys())"
   ]
  },
  {
   "cell_type": "code",
   "execution_count": 56,
   "metadata": {},
   "outputs": [],
   "source": [
    "accs = []\n",
    "tops = [] # Top words\n",
    "\n",
    "ks = [1,2,3,4,5]"
   ]
  },
  {
   "cell_type": "code",
   "execution_count": 57,
   "metadata": {
    "scrolled": false
   },
   "outputs": [
    {
     "name": "stdout",
     "output_type": "stream",
     "text": [
      "Using context window 1\n",
      "Accuracy on the dev data after 05 epochs: 0.5400\n",
      "Accuracy on the dev data after 10 epochs: 0.5600\n",
      "Accuracy on the dev data after 15 epochs: 0.5800\n",
      "Accuracy on the dev data after 20 epochs: 0.5817\n",
      "Accuracy on test data: 0.5817\n",
      "Using context window 2\n",
      "Accuracy on the dev data after 05 epochs: 0.5400\n",
      "Accuracy on the dev data after 10 epochs: 0.5417\n",
      "Accuracy on the dev data after 15 epochs: 0.5383\n",
      "Accuracy on the dev data after 20 epochs: 0.5517\n",
      "Accuracy on test data: 0.5450\n",
      "Using context window 3\n",
      "Accuracy on the dev data after 05 epochs: 0.4983\n",
      "Accuracy on the dev data after 10 epochs: 0.5150\n",
      "Accuracy on the dev data after 15 epochs: 0.5250\n",
      "Accuracy on the dev data after 20 epochs: 0.5267\n",
      "Accuracy on test data: 0.5017\n",
      "Using context window 4\n",
      "Accuracy on the dev data after 05 epochs: 0.4767\n",
      "Accuracy on the dev data after 10 epochs: 0.4933\n",
      "Accuracy on the dev data after 15 epochs: 0.5017\n",
      "Accuracy on the dev data after 20 epochs: 0.5050\n",
      "Accuracy on test data: 0.5000\n",
      "Using context window 5\n",
      "Accuracy on the dev data after 05 epochs: 0.4533\n",
      "Accuracy on the dev data after 10 epochs: 0.4600\n",
      "Accuracy on the dev data after 15 epochs: 0.4617\n",
      "Accuracy on the dev data after 20 epochs: 0.4733\n",
      "Accuracy on test data: 0.4750\n"
     ]
    }
   ],
   "source": [
    "for k in ks:\n",
    "    \n",
    "    print(f\"Using context window {k}\")\n",
    "    \n",
    "    for data in [train, dev, test]:\n",
    "        data['sparse'] = data.apply(lambda x: sent2sparse(x.enc_1[-k:], x.enc_2[-k:], vocab), axis = 1)\n",
    "\n",
    "    # Transform data to tensors\n",
    "    train_x = torch.tensor(list(train['sparse'])).float()\n",
    "    train_y = torch.tensor([p2id[p] for p in train.label])\n",
    "\n",
    "    # Dev\n",
    "    dev_x = torch.tensor(list(dev['sparse'])).float()\n",
    "    dev_y = torch.tensor([p2id[p] for p in dev.label])\n",
    "\n",
    "    # Test\n",
    "    test_x = torch.tensor(list(test['sparse'])).float()\n",
    "    test_y = torch.tensor([p2id[p] for p in test.label])\n",
    "\n",
    "    # Train and evaluate model\n",
    "    classifier = LRClassifier(input_dim, output_dim)\n",
    "    acc, true_lr, pred_lr = train_classifier(classifier, train_x, train_y, dev_x, dev_y, test_x, test_y, device)\n",
    "\n",
    "    # Store accuracies and top words\n",
    "    accs.append(acc)\n",
    "    top_words = [[id2w[i+2] for i in l] for l in classifier.linear.weight.topk(k=10, dim = -1)[1].tolist()]\n",
    "    tops.append(top_words)"
   ]
  },
  {
   "cell_type": "code",
   "execution_count": 95,
   "metadata": {},
   "outputs": [
    {
     "data": {
      "text/html": [
       "<div>\n",
       "<style scoped>\n",
       "    .dataframe tbody tr th:only-of-type {\n",
       "        vertical-align: middle;\n",
       "    }\n",
       "\n",
       "    .dataframe tbody tr th {\n",
       "        vertical-align: top;\n",
       "    }\n",
       "\n",
       "    .dataframe thead th {\n",
       "        text-align: right;\n",
       "    }\n",
       "</style>\n",
       "<table border=\"1\" class=\"dataframe\">\n",
       "  <thead>\n",
       "    <tr style=\"text-align: right;\">\n",
       "      <th></th>\n",
       "      <th>sent_1</th>\n",
       "      <th>sent_2</th>\n",
       "      <th>label</th>\n",
       "      <th>enc_1</th>\n",
       "      <th>enc_2</th>\n",
       "      <th>sparse</th>\n",
       "    </tr>\n",
       "  </thead>\n",
       "  <tbody>\n",
       "    <tr>\n",
       "      <th>1118</th>\n",
       "      <td>[sandy, had]</td>\n",
       "      <td>[100b, in, funding, and, it, affected, way, mo...</td>\n",
       "      <td>around</td>\n",
       "      <td>[0, 0, 0, 3031, 80]</td>\n",
       "      <td>[11, 4, 1051, 8, 5248]</td>\n",
       "      <td>[0, 0, 0, 0, 0, 0, 0, 0, 0, 0, 0, 0, 0, 0, 0, ...</td>\n",
       "    </tr>\n",
       "    <tr>\n",
       "      <th>852</th>\n",
       "      <td>[so, once, shes, there, theres, no, reason, to...</td>\n",
       "      <td>[even, if, you, buy, into, the, fallacy, that,...</td>\n",
       "      <td>around</td>\n",
       "      <td>[62, 276, 3, 203, 11]</td>\n",
       "      <td>[91, 465, 13, 22, 72]</td>\n",
       "      <td>[0, 0, 0, 0, 0, 0, 0, 0, 0, 1, 0, 0, 0, 0, 0, ...</td>\n",
       "    </tr>\n",
       "    <tr>\n",
       "      <th>1431</th>\n",
       "      <td>[as, a, result, they, gained, extraterritorial...</td>\n",
       "      <td>[the, world]</td>\n",
       "      <td>around</td>\n",
       "      <td>[745, 371, 3920, 8, 2504]</td>\n",
       "      <td>[0, 0, 0, 131, 2]</td>\n",
       "      <td>[1, 0, 0, 0, 0, 0, 0, 0, 0, 0, 0, 0, 0, 0, 0, ...</td>\n",
       "    </tr>\n",
       "    <tr>\n",
       "      <th>4981</th>\n",
       "      <td>[theyre, the, ones, paying, all, these, politi...</td>\n",
       "      <td>[so, they, can, price, gouge, necessities, for...</td>\n",
       "      <td>over</td>\n",
       "      <td>[153, 516, 3, 263, 74]</td>\n",
       "      <td>[9339, 1625, 50, 14, 32]</td>\n",
       "      <td>[0, 0, 0, 0, 0, 0, 0, 0, 0, 0, 0, 0, 0, 0, 0, ...</td>\n",
       "    </tr>\n",
       "    <tr>\n",
       "      <th>3221</th>\n",
       "      <td>[payment, for, class, a, drugs, , 1mhowever, w...</td>\n",
       "      <td>[]</td>\n",
       "      <td>out</td>\n",
       "      <td>[870, 39, 10, 2508, 27]</td>\n",
       "      <td>[0, 0, 0, 0, 0]</td>\n",
       "      <td>[0, 0, 0, 0, 0, 0, 0, 0, 0, 0, 0, 0, 0, 0, 0, ...</td>\n",
       "    </tr>\n",
       "  </tbody>\n",
       "</table>\n",
       "</div>"
      ],
      "text/plain": [
       "                                                 sent_1  \\\n",
       "1118                                       [sandy, had]   \n",
       "852   [so, once, shes, there, theres, no, reason, to...   \n",
       "1431  [as, a, result, they, gained, extraterritorial...   \n",
       "4981  [theyre, the, ones, paying, all, these, politi...   \n",
       "3221  [payment, for, class, a, drugs, , 1mhowever, w...   \n",
       "\n",
       "                                                 sent_2   label  \\\n",
       "1118  [100b, in, funding, and, it, affected, way, mo...  around   \n",
       "852   [even, if, you, buy, into, the, fallacy, that,...  around   \n",
       "1431                                       [the, world]  around   \n",
       "4981  [so, they, can, price, gouge, necessities, for...    over   \n",
       "3221                                                 []     out   \n",
       "\n",
       "                          enc_1                     enc_2  \\\n",
       "1118        [0, 0, 0, 3031, 80]    [11, 4, 1051, 8, 5248]   \n",
       "852       [62, 276, 3, 203, 11]     [91, 465, 13, 22, 72]   \n",
       "1431  [745, 371, 3920, 8, 2504]         [0, 0, 0, 131, 2]   \n",
       "4981     [153, 516, 3, 263, 74]  [9339, 1625, 50, 14, 32]   \n",
       "3221    [870, 39, 10, 2508, 27]           [0, 0, 0, 0, 0]   \n",
       "\n",
       "                                                 sparse  \n",
       "1118  [0, 0, 0, 0, 0, 0, 0, 0, 0, 0, 0, 0, 0, 0, 0, ...  \n",
       "852   [0, 0, 0, 0, 0, 0, 0, 0, 0, 1, 0, 0, 0, 0, 0, ...  \n",
       "1431  [1, 0, 0, 0, 0, 0, 0, 0, 0, 0, 0, 0, 0, 0, 0, ...  \n",
       "4981  [0, 0, 0, 0, 0, 0, 0, 0, 0, 0, 0, 0, 0, 0, 0, ...  \n",
       "3221  [0, 0, 0, 0, 0, 0, 0, 0, 0, 0, 0, 0, 0, 0, 0, ...  "
      ]
     },
     "execution_count": 95,
     "metadata": {},
     "output_type": "execute_result"
    }
   ],
   "source": [
    "train.head()"
   ]
  },
  {
   "cell_type": "markdown",
   "metadata": {},
   "source": [
    "**A) What accuracy would a classifier get that predicts classes based on random guesses? How\n",
    "does the logistic regression classifier compare to that baseline?**"
   ]
  },
  {
   "cell_type": "markdown",
   "metadata": {},
   "source": [
    "25 %"
   ]
  },
  {
   "cell_type": "markdown",
   "metadata": {},
   "source": [
    "**B) Plot the accuracy as a function of the context window size $k$. What do you observe? What conclusions can you draw regarding the linguistic information necessary for predicting particles?**"
   ]
  },
  {
   "cell_type": "code",
   "execution_count": 58,
   "metadata": {},
   "outputs": [],
   "source": [
    "import matplotlib.pyplot as plt"
   ]
  },
  {
   "cell_type": "code",
   "execution_count": 59,
   "metadata": {},
   "outputs": [
    {
     "data": {
      "image/png": "[encoded data removed]",
      "text/plain": [
       "<Figure size 864x432 with 1 Axes>"
      ]
     },
     "metadata": {
      "needs_background": "light"
     },
     "output_type": "display_data"
    }
   ],
   "source": [
    "fig, ax = plt.subplots(1, figsize = (12,6))\n",
    "\n",
    "ax.plot(ks, accs)\n",
    "ax.set_title('Classification performance as a function of $k$')\n",
    "ax.set_xlabel('$k$')\n",
    "ax.set_ylabel('Classification performance (accuracy)')\n",
    "plt.show()"
   ]
  },
  {
   "cell_type": "markdown",
   "metadata": {},
   "source": [
    "**C) For each $k$, examine the top 10 predictive words of each particle. Are your observations in line with the hypothesis made above?**"
   ]
  },
  {
   "cell_type": "code",
   "execution_count": 60,
   "metadata": {},
   "outputs": [
    {
     "data": {
      "text/plain": [
       "{0: 'over', 1: 'back', 2: 'around', 3: 'out'}"
      ]
     },
     "execution_count": 60,
     "metadata": {},
     "output_type": "execute_result"
    }
   ],
   "source": [
    "id2p"
   ]
  },
  {
   "cell_type": "code",
   "execution_count": 61,
   "metadata": {},
   "outputs": [
    {
     "name": "stdout",
     "output_type": "stream",
     "text": [
      "Context window of size 1\n",
      "Top predictive words for over\n",
      "['parkinsons', 'profits', 'allies', 'essentially', 'convinced', 'new', 'isnt', 'won', 'almost', 'trade']\n",
      "\n",
      "Top predictive words for back\n",
      "['steps', '2050', 'drone', 'towards', 'yard', 'none', 'fight', 'own', 'might', 'conversation']\n",
      "\n",
      "Top predictive words for around\n",
      "['cruz', 'seconds', 'lines', 'bombers', 'actually', 'arent', 'spending', 'shop', 'wear', 'scandals']\n",
      "\n",
      "Top predictive words for out\n",
      "['made', 'mouth', 'missing', 'looks', 'threw', 'loaned', 'camp', 'hair', 'set', 'each']\n",
      "\n",
      "Context window of size 2\n",
      "Top predictive words for over\n",
      "['possible', 'jail', 'conventions', 'source', 'serve', 'county', 'threat', '0', 'effectively', 'prospects']\n",
      "\n",
      "Top predictive words for back\n",
      "['invite', 'ohio', 'pushed', 'awhile', 'looking', 'bowl', 'overwhelming', 'centuries', 'insults', 'whenever']\n",
      "\n",
      "Top predictive words for around\n",
      "['slowly', 'sandy', 'finish', 'keeping', 'option', 'bow', 'flynn', 'student', 'attack', 'authoritarian']\n",
      "\n",
      "Top predictive words for out\n",
      "['military', 'bums', 'balances', 'wealthy', '6', 'spiraling', 'factor', 'true', 'rest', 'drops']\n",
      "\n",
      "Context window of size 3\n",
      "Top predictive words for over\n",
      "['declare', 'anger', 'someones', 'others', 'covers', 'forms', 'wtf', 'drunk', '90', 'utopia']\n",
      "\n",
      "Top predictive words for back\n",
      "['falls', 'example', 'representatives', 'dan', 'totally', 'pain', 'absurdity', 'held', 'gives', 'argue']\n",
      "\n",
      "Top predictive words for around\n",
      "['worth', 'student', 'expect', 'ceo', 'involves', 'concentration', 'ignorance', 'provision', 'email', '27']\n",
      "\n",
      "Top predictive words for out\n",
      "['area', 'politician', 'oregon', 'military', 'children', 'prevent', 'govt', '16', 'jumped', 'law']\n",
      "\n",
      "Context window of size 4\n",
      "Top predictive words for over\n",
      "['walks', 'equal', 'others', 'mouse', 'op', 'flynn', 'border', 'wtf', 'couldnt', 'let']\n",
      "\n",
      "Top predictive words for back\n",
      "['americans', 'common', 'democracy', 'hey', 'mostly', 'keeps', '1400', 'nixon', 'man', 'forward']\n",
      "\n",
      "Top predictive words for around\n",
      "['sources', 'happy', 'told', 'ceo', 'dems', 'campaigning', 'provide', 'fear', 'flipping', 'romney']\n",
      "\n",
      "Top predictive words for out\n",
      "['stickers', 'dinner', 'jumped', 'pussy', 'ohio', '9', 'weeks', 'tossing', 'fica', 'treason']\n",
      "\n",
      "Context window of size 5\n",
      "Top predictive words for over\n",
      "['though', 'whom', 'nunes', 'reading', 'effectively', 'bros', 'tomorrow', '25000', 'wrote', 'sounds']\n",
      "\n",
      "Top predictive words for back\n",
      "['strongly', 'machine', 'hour', 'constant', '300', 'notion', 'hasnt', 'clintons', 'fault', 'secret']\n",
      "\n",
      "Top predictive words for around\n",
      "['governments', 'report', 'develop', 'narrative', 'cruz', 'version', 'student', 'executive', 'kept', 'estate']\n",
      "\n",
      "Top predictive words for out\n",
      "['factor', 'oregon', 'spill', 'fica', 'latest', 'almost', 'tape', 'theories', 'services', 'liberal']\n",
      "\n"
     ]
    }
   ],
   "source": [
    "for k, top in zip(ks, tops):\n",
    "    print(f\"Context window of size {k}\")\n",
    "    \n",
    "    for i in range(4):\n",
    "        print(f\"Top predictive words for {id2p[i]}\")\n",
    "        print(top[i], end = '\\n\\n')"
   ]
  },
  {
   "cell_type": "markdown",
   "metadata": {},
   "source": [
    "### Part III: Feed-forward Neural Network Classifier"
   ]
  },
  {
   "cell_type": "code",
   "execution_count": 62,
   "metadata": {},
   "outputs": [],
   "source": [
    "class FNNClassifier(nn.Module):\n",
    "    \n",
    "    def __init__(self, input_dim, output_dim, hidden_dim):\n",
    "        \n",
    "        super(FNNClassifier, self).__init__()\n",
    "        self.linear_1 = nn.Linear(input_dim, hidden_dim)\n",
    "        self.linear_2 = nn.Linear(hidden_dim, output_dim)\n",
    "        \n",
    "    def forward(self, x):\n",
    "        hidden = torch.tanh(self.linear_1(x))\n",
    "        output = self.linear_2(hidden)\n",
    "        return output"
   ]
  },
  {
   "cell_type": "code",
   "execution_count": 63,
   "metadata": {},
   "outputs": [],
   "source": [
    "k = 1"
   ]
  },
  {
   "cell_type": "code",
   "execution_count": 93,
   "metadata": {},
   "outputs": [
    {
     "data": {
      "text/html": [
       "<div>\n",
       "<style scoped>\n",
       "    .dataframe tbody tr th:only-of-type {\n",
       "        vertical-align: middle;\n",
       "    }\n",
       "\n",
       "    .dataframe tbody tr th {\n",
       "        vertical-align: top;\n",
       "    }\n",
       "\n",
       "    .dataframe thead th {\n",
       "        text-align: right;\n",
       "    }\n",
       "</style>\n",
       "<table border=\"1\" class=\"dataframe\">\n",
       "  <thead>\n",
       "    <tr style=\"text-align: right;\">\n",
       "      <th></th>\n",
       "      <th>sent_1</th>\n",
       "      <th>sent_2</th>\n",
       "      <th>label</th>\n",
       "      <th>enc_1</th>\n",
       "      <th>enc_2</th>\n",
       "      <th>sparse</th>\n",
       "    </tr>\n",
       "  </thead>\n",
       "  <tbody>\n",
       "    <tr>\n",
       "      <th>1118</th>\n",
       "      <td>[sandy, had]</td>\n",
       "      <td>[100b, in, funding, and, it, affected, way, mo...</td>\n",
       "      <td>around</td>\n",
       "      <td>[0, 0, 0, 3031, 80]</td>\n",
       "      <td>[11, 4, 1051, 8, 5248]</td>\n",
       "      <td>[0, 0, 0, 0, 0, 0, 0, 0, 0, 0, 0, 0, 0, 0, 0, ...</td>\n",
       "    </tr>\n",
       "    <tr>\n",
       "      <th>852</th>\n",
       "      <td>[so, once, shes, there, theres, no, reason, to...</td>\n",
       "      <td>[even, if, you, buy, into, the, fallacy, that,...</td>\n",
       "      <td>around</td>\n",
       "      <td>[62, 276, 3, 203, 11]</td>\n",
       "      <td>[91, 465, 13, 22, 72]</td>\n",
       "      <td>[0, 0, 0, 0, 0, 0, 0, 0, 0, 1, 0, 0, 0, 0, 0, ...</td>\n",
       "    </tr>\n",
       "    <tr>\n",
       "      <th>1431</th>\n",
       "      <td>[as, a, result, they, gained, extraterritorial...</td>\n",
       "      <td>[the, world]</td>\n",
       "      <td>around</td>\n",
       "      <td>[745, 371, 3920, 8, 2504]</td>\n",
       "      <td>[0, 0, 0, 131, 2]</td>\n",
       "      <td>[1, 0, 0, 0, 0, 0, 0, 0, 0, 0, 0, 0, 0, 0, 0, ...</td>\n",
       "    </tr>\n",
       "    <tr>\n",
       "      <th>4981</th>\n",
       "      <td>[theyre, the, ones, paying, all, these, politi...</td>\n",
       "      <td>[so, they, can, price, gouge, necessities, for...</td>\n",
       "      <td>over</td>\n",
       "      <td>[153, 516, 3, 263, 74]</td>\n",
       "      <td>[9339, 1625, 50, 14, 32]</td>\n",
       "      <td>[0, 0, 0, 0, 0, 0, 0, 0, 0, 0, 0, 0, 0, 0, 0, ...</td>\n",
       "    </tr>\n",
       "    <tr>\n",
       "      <th>3221</th>\n",
       "      <td>[payment, for, class, a, drugs, , 1mhowever, w...</td>\n",
       "      <td>[]</td>\n",
       "      <td>out</td>\n",
       "      <td>[870, 39, 10, 2508, 27]</td>\n",
       "      <td>[0, 0, 0, 0, 0]</td>\n",
       "      <td>[0, 0, 0, 0, 0, 0, 0, 0, 0, 0, 0, 0, 0, 0, 0, ...</td>\n",
       "    </tr>\n",
       "    <tr>\n",
       "      <th>...</th>\n",
       "      <td>...</td>\n",
       "      <td>...</td>\n",
       "      <td>...</td>\n",
       "      <td>...</td>\n",
       "      <td>...</td>\n",
       "      <td>...</td>\n",
       "    </tr>\n",
       "    <tr>\n",
       "      <th>5757</th>\n",
       "      <td>[the, fact, that, a, contested, convention, is...</td>\n",
       "      <td>[on, the, first, ballot]</td>\n",
       "      <td>over</td>\n",
       "      <td>[9, 39, 5, 1091, 158]</td>\n",
       "      <td>[0, 2607, 172, 2, 16]</td>\n",
       "      <td>[0, 0, 0, 0, 0, 0, 0, 0, 0, 0, 0, 0, 0, 0, 1, ...</td>\n",
       "    </tr>\n",
       "    <tr>\n",
       "      <th>2982</th>\n",
       "      <td>[the, last, two, gop, presidential, nominees, ...</td>\n",
       "      <td>[to, the, center, in, time, for, the, national...</td>\n",
       "      <td>back</td>\n",
       "      <td>[900, 3, 87, 7, 213]</td>\n",
       "      <td>[61, 8, 1514, 2, 3]</td>\n",
       "      <td>[0, 1, 0, 0, 0, 0, 0, 0, 0, 0, 0, 0, 0, 0, 0, ...</td>\n",
       "    </tr>\n",
       "    <tr>\n",
       "      <th>3808</th>\n",
       "      <td>[im, not, old, by, any, terms, but, i, swear, ...</td>\n",
       "      <td>[curled, up, in, a, ball, unable, to, stop, co...</td>\n",
       "      <td>out</td>\n",
       "      <td>[67, 3, 3783, 47, 67]</td>\n",
       "      <td>[2355, 5, 8, 47, 12852]</td>\n",
       "      <td>[0, 0, 0, 0, 0, 0, 0, 0, 0, 0, 0, 0, 0, 0, 0, ...</td>\n",
       "    </tr>\n",
       "    <tr>\n",
       "      <th>1447</th>\n",
       "      <td>[a, few, of, the, women]</td>\n",
       "      <td>[my, campus, who, are, muslim, have, told, me,...</td>\n",
       "      <td>around</td>\n",
       "      <td>[5, 169, 6, 2, 359]</td>\n",
       "      <td>[861, 21, 46, 12853, 53]</td>\n",
       "      <td>[0, 0, 0, 0, 0, 0, 0, 0, 0, 0, 0, 0, 0, 0, 0, ...</td>\n",
       "    </tr>\n",
       "    <tr>\n",
       "      <th>662</th>\n",
       "      <td>[if, the, latter, i, cant, really, feel, bad, ...</td>\n",
       "      <td>[450kyr]</td>\n",
       "      <td>around</td>\n",
       "      <td>[12, 152, 46, 9, 201]</td>\n",
       "      <td>[0, 0, 0, 0, 12854]</td>\n",
       "      <td>[0, 0, 0, 0, 0, 0, 0, 0, 0, 0, 0, 0, 0, 0, 0, ...</td>\n",
       "    </tr>\n",
       "  </tbody>\n",
       "</table>\n",
       "<p>4800 rows × 6 columns</p>\n",
       "</div>"
      ],
      "text/plain": [
       "                                                 sent_1  \\\n",
       "1118                                       [sandy, had]   \n",
       "852   [so, once, shes, there, theres, no, reason, to...   \n",
       "1431  [as, a, result, they, gained, extraterritorial...   \n",
       "4981  [theyre, the, ones, paying, all, these, politi...   \n",
       "3221  [payment, for, class, a, drugs, , 1mhowever, w...   \n",
       "...                                                 ...   \n",
       "5757  [the, fact, that, a, contested, convention, is...   \n",
       "2982  [the, last, two, gop, presidential, nominees, ...   \n",
       "3808  [im, not, old, by, any, terms, but, i, swear, ...   \n",
       "1447                           [a, few, of, the, women]   \n",
       "662   [if, the, latter, i, cant, really, feel, bad, ...   \n",
       "\n",
       "                                                 sent_2   label  \\\n",
       "1118  [100b, in, funding, and, it, affected, way, mo...  around   \n",
       "852   [even, if, you, buy, into, the, fallacy, that,...  around   \n",
       "1431                                       [the, world]  around   \n",
       "4981  [so, they, can, price, gouge, necessities, for...    over   \n",
       "3221                                                 []     out   \n",
       "...                                                 ...     ...   \n",
       "5757                           [on, the, first, ballot]    over   \n",
       "2982  [to, the, center, in, time, for, the, national...    back   \n",
       "3808  [curled, up, in, a, ball, unable, to, stop, co...     out   \n",
       "1447  [my, campus, who, are, muslim, have, told, me,...  around   \n",
       "662                                            [450kyr]  around   \n",
       "\n",
       "                          enc_1                     enc_2  \\\n",
       "1118        [0, 0, 0, 3031, 80]    [11, 4, 1051, 8, 5248]   \n",
       "852       [62, 276, 3, 203, 11]     [91, 465, 13, 22, 72]   \n",
       "1431  [745, 371, 3920, 8, 2504]         [0, 0, 0, 131, 2]   \n",
       "4981     [153, 516, 3, 263, 74]  [9339, 1625, 50, 14, 32]   \n",
       "3221    [870, 39, 10, 2508, 27]           [0, 0, 0, 0, 0]   \n",
       "...                         ...                       ...   \n",
       "5757      [9, 39, 5, 1091, 158]     [0, 2607, 172, 2, 16]   \n",
       "2982       [900, 3, 87, 7, 213]       [61, 8, 1514, 2, 3]   \n",
       "3808      [67, 3, 3783, 47, 67]   [2355, 5, 8, 47, 12852]   \n",
       "1447        [5, 169, 6, 2, 359]  [861, 21, 46, 12853, 53]   \n",
       "662       [12, 152, 46, 9, 201]       [0, 0, 0, 0, 12854]   \n",
       "\n",
       "                                                 sparse  \n",
       "1118  [0, 0, 0, 0, 0, 0, 0, 0, 0, 0, 0, 0, 0, 0, 0, ...  \n",
       "852   [0, 0, 0, 0, 0, 0, 0, 0, 0, 1, 0, 0, 0, 0, 0, ...  \n",
       "1431  [1, 0, 0, 0, 0, 0, 0, 0, 0, 0, 0, 0, 0, 0, 0, ...  \n",
       "4981  [0, 0, 0, 0, 0, 0, 0, 0, 0, 0, 0, 0, 0, 0, 0, ...  \n",
       "3221  [0, 0, 0, 0, 0, 0, 0, 0, 0, 0, 0, 0, 0, 0, 0, ...  \n",
       "...                                                 ...  \n",
       "5757  [0, 0, 0, 0, 0, 0, 0, 0, 0, 0, 0, 0, 0, 0, 1, ...  \n",
       "2982  [0, 1, 0, 0, 0, 0, 0, 0, 0, 0, 0, 0, 0, 0, 0, ...  \n",
       "3808  [0, 0, 0, 0, 0, 0, 0, 0, 0, 0, 0, 0, 0, 0, 0, ...  \n",
       "1447  [0, 0, 0, 0, 0, 0, 0, 0, 0, 0, 0, 0, 0, 0, 0, ...  \n",
       "662   [0, 0, 0, 0, 0, 0, 0, 0, 0, 0, 0, 0, 0, 0, 0, ...  \n",
       "\n",
       "[4800 rows x 6 columns]"
      ]
     },
     "execution_count": 93,
     "metadata": {},
     "output_type": "execute_result"
    }
   ],
   "source": [
    "train"
   ]
  },
  {
   "cell_type": "code",
   "execution_count": 64,
   "metadata": {},
   "outputs": [],
   "source": [
    "for data in [train, dev, test]:\n",
    "    data['sparse'] = data.apply(lambda x: sent2sparse(x.enc_1[-k:], x.enc_2[-k:], vocab), axis = 1)\n",
    "    \n",
    "# Transform data to tensors\n",
    "train_x = torch.tensor(list(train['sparse'])).float()\n",
    "train_y = torch.tensor([p2id[p] for p in train.label])\n",
    "\n",
    "# Dev\n",
    "dev_x = torch.tensor(list(dev['sparse'])).float()\n",
    "dev_y = torch.tensor([p2id[p] for p in dev.label])\n",
    "\n",
    "# Test\n",
    "test_x = torch.tensor(list(test['sparse'])).float()\n",
    "test_y = torch.tensor([p2id[p] for p in test.label])"
   ]
  },
  {
   "cell_type": "code",
   "execution_count": 65,
   "metadata": {},
   "outputs": [],
   "source": [
    "input_dim = 5000\n",
    "output_dim = 4"
   ]
  },
  {
   "cell_type": "code",
   "execution_count": 66,
   "metadata": {},
   "outputs": [],
   "source": [
    "ds = [5,10,50,100,500]\n",
    "accs = []"
   ]
  },
  {
   "cell_type": "code",
   "execution_count": 67,
   "metadata": {},
   "outputs": [
    {
     "name": "stdout",
     "output_type": "stream",
     "text": [
      "Using dimensions 5\n",
      "Accuracy on the dev data after 05 epochs: 0.3400\n",
      "Accuracy on the dev data after 10 epochs: 0.4350\n",
      "Accuracy on the dev data after 15 epochs: 0.5150\n",
      "Accuracy on the dev data after 20 epochs: 0.5533\n",
      "Accuracy on test data: 0.5333\n",
      "Using dimensions 10\n",
      "Accuracy on the dev data after 05 epochs: 0.4550\n",
      "Accuracy on the dev data after 10 epochs: 0.5250\n",
      "Accuracy on the dev data after 15 epochs: 0.5533\n",
      "Accuracy on the dev data after 20 epochs: 0.5950\n",
      "Accuracy on test data: 0.5700\n",
      "Using dimensions 50\n",
      "Accuracy on the dev data after 05 epochs: 0.5617\n",
      "Accuracy on the dev data after 10 epochs: 0.5933\n",
      "Accuracy on the dev data after 15 epochs: 0.6050\n",
      "Accuracy on the dev data after 20 epochs: 0.6067\n",
      "Accuracy on test data: 0.5983\n",
      "Using dimensions 100\n",
      "Accuracy on the dev data after 05 epochs: 0.5917\n",
      "Accuracy on the dev data after 10 epochs: 0.5950\n",
      "Accuracy on the dev data after 15 epochs: 0.6033\n",
      "Accuracy on the dev data after 20 epochs: 0.6000\n",
      "Accuracy on test data: 0.5983\n",
      "Using dimensions 500\n",
      "Accuracy on the dev data after 05 epochs: 0.5950\n",
      "Accuracy on the dev data after 10 epochs: 0.5983\n",
      "Accuracy on the dev data after 15 epochs: 0.5783\n",
      "Accuracy on the dev data after 20 epochs: 0.5917\n",
      "Accuracy on test data: 0.5800\n"
     ]
    }
   ],
   "source": [
    "for d in ds:\n",
    "    \n",
    "    print(f\"Using dimensions {d}\")\n",
    "    \n",
    "    classifier = FNNClassifier(input_dim, output_dim, d)\n",
    "    acc, true_ffn, pred_ffn = train_classifier(classifier, train_x, train_y, dev_x, dev_y, test_x, test_y, device)\n",
    "    \n",
    "    # Store accuracies\n",
    "    accs.append(acc)"
   ]
  },
  {
   "cell_type": "code",
   "execution_count": 68,
   "metadata": {},
   "outputs": [
    {
     "data": {
      "text/plain": [
       "[0.5333333611488342,\n",
       " 0.5699999928474426,\n",
       " 0.5983333587646484,\n",
       " 0.5983333587646484,\n",
       " 0.5799999833106995]"
      ]
     },
     "execution_count": 68,
     "metadata": {},
     "output_type": "execute_result"
    }
   ],
   "source": [
    "accs"
   ]
  },
  {
   "cell_type": "code",
   "execution_count": 69,
   "metadata": {},
   "outputs": [
    {
     "name": "stdout",
     "output_type": "stream",
     "text": [
      "True: over, Logistic: out, Neural Network: over\n",
      "more until things get converted over but it will happen\n",
      "True: over, Logistic: back, Neural Network: over\n",
      "the fbi cia and nsa over your delusionsoh and btw heres\n",
      "True: around, Logistic: back, Neural Network: around\n",
      "at bars restaurants parks strolling around it seems like the majority\n",
      "True: out, Logistic: back, Neural Network: out\n",
      "june 3rd and she dropped out on june 7thbut yeah sanderss\n",
      "True: over, Logistic: around, Neural Network: over\n",
      "some missile defense destroyers parked over by korea to handle it\n"
     ]
    }
   ],
   "source": [
    "n = 5\n",
    "for s1, s2, l, p_lr, p_ffn in zip(test.sent_1, test.sent_2, true_lr, pred_lr, pred_ffn):\n",
    "    if l != p_lr and l == p_ffn:\n",
    "        print(f\"True: {id2p[l]}, Logistic: {id2p[p_lr]}, Neural Network: {id2p[p_ffn]}\")\n",
    "        print(' '.join(s1[-5:]), id2p[l], ' '.join(s2[:5]))\n",
    "        \n",
    "        n -= 1\n",
    "        \n",
    "    if n == 0:\n",
    "        break"
   ]
  },
  {
   "cell_type": "markdown",
   "metadata": {},
   "source": [
    "**A) How\n",
    "does this classifier compare to the logistic regression classifier?**"
   ]
  },
  {
   "cell_type": "code",
   "execution_count": null,
   "metadata": {},
   "outputs": [],
   "source": []
  },
  {
   "cell_type": "markdown",
   "metadata": {},
   "source": [
    "**B) Plot the accuracy as a function of the hidden dimension $d$. What do you observe?**"
   ]
  },
  {
   "cell_type": "code",
   "execution_count": 70,
   "metadata": {},
   "outputs": [
    {
     "data": {
      "image/png": "[encoded data removed]",
      "text/plain": [
       "<Figure size 864x432 with 1 Axes>"
      ]
     },
     "metadata": {
      "needs_background": "light"
     },
     "output_type": "display_data"
    }
   ],
   "source": [
    "# Create plot of classification performance as a function of k\n",
    "fig, ax = plt.subplots(1, figsize=(12, 6))\n",
    "\n",
    "ax.plot(ds, accs)\n",
    "ax.set_title('Classification performance as a function of $d$')\n",
    "ax.set_xlabel('$d$')\n",
    "ax.set_ylabel('Classification performance (accuracy)')\n",
    "\n",
    "plt.show()"
   ]
  },
  {
   "cell_type": "markdown",
   "metadata": {},
   "source": [
    "### Part IV: LSTM Classifier"
   ]
  },
  {
   "cell_type": "code",
   "execution_count": 71,
   "metadata": {},
   "outputs": [],
   "source": [
    "class LSTMClassifier(nn.Module):\n",
    "    \n",
    "    # Pass hyperparameters as arguments\n",
    "    def __init__(self, input_dim, embedding_dim, hidden_dim, output_dim, dropout, context):\n",
    "        \n",
    "        super(LSTMClassifier, self).__init__()\n",
    "        \n",
    "        self.context = context\n",
    "        \n",
    "        if self.context in {'left', 'both'}:\n",
    "            \n",
    "            # Define embedding and LSTM layers for the left context\n",
    "            self.embedding_1 = nn.Embedding(input_dim, embedding_dim, padding_idx=0)\n",
    "            self.lstm_1 = nn.LSTM(embedding_dim, hidden_dim, batch_first=True)\n",
    "            \n",
    "        if self.context in {'right', 'both'}:\n",
    "            self.embedding_2 = nn.Embedding(input_dim, embedding_dim, padding_idx=0)\n",
    "            self.lstm_2 = nn.LSTM(embedding_dim, hidden_dim, batch_first=True)\n",
    "            \n",
    "        if self.context in {'left', 'right'}:\n",
    "            \n",
    "            # Define a dense layer \n",
    "            self.linear = nn.Linear(hidden_dim, output_dim)\n",
    "            \n",
    "        if self.context == 'both':\n",
    "            self.linear = nn.Linear(2 * hidden_dim, output_dim)\n",
    "            \n",
    "        # Define dropout\n",
    "        self.dropout = nn.Dropout(dropout)\n",
    "        \n",
    "    def forward(self, x):\n",
    "        \n",
    "        sent_1, sent_2 = torch.chunk(x, 2, dim = -1) # <-- what is this?\n",
    "        \n",
    "        if self.context in {'left', 'both'}:\n",
    "            emb_1 = self.dropout(self.embedding_1(sent_1))\n",
    "            output_1, (hidden_1, cell_1) = self.lstm_1(emb_1)\n",
    "            \n",
    "        if self.context in {'right', 'both'}:\n",
    "            emb_2 = self.dropout(self.embedding_2(sent_2))\n",
    "            output_2, (hidden_2, cell_2) = self.lstm_2(emb_2)\n",
    "            \n",
    "        if self.context == 'left':\n",
    "            output = self.linear(self.dropout(output_1[:, -1, :]))\n",
    "            \n",
    "        if self.context == 'right':\n",
    "            \n",
    "            output = self.linear(self.dropout(output_2[:, -1, :]))\n",
    "            \n",
    "        if self.context == 'both':\n",
    "            \n",
    "            # Concat and pass together\n",
    "            concat = torch.cat((output_1[:, -1, :], output_2[:, -1, :]), dim=-1)\n",
    "            output = self.linear(self.dropout(concat))\n",
    "            \n",
    "        return output"
   ]
  },
  {
   "cell_type": "code",
   "execution_count": 72,
   "metadata": {},
   "outputs": [],
   "source": [
    "# Train 1\n",
    "torch1 = torch.tensor(list(train.enc_1))\n",
    "torch2 = torch.tensor(list(train.enc_2))\n",
    "train_x = torch.cat((torch1, torch2), dim = -1)\n",
    "train_y = torch.tensor([p2id[p] for p in train.label])\n",
    "\n",
    "# Dev\n",
    "torch1 = torch.tensor(list(dev.enc_1))\n",
    "torch2 = torch.tensor(list(dev.enc_2))\n",
    "dev_x = torch.cat((torch1, torch2), dim = -1)\n",
    "dev_y = torch.tensor([p2id[p] for p in dev.label])\n",
    "\n",
    "# Test\n",
    "torch1 = torch.tensor(list(test.enc_1))\n",
    "torch2 = torch.tensor(list(test.enc_2))\n",
    "test_x = torch.cat((torch1, torch2), dim = -1)\n",
    "test_y = torch.tensor([p2id[p] for p in test.label])"
   ]
  },
  {
   "cell_type": "code",
   "execution_count": 82,
   "metadata": {},
   "outputs": [
    {
     "data": {
      "text/plain": [
       "tensor([[    0,     0,     0,  ...,  1051,     8,  5248],\n",
       "        [   62,   276,     3,  ...,    13,    22,    72],\n",
       "        [  745,   371,  3920,  ...,     0,   131,     2],\n",
       "        ...,\n",
       "        [   67,     3,  3783,  ...,     8,    47, 12852],\n",
       "        [    5,   169,     6,  ...,    46, 12853,    53],\n",
       "        [   12,   152,    46,  ...,     0,     0, 12854]])"
      ]
     },
     "execution_count": 82,
     "metadata": {},
     "output_type": "execute_result"
    }
   ],
   "source": [
    "train_x"
   ]
  },
  {
   "cell_type": "code",
   "execution_count": 73,
   "metadata": {},
   "outputs": [],
   "source": [
    "# Define hyperparameters\n",
    "input_dim = len(w2id) + 2"
   ]
  },
  {
   "cell_type": "code",
   "execution_count": 74,
   "metadata": {},
   "outputs": [
    {
     "data": {
      "text/plain": [
       "12855"
      ]
     },
     "execution_count": 74,
     "metadata": {},
     "output_type": "execute_result"
    }
   ],
   "source": [
    "input_dim"
   ]
  },
  {
   "cell_type": "code",
   "execution_count": 124,
   "metadata": {},
   "outputs": [
    {
     "data": {
      "text/plain": [
       "{'the': 2,\n",
       " 'to': 3,\n",
       " 'and': 4,\n",
       " 'a': 5,\n",
       " 'of': 6,\n",
       " 'that': 7,\n",
       " 'in': 8,\n",
       " 'is': 9,\n",
       " 'i': 10,\n",
       " 'it': 11,\n",
       " 'for': 12,\n",
       " 'you': 13,\n",
       " 'they': 14,\n",
       " 'be': 15,\n",
       " 'on': 16,\n",
       " 'but': 17,\n",
       " 'was': 18,\n",
       " 'have': 19,\n",
       " 'as': 20,\n",
       " 'are': 21,\n",
       " 'if': 22,\n",
       " 'with': 23,\n",
       " 'people': 24,\n",
       " 'he': 25,\n",
       " 'not': 26,\n",
       " 'this': 27,\n",
       " 'all': 28,\n",
       " 'or': 29,\n",
       " 'its': 30,\n",
       " 'just': 31,\n",
       " 'so': 32,\n",
       " 'we': 33,\n",
       " 'like': 34,\n",
       " 'their': 35,\n",
       " 'at': 36,\n",
       " 'would': 37,\n",
       " 'get': 38,\n",
       " 'when': 39,\n",
       " 'trump': 40,\n",
       " 'about': 41,\n",
       " 'will': 42,\n",
       " 'because': 43,\n",
       " 'them': 44,\n",
       " 'more': 45,\n",
       " 'who': 46,\n",
       " 'up': 47,\n",
       " 'from': 48,\n",
       " 'his': 49,\n",
       " 'can': 50,\n",
       " 'by': 51,\n",
       " 'has': 52,\n",
       " 'my': 53,\n",
       " 'an': 54,\n",
       " 'what': 55,\n",
       " 'there': 56,\n",
       " 'do': 57,\n",
       " 'were': 58,\n",
       " 'dont': 59,\n",
       " 'one': 60,\n",
       " 'time': 61,\n",
       " 'no': 62,\n",
       " 'then': 63,\n",
       " 'your': 64,\n",
       " 'she': 65,\n",
       " 'been': 66,\n",
       " 'going': 67,\n",
       " 'her': 68,\n",
       " 'some': 69,\n",
       " '': 70,\n",
       " 'than': 71,\n",
       " 'even': 72,\n",
       " 'him': 73,\n",
       " 'us': 74,\n",
       " 'how': 75,\n",
       " 'go': 76,\n",
       " 'think': 77,\n",
       " 'only': 78,\n",
       " 'im': 79,\n",
       " 'had': 80,\n",
       " 'me': 81,\n",
       " 'which': 82,\n",
       " 'years': 83,\n",
       " 'way': 84,\n",
       " 'being': 85,\n",
       " 'could': 86,\n",
       " 'make': 87,\n",
       " 'other': 88,\n",
       " 'right': 89,\n",
       " 'take': 90,\n",
       " 'into': 91,\n",
       " 'any': 92,\n",
       " 'our': 93,\n",
       " 'those': 94,\n",
       " 'hillary': 95,\n",
       " 'much': 96,\n",
       " 'know': 97,\n",
       " 'vote': 98,\n",
       " 'now': 99,\n",
       " 'actually': 100,\n",
       " 'hes': 101,\n",
       " 'thats': 102,\n",
       " 'still': 103,\n",
       " 'want': 104,\n",
       " 'also': 105,\n",
       " 'money': 106,\n",
       " 'see': 107,\n",
       " 'well': 108,\n",
       " 'really': 109,\n",
       " 'cant': 110,\n",
       " 'things': 111,\n",
       " 'while': 112,\n",
       " 'say': 113,\n",
       " 'party': 114,\n",
       " 'most': 115,\n",
       " 'country': 116,\n",
       " 'should': 117,\n",
       " 'good': 118,\n",
       " 'after': 119,\n",
       " 'youre': 120,\n",
       " 'point': 121,\n",
       " 'doesnt': 122,\n",
       " 'didnt': 123,\n",
       " 'said': 124,\n",
       " 'something': 125,\n",
       " 'same': 126,\n",
       " 'where': 127,\n",
       " 'come': 128,\n",
       " 'need': 129,\n",
       " 'many': 130,\n",
       " 'world': 131,\n",
       " 'here': 132,\n",
       " 'did': 133,\n",
       " 'every': 134,\n",
       " 'why': 135,\n",
       " 'year': 136,\n",
       " 'state': 137,\n",
       " 'very': 138,\n",
       " 'bernie': 139,\n",
       " 'clinton': 140,\n",
       " 'before': 141,\n",
       " 'government': 142,\n",
       " 'got': 143,\n",
       " 'made': 144,\n",
       " 'saying': 145,\n",
       " 'lot': 146,\n",
       " 'against': 147,\n",
       " 'too': 148,\n",
       " 'enough': 149,\n",
       " 'never': 150,\n",
       " 'work': 151,\n",
       " 'someone': 152,\n",
       " 'these': 153,\n",
       " 'theyre': 154,\n",
       " 'fact': 155,\n",
       " 'thing': 156,\n",
       " 'sure': 157,\n",
       " 'isnt': 158,\n",
       " 'down': 159,\n",
       " 'shit': 160,\n",
       " 'put': 161,\n",
       " 'war': 162,\n",
       " 'theres': 163,\n",
       " 'day': 164,\n",
       " 'president': 165,\n",
       " 'election': 166,\n",
       " 'better': 167,\n",
       " 'everyone': 168,\n",
       " 'few': 169,\n",
       " 'sanders': 170,\n",
       " 'trying': 171,\n",
       " 'first': 172,\n",
       " 'long': 173,\n",
       " 'pay': 174,\n",
       " 'off': 175,\n",
       " 'new': 176,\n",
       " 'believe': 177,\n",
       " 'far': 178,\n",
       " 'last': 179,\n",
       " 'since': 180,\n",
       " 'getting': 181,\n",
       " 'obama': 182,\n",
       " 'look': 183,\n",
       " 'republican': 184,\n",
       " 'two': 185,\n",
       " 'anything': 186,\n",
       " 'support': 187,\n",
       " 'person': 188,\n",
       " 'states': 189,\n",
       " 'may': 190,\n",
       " 'own': 191,\n",
       " 'change': 192,\n",
       " 'system': 193,\n",
       " 'probably': 194,\n",
       " 'having': 195,\n",
       " 'might': 196,\n",
       " 'does': 197,\n",
       " 'power': 198,\n",
       " 'find': 199,\n",
       " 'everything': 200,\n",
       " 'making': 201,\n",
       " 'until': 202,\n",
       " 'keep': 203,\n",
       " 'tax': 204,\n",
       " 'pretty': 205,\n",
       " 'jobs': 206,\n",
       " 'without': 207,\n",
       " 'big': 208,\n",
       " 'america': 209,\n",
       " 'win': 210,\n",
       " 'republicans': 211,\n",
       " 'use': 212,\n",
       " 'turn': 213,\n",
       " 'hard': 214,\n",
       " 'give': 215,\n",
       " 'ever': 216,\n",
       " 'less': 217,\n",
       " 'campaign': 218,\n",
       " 'maybe': 219,\n",
       " 'life': 220,\n",
       " 'doing': 221,\n",
       " 'id': 222,\n",
       " 'control': 223,\n",
       " 'political': 224,\n",
       " 'though': 225,\n",
       " 'bad': 226,\n",
       " 'instead': 227,\n",
       " 'shes': 228,\n",
       " 'candidate': 229,\n",
       " 'problem': 230,\n",
       " 'left': 231,\n",
       " 'already': 232,\n",
       " 'hell': 233,\n",
       " 'end': 234,\n",
       " 'million': 235,\n",
       " 'mean': 236,\n",
       " 'ive': 237,\n",
       " 'democratic': 238,\n",
       " 'least': 239,\n",
       " 'job': 240,\n",
       " 'democrats': 241,\n",
       " 'both': 242,\n",
       " 'white': 243,\n",
       " 'start': 244,\n",
       " 'house': 245,\n",
       " 'gets': 246,\n",
       " 'anyone': 247,\n",
       " 'next': 248,\n",
       " 'thought': 249,\n",
       " 'ill': 250,\n",
       " 'place': 251,\n",
       " 'let': 252,\n",
       " 'little': 253,\n",
       " 'office': 254,\n",
       " 'likely': 255,\n",
       " 'american': 256,\n",
       " 'done': 257,\n",
       " 'literally': 258,\n",
       " 'under': 259,\n",
       " 'part': 260,\n",
       " 'voting': 261,\n",
       " 'again': 262,\n",
       " 'fuck': 263,\n",
       " 'wouldnt': 264,\n",
       " '2': 265,\n",
       " 'bring': 266,\n",
       " 'always': 267,\n",
       " 'try': 268,\n",
       " 'arent': 269,\n",
       " 'such': 270,\n",
       " 'russia': 271,\n",
       " 'kind': 272,\n",
       " 'away': 273,\n",
       " 'care': 274,\n",
       " 'real': 275,\n",
       " 'reason': 276,\n",
       " 'goes': 277,\n",
       " '10': 278,\n",
       " 'through': 279,\n",
       " 'taking': 280,\n",
       " 'rights': 281,\n",
       " 'feel': 282,\n",
       " 'came': 283,\n",
       " 'another': 284,\n",
       " 'news': 285,\n",
       " 'wont': 286,\n",
       " 'issue': 287,\n",
       " 'man': 288,\n",
       " 'run': 289,\n",
       " 'won': 290,\n",
       " 'comes': 291,\n",
       " 'public': 292,\n",
       " 'great': 293,\n",
       " 'times': 294,\n",
       " 'coming': 295,\n",
       " 'makes': 296,\n",
       " 'wasnt': 297,\n",
       " 'congress': 298,\n",
       " 'during': 299,\n",
       " 'else': 300,\n",
       " 'evidence': 301,\n",
       " 'best': 302,\n",
       " 'able': 303,\n",
       " 'either': 304,\n",
       " 'rather': 305,\n",
       " 'talking': 306,\n",
       " 'whole': 307,\n",
       " 'old': 308,\n",
       " 'means': 309,\n",
       " 'taxes': 310,\n",
       " 'supporters': 311,\n",
       " 'seen': 312,\n",
       " 'fucking': 313,\n",
       " 'needs': 314,\n",
       " 'started': 315,\n",
       " 'seems': 316,\n",
       " 'guy': 317,\n",
       " 'past': 318,\n",
       " 'voted': 319,\n",
       " 'help': 320,\n",
       " 'issues': 321,\n",
       " 'entire': 322,\n",
       " 'course': 323,\n",
       " 'nothing': 324,\n",
       " 'once': 325,\n",
       " 'etc': 326,\n",
       " 'middle': 327,\n",
       " 'used': 328,\n",
       " 'different': 329,\n",
       " 'single': 330,\n",
       " 'side': 331,\n",
       " 'completely': 332,\n",
       " 'case': 333,\n",
       " 'voters': 334,\n",
       " 'says': 335,\n",
       " 'social': 336,\n",
       " 'media': 337,\n",
       " 'worse': 338,\n",
       " 'yet': 339,\n",
       " 'actual': 340,\n",
       " 'am': 341,\n",
       " 'ago': 342,\n",
       " 'health': 343,\n",
       " 'half': 344,\n",
       " 'understand': 345,\n",
       " 'almost': 346,\n",
       " 'stop': 347,\n",
       " 'head': 348,\n",
       " 'went': 349,\n",
       " 'took': 350,\n",
       " 'wants': 351,\n",
       " 'free': 352,\n",
       " 'high': 353,\n",
       " 'gop': 354,\n",
       " 'hope': 355,\n",
       " 'policy': 356,\n",
       " 'history': 357,\n",
       " 'college': 358,\n",
       " 'women': 359,\n",
       " 'family': 360,\n",
       " 'votes': 361,\n",
       " 'ones': 362,\n",
       " 'wrong': 363,\n",
       " 'called': 364,\n",
       " 'healthcare': 365,\n",
       " 'policies': 366,\n",
       " 'decades': 367,\n",
       " 'days': 368,\n",
       " 'primary': 369,\n",
       " 'tell': 370,\n",
       " 'countries': 371,\n",
       " 'stuff': 372,\n",
       " 'later': 373,\n",
       " 'seem': 374,\n",
       " 'possible': 375,\n",
       " 'agree': 376,\n",
       " 'matter': 377,\n",
       " 'idea': 378,\n",
       " 'law': 379,\n",
       " 'majority': 380,\n",
       " 'trumps': 381,\n",
       " 'yeah': 382,\n",
       " 'show': 383,\n",
       " 'level': 384,\n",
       " 'economy': 385,\n",
       " 'politics': 386,\n",
       " '5': 387,\n",
       " 'dnc': 388,\n",
       " 'americans': 389,\n",
       " 'paid': 390,\n",
       " 'between': 391,\n",
       " 'happen': 392,\n",
       " 'remember': 393,\n",
       " '20': 394,\n",
       " 'read': 395,\n",
       " 'running': 396,\n",
       " 'bill': 397,\n",
       " 'reality': 398,\n",
       " '1': 399,\n",
       " 'home': 400,\n",
       " 'simply': 401,\n",
       " 'basically': 402,\n",
       " 'society': 403,\n",
       " '3': 404,\n",
       " 'working': 405,\n",
       " 'article': 406,\n",
       " 'looking': 407,\n",
       " 'information': 408,\n",
       " 'full': 409,\n",
       " 'racist': 410,\n",
       " 'today': 411,\n",
       " 'paying': 412,\n",
       " 'class': 413,\n",
       " 'based': 414,\n",
       " 'push': 415,\n",
       " 'each': 416,\n",
       " 'liberal': 417,\n",
       " 'chance': 418,\n",
       " 'especially': 419,\n",
       " 'guys': 420,\n",
       " 'candidates': 421,\n",
       " 'debate': 422,\n",
       " 'call': 423,\n",
       " 'millions': 424,\n",
       " 'insurance': 425,\n",
       " 'certain': 426,\n",
       " 'term': 427,\n",
       " '100': 428,\n",
       " '4': 429,\n",
       " 'set': 430,\n",
       " '30': 431,\n",
       " 'force': 432,\n",
       " 'donald': 433,\n",
       " 'given': 434,\n",
       " 'general': 435,\n",
       " 'themselves': 436,\n",
       " 'takes': 437,\n",
       " 'giving': 438,\n",
       " 'bit': 439,\n",
       " 'month': 440,\n",
       " 'taken': 441,\n",
       " 'line': 442,\n",
       " 'argument': 443,\n",
       " 'civil': 444,\n",
       " 'question': 445,\n",
       " 'companies': 446,\n",
       " 'wanted': 447,\n",
       " 'love': 448,\n",
       " 'costs': 449,\n",
       " 'court': 450,\n",
       " 'theyll': 451,\n",
       " 'facts': 452,\n",
       " 'business': 453,\n",
       " 'live': 454,\n",
       " 'sense': 455,\n",
       " 'poor': 456,\n",
       " 'dollars': 457,\n",
       " 'saw': 458,\n",
       " 'turned': 459,\n",
       " 'conservative': 460,\n",
       " 'told': 461,\n",
       " 'senate': 462,\n",
       " 'income': 463,\n",
       " 'federal': 464,\n",
       " 'buy': 465,\n",
       " 'yes': 466,\n",
       " 'move': 467,\n",
       " '50': 468,\n",
       " 'using': 469,\n",
       " 'tried': 470,\n",
       " 'true': 471,\n",
       " 'theyve': 472,\n",
       " 'military': 473,\n",
       " 'absolutely': 474,\n",
       " 'however': 475,\n",
       " 'number': 476,\n",
       " 'whatever': 477,\n",
       " 'months': 478,\n",
       " 'must': 479,\n",
       " 'huge': 480,\n",
       " 'post': 481,\n",
       " 'gun': 482,\n",
       " 'act': 483,\n",
       " 'plan': 484,\n",
       " 'market': 485,\n",
       " 'lose': 486,\n",
       " 'spend': 487,\n",
       " 'human': 488,\n",
       " 'top': 489,\n",
       " 'rest': 490,\n",
       " 'school': 491,\n",
       " 'found': 492,\n",
       " 'close': 493,\n",
       " 'whether': 494,\n",
       " 'laws': 495,\n",
       " 'sit': 496,\n",
       " 'education': 497,\n",
       " 'wall': 498,\n",
       " 'example': 499,\n",
       " 'worth': 500,\n",
       " 'others': 501,\n",
       " 'bush': 502,\n",
       " 'talk': 503,\n",
       " 'further': 504,\n",
       " 'comment': 505,\n",
       " 'open': 506,\n",
       " 'shouldnt': 507,\n",
       " 'lets': 508,\n",
       " 'easy': 509,\n",
       " 'woman': 510,\n",
       " 'fight': 511,\n",
       " 'democrat': 512,\n",
       " 'citizens': 513,\n",
       " 'exactly': 514,\n",
       " 'become': 515,\n",
       " 'politicians': 516,\n",
       " 'points': 517,\n",
       " 'corporations': 518,\n",
       " 'figure': 519,\n",
       " 'fighting': 520,\n",
       " 'stupid': 521,\n",
       " 'difference': 522,\n",
       " 'rich': 523,\n",
       " 'story': 524,\n",
       " 'guess': 525,\n",
       " 'deal': 526,\n",
       " 'hand': 527,\n",
       " 'polls': 528,\n",
       " 'cost': 529,\n",
       " 'numbers': 530,\n",
       " 'united': 531,\n",
       " 'group': 532,\n",
       " 'elected': 533,\n",
       " 'young': 534,\n",
       " 'throw': 535,\n",
       " 'russian': 536,\n",
       " 'bullshit': 537,\n",
       " 'reddit': 538,\n",
       " 'second': 539,\n",
       " 'couple': 540,\n",
       " 'attack': 541,\n",
       " 'imagine': 542,\n",
       " 'primaries': 543,\n",
       " 'often': 544,\n",
       " 'supporting': 545,\n",
       " 'per': 546,\n",
       " 'current': 547,\n",
       " 'population': 548,\n",
       " 'definitely': 549,\n",
       " 'total': 550,\n",
       " 'polling': 551,\n",
       " 'platform': 552,\n",
       " 'hear': 553,\n",
       " 'week': 554,\n",
       " 'parties': 555,\n",
       " 'wage': 556,\n",
       " 'unless': 557,\n",
       " 'low': 558,\n",
       " 'worked': 559,\n",
       " 'small': 560,\n",
       " 'situation': 561,\n",
       " 'age': 562,\n",
       " 'legal': 563,\n",
       " 'cut': 564,\n",
       " 'foreign': 565,\n",
       " 'expect': 566,\n",
       " 'asked': 567,\n",
       " 'considering': 568,\n",
       " 'hate': 569,\n",
       " 'future': 570,\n",
       " 'pull': 571,\n",
       " '8': 572,\n",
       " 'race': 573,\n",
       " 'lost': 574,\n",
       " 'guns': 575,\n",
       " 'seeing': 576,\n",
       " 'honestly': 577,\n",
       " 'claim': 578,\n",
       " '15': 579,\n",
       " 'due': 580,\n",
       " 'company': 581,\n",
       " 'weeks': 582,\n",
       " 'yourself': 583,\n",
       " 'comments': 584,\n",
       " 'black': 585,\n",
       " 'lack': 586,\n",
       " 'data': 587,\n",
       " 'men': 588,\n",
       " 'living': 589,\n",
       " 'willing': 590,\n",
       " 'terms': 591,\n",
       " 'check': 592,\n",
       " 'wait': 593,\n",
       " 'gone': 594,\n",
       " 'large': 595,\n",
       " '60': 596,\n",
       " 'ok': 597,\n",
       " 'workers': 598,\n",
       " 'thinking': 599,\n",
       " 'provide': 600,\n",
       " 'winning': 601,\n",
       " 'doubt': 602,\n",
       " 'longer': 603,\n",
       " 'wish': 604,\n",
       " 'important': 605,\n",
       " 'opinion': 606,\n",
       " 'pence': 607,\n",
       " 'major': 608,\n",
       " 'economic': 609,\n",
       " 'gay': 610,\n",
       " 'rules': 611,\n",
       " 'liberals': 612,\n",
       " 'position': 613,\n",
       " 'himself': 614,\n",
       " 'ideas': 615,\n",
       " 'name': 616,\n",
       " 'private': 617,\n",
       " 'higher': 618,\n",
       " 'common': 619,\n",
       " 'send': 620,\n",
       " 'decade': 621,\n",
       " 'iraq': 622,\n",
       " 'knows': 623,\n",
       " 'gonna': 624,\n",
       " 'word': 625,\n",
       " 'stick': 626,\n",
       " 'holding': 627,\n",
       " 'built': 628,\n",
       " '2008': 629,\n",
       " 'calling': 630,\n",
       " 'average': 631,\n",
       " 'play': 632,\n",
       " 'quite': 633,\n",
       " 'clearly': 634,\n",
       " 'popular': 635,\n",
       " 'decision': 636,\n",
       " 'finally': 637,\n",
       " 'couldnt': 638,\n",
       " 'national': 639,\n",
       " 'heard': 640,\n",
       " 'youll': 641,\n",
       " 'clear': 642,\n",
       " 'happening': 643,\n",
       " 'order': 644,\n",
       " 'third': 645,\n",
       " 'death': 646,\n",
       " 'hours': 647,\n",
       " 'sometimes': 648,\n",
       " 'independent': 649,\n",
       " 'behind': 650,\n",
       " 'supreme': 651,\n",
       " 'happened': 652,\n",
       " '40': 653,\n",
       " 'personally': 654,\n",
       " 'establishment': 655,\n",
       " 'ass': 656,\n",
       " 'early': 657,\n",
       " 'specifically': 658,\n",
       " 'city': 659,\n",
       " 'businesses': 660,\n",
       " 'bunch': 661,\n",
       " 'none': 662,\n",
       " 'works': 663,\n",
       " 'elections': 664,\n",
       " 'presidents': 665,\n",
       " 'step': 666,\n",
       " 'hands': 667,\n",
       " 'democracy': 668,\n",
       " 'lower': 669,\n",
       " 'presidential': 670,\n",
       " 'lead': 671,\n",
       " 'problems': 672,\n",
       " 'delegates': 673,\n",
       " 'pointing': 674,\n",
       " 'china': 675,\n",
       " 'turns': 676,\n",
       " 'watch': 677,\n",
       " 'throwing': 678,\n",
       " 'source': 679,\n",
       " 'certainly': 680,\n",
       " 'create': 681,\n",
       " 'debt': 682,\n",
       " 'wing': 683,\n",
       " 'strategy': 684,\n",
       " 'game': 685,\n",
       " 'afford': 686,\n",
       " 'kids': 687,\n",
       " 'words': 688,\n",
       " 'havent': 689,\n",
       " 'biggest': 690,\n",
       " 'interest': 691,\n",
       " 'members': 692,\n",
       " 'several': 693,\n",
       " 'recent': 694,\n",
       " 'build': 695,\n",
       " 'usually': 696,\n",
       " 'mostly': 697,\n",
       " 'recently': 698,\n",
       " 'claims': 699,\n",
       " 'corrupt': 700,\n",
       " 'violence': 701,\n",
       " 'justice': 702,\n",
       " 'ability': 703,\n",
       " 'experience': 704,\n",
       " 'stay': 705,\n",
       " 'fire': 706,\n",
       " 'service': 707,\n",
       " 'speak': 708,\n",
       " 'across': 709,\n",
       " 'plenty': 710,\n",
       " 'hasnt': 711,\n",
       " 'fall': 712,\n",
       " 'watching': 713,\n",
       " 'telling': 714,\n",
       " 'trust': 715,\n",
       " 'red': 716,\n",
       " 'looks': 717,\n",
       " 'youve': 718,\n",
       " 'politician': 719,\n",
       " 'sort': 720,\n",
       " 'crazy': 721,\n",
       " 'night': 722,\n",
       " 'town': 723,\n",
       " 'oil': 724,\n",
       " 'influence': 725,\n",
       " 'easier': 726,\n",
       " 'cause': 727,\n",
       " 'security': 728,\n",
       " 'minimum': 729,\n",
       " 'changes': 730,\n",
       " 'administration': 731,\n",
       " 'climate': 732,\n",
       " 'fair': 733,\n",
       " 'among': 734,\n",
       " 'supported': 735,\n",
       " 'involved': 736,\n",
       " 'hold': 737,\n",
       " 'super': 738,\n",
       " 'generally': 739,\n",
       " 'clintons': 740,\n",
       " 'three': 741,\n",
       " 'career': 742,\n",
       " 'socialist': 743,\n",
       " 'illegal': 744,\n",
       " 'essentially': 745,\n",
       " 'record': 746,\n",
       " 'questions': 747,\n",
       " 'nuclear': 748,\n",
       " 'ended': 749,\n",
       " 'break': 750,\n",
       " 'similar': 751,\n",
       " 'brought': 752,\n",
       " 'nobody': 753,\n",
       " 'weve': 754,\n",
       " 'community': 755,\n",
       " 'happens': 756,\n",
       " 'investigation': 757,\n",
       " 'progressive': 758,\n",
       " 'thrown': 759,\n",
       " 'germany': 760,\n",
       " 'ran': 761,\n",
       " 'gave': 762,\n",
       " 'lives': 763,\n",
       " 'terrible': 764,\n",
       " 'assume': 765,\n",
       " 'context': 766,\n",
       " 'passed': 767,\n",
       " 'within': 768,\n",
       " 'electoral': 769,\n",
       " 'obviously': 770,\n",
       " 'shitty': 771,\n",
       " '7': 772,\n",
       " '12': 773,\n",
       " 'conservatives': 774,\n",
       " 'amount': 775,\n",
       " 'twice': 776,\n",
       " 'forward': 777,\n",
       " 'presidency': 778,\n",
       " 'massive': 779,\n",
       " 'coverage': 780,\n",
       " 'century': 781,\n",
       " 'result': 782,\n",
       " 'criminal': 783,\n",
       " 'starting': 784,\n",
       " 'hour': 785,\n",
       " 'together': 786,\n",
       " 'ie': 787,\n",
       " 'favor': 788,\n",
       " 'theyd': 789,\n",
       " 'near': 790,\n",
       " 'realize': 791,\n",
       " 'towards': 792,\n",
       " 'hed': 793,\n",
       " 'entirely': 794,\n",
       " 'mind': 795,\n",
       " 'fear': 796,\n",
       " 'totally': 797,\n",
       " 'except': 798,\n",
       " 'oh': 799,\n",
       " 'view': 800,\n",
       " 'please': 801,\n",
       " 'sounds': 802,\n",
       " 'supporter': 803,\n",
       " 'reasons': 804,\n",
       " 'whos': 805,\n",
       " 'groups': 806,\n",
       " 'normal': 807,\n",
       " 'fucked': 808,\n",
       " 'known': 809,\n",
       " 'along': 810,\n",
       " 'leave': 811,\n",
       " 'bernies': 812,\n",
       " 'including': 813,\n",
       " 'decided': 814,\n",
       " 'video': 815,\n",
       " 'werent': 816,\n",
       " 'face': 817,\n",
       " 'reading': 818,\n",
       " 'children': 819,\n",
       " 'youd': 820,\n",
       " 'interests': 821,\n",
       " 'personal': 822,\n",
       " 'proof': 823,\n",
       " 'local': 824,\n",
       " 'friends': 825,\n",
       " 'internet': 826,\n",
       " 'solution': 827,\n",
       " 'eventually': 828,\n",
       " 'despite': 829,\n",
       " 'joke': 830,\n",
       " 'wed': 831,\n",
       " 'held': 832,\n",
       " 'base': 833,\n",
       " 'pass': 834,\n",
       " 'reasonable': 835,\n",
       " 'learn': 836,\n",
       " 'letting': 837,\n",
       " 'damn': 838,\n",
       " 'interesting': 839,\n",
       " 'marriage': 840,\n",
       " 'walking': 841,\n",
       " 'room': 842,\n",
       " 'front': 843,\n",
       " 'choice': 844,\n",
       " 'thinks': 845,\n",
       " 'emails': 846,\n",
       " 'cities': 847,\n",
       " 'message': 848,\n",
       " 'significant': 849,\n",
       " 'ways': 850,\n",
       " 'decide': 851,\n",
       " 'vs': 852,\n",
       " 'decent': 853,\n",
       " 'opposition': 854,\n",
       " 'itself': 855,\n",
       " 'response': 856,\n",
       " 'trade': 857,\n",
       " 'stand': 858,\n",
       " 'shot': 859,\n",
       " 'walk': 860,\n",
       " 'muslim': 861,\n",
       " 'wins': 862,\n",
       " 'process': 863,\n",
       " 'late': 864,\n",
       " 'benefit': 865,\n",
       " 'benefits': 866,\n",
       " 'strong': 867,\n",
       " 'hit': 868,\n",
       " 'medical': 869,\n",
       " 'above': 870,\n",
       " 'answer': 871,\n",
       " 'bringing': 872,\n",
       " 'attention': 873,\n",
       " 'apparently': 874,\n",
       " 'agenda': 875,\n",
       " 'ask': 876,\n",
       " 'thousands': 877,\n",
       " 'rate': 878,\n",
       " 'blame': 879,\n",
       " 'increase': 880,\n",
       " 'shows': 881,\n",
       " 'key': 882,\n",
       " 'moving': 883,\n",
       " 'fine': 884,\n",
       " 'sell': 885,\n",
       " 'sent': 886,\n",
       " 'asking': 887,\n",
       " 'discussion': 888,\n",
       " 'places': 889,\n",
       " 'drop': 890,\n",
       " 'extremely': 891,\n",
       " 'fox': 892,\n",
       " 'anyway': 893,\n",
       " 'water': 894,\n",
       " 'billion': 895,\n",
       " 'die': 896,\n",
       " 'worst': 897,\n",
       " 'labor': 898,\n",
       " 'spending': 899,\n",
       " 'failed': 900,\n",
       " 'minorities': 901,\n",
       " 'book': 902,\n",
       " 'wife': 903,\n",
       " 'hillarys': 904,\n",
       " 'poverty': 905,\n",
       " 'outside': 906,\n",
       " 'met': 907,\n",
       " 'reach': 908,\n",
       " 'myself': 909,\n",
       " 'cheaper': 910,\n",
       " 'protect': 911,\n",
       " 'bills': 912,\n",
       " 'truth': 913,\n",
       " '2020': 914,\n",
       " 'lie': 915,\n",
       " 'mental': 916,\n",
       " 'department': 917,\n",
       " 'speech': 918,\n",
       " 'cash': 919,\n",
       " 'pushing': 920,\n",
       " 'mistake': 921,\n",
       " 'spent': 922,\n",
       " 'mccain': 923,\n",
       " 'smart': 924,\n",
       " 'losing': 925,\n",
       " 'otherwise': 926,\n",
       " 'fix': 927,\n",
       " 'somehow': 928,\n",
       " 'upon': 929,\n",
       " 'individuals': 930,\n",
       " 'program': 931,\n",
       " 'mention': 932,\n",
       " 'safe': 933,\n",
       " '35': 934,\n",
       " 'baby': 935,\n",
       " 'revolution': 936,\n",
       " 'listen': 937,\n",
       " 'hanging': 938,\n",
       " 'sound': 939,\n",
       " 'south': 940,\n",
       " 'following': 941,\n",
       " 'soon': 942,\n",
       " 'views': 943,\n",
       " 'bought': 944,\n",
       " 'hundreds': 945,\n",
       " 'helping': 946,\n",
       " 'california': 947,\n",
       " 'fired': 948,\n",
       " 'budget': 949,\n",
       " 'vp': 950,\n",
       " 'movement': 951,\n",
       " 'debates': 952,\n",
       " 'senator': 953,\n",
       " 'action': 954,\n",
       " 'families': 955,\n",
       " 'parents': 956,\n",
       " 'positions': 957,\n",
       " 'moved': 958,\n",
       " 'press': 959,\n",
       " 'needed': 960,\n",
       " 'street': 961,\n",
       " 'cannot': 962,\n",
       " 'nation': 963,\n",
       " 'add': 964,\n",
       " 'police': 965,\n",
       " 'became': 966,\n",
       " 'nearly': 967,\n",
       " 'account': 968,\n",
       " 'mouth': 969,\n",
       " 'forth': 970,\n",
       " 'prices': 971,\n",
       " 'status': 972,\n",
       " 'science': 973,\n",
       " 'results': 974,\n",
       " 'exact': 975,\n",
       " 'forced': 976,\n",
       " 'tv': 977,\n",
       " 'blue': 978,\n",
       " 'kill': 979,\n",
       " 'isis': 980,\n",
       " 'shift': 981,\n",
       " 'angry': 982,\n",
       " 'roll': 983,\n",
       " 'particular': 984,\n",
       " 'kept': 985,\n",
       " 'paul': 986,\n",
       " 'energy': 987,\n",
       " '80': 988,\n",
       " 'moment': 989,\n",
       " 'corruption': 990,\n",
       " 'romney': 991,\n",
       " 'kick': 992,\n",
       " 'currently': 993,\n",
       " 'save': 994,\n",
       " 'dems': 995,\n",
       " 'argue': 996,\n",
       " 'child': 997,\n",
       " '25': 998,\n",
       " 'keeping': 999,\n",
       " 'mass': 1000,\n",
       " 'wouldve': 1001,\n",
       " ...}"
      ]
     },
     "execution_count": 124,
     "metadata": {},
     "output_type": "execute_result"
    }
   ],
   "source": [
    "w2id"
   ]
  },
  {
   "cell_type": "code",
   "execution_count": 75,
   "metadata": {},
   "outputs": [],
   "source": [
    "embedding_dim = 300\n",
    "hidden_dim = 200\n",
    "output_dim = 4\n",
    "dropout = 0.5"
   ]
  },
  {
   "cell_type": "code",
   "execution_count": 76,
   "metadata": {},
   "outputs": [],
   "source": [
    "classifier = LSTMClassifier(input_dim, embedding_dim, hidden_dim, output_dim, dropout, 'both')"
   ]
  },
  {
   "cell_type": "code",
   "execution_count": 77,
   "metadata": {},
   "outputs": [
    {
     "name": "stdout",
     "output_type": "stream",
     "text": [
      "Accuracy on the dev data after 05 epochs: 0.5900\n",
      "Accuracy on the dev data after 10 epochs: 0.6417\n",
      "Accuracy on the dev data after 15 epochs: 0.6683\n",
      "Accuracy on the dev data after 20 epochs: 0.6817\n",
      "Accuracy on test data: 0.6833\n"
     ]
    }
   ],
   "source": [
    "acc, true_b, pred_b = train_classifier(classifier, train_x, train_y, dev_x, dev_y, test_x, test_y, device)"
   ]
  },
  {
   "cell_type": "code",
   "execution_count": 88,
   "metadata": {},
   "outputs": [
    {
     "data": {
      "text/plain": [
       "tensor([   0,    0,    0, 3031,   80,   11,    4, 1051,    8, 5248])"
      ]
     },
     "execution_count": 88,
     "metadata": {},
     "output_type": "execute_result"
    }
   ],
   "source": [
    "train_x[0]"
   ]
  },
  {
   "cell_type": "code",
   "execution_count": 78,
   "metadata": {},
   "outputs": [
    {
     "name": "stdout",
     "output_type": "stream",
     "text": [
      "over around over\n",
      "preserve\tthem\tindefinitely\tand\thopefully \t\t time\twith\tsound\tmanagement\tincrease\n",
      "\n",
      "around over around\n",
      "hell\tcalifornia\tis\tknocking \t\t the\tidea\tof\ta\tstatewide\n",
      "\n",
      "around over around\n",
      "can\thappen\tis\teveryone\twalks \t\t looking\tawesome\n",
      "\n",
      "over around over\n",
      "capitalism\tto\tbe\tmoderately\thealthy \t\t time\twould\trequire\tit\tto\n",
      "\n",
      "over around over\n",
      "wanting\tto\tfavor\tdomestic\tdairies \t\t importing\tfrom\tthe\tus\n",
      "\n"
     ]
    }
   ],
   "source": [
    "# Inspect cases of wrong feed-forward neural network predictions and correct LSTM predictions\n",
    "n = 5\n",
    "\n",
    "for s_1, s_2, l, p_ffn, p_lstm in zip(test.sent_1, test.sent_2, true_ffn, pred_ffn, pred_b):\n",
    "    if l != p_ffn and l == p_lstm:\n",
    "        print(id2p[l], id2p[p_ffn], id2p[p_lstm])\n",
    "        print('\\t'.join(s_1[-5:]), '\\t\\t', '\\t'.join(s_2[:5]))\n",
    "        print()\n",
    "        n -= 1\n",
    "\n",
    "    if n == 0:\n",
    "        break  "
   ]
  },
  {
   "cell_type": "markdown",
   "metadata": {},
   "source": [
    "**A) How\n",
    "does the LSTM classifier compare to the feed-forward neural network classifier?**"
   ]
  },
  {
   "cell_type": "code",
   "execution_count": null,
   "metadata": {},
   "outputs": [],
   "source": []
  },
  {
   "cell_type": "markdown",
   "metadata": {},
   "source": [
    "**B)  Modify the LSTM architecture so that it only takes the left or right context into account. Train and test these two models. Which of the two contexts provides more information for\n",
    "particle prediction?**"
   ]
  },
  {
   "cell_type": "code",
   "execution_count": null,
   "metadata": {},
   "outputs": [],
   "source": []
  },
  {
   "cell_type": "markdown",
   "metadata": {},
   "source": [
    "**C) Tabulate the number of misclassified examples as a function of the number of UNK tokens\n",
    "in the left and right contexts. Manually inspect a couple of misclassified examples. What do\n",
    "you observe? How do your observations relate to results of earlier parts of the formative?**"
   ]
  },
  {
   "cell_type": "code",
   "execution_count": null,
   "metadata": {},
   "outputs": [],
   "source": []
  },
  {
   "cell_type": "markdown",
   "metadata": {},
   "source": [
    "**D) Create a confusion matrix of the predicted labels versus the true labels. What do you\n",
    "observe?**"
   ]
  },
  {
   "cell_type": "code",
   "execution_count": null,
   "metadata": {},
   "outputs": [],
   "source": []
  },
  {
   "cell_type": "markdown",
   "metadata": {},
   "source": [
    "### Part V: Overall Discussion"
   ]
  },
  {
   "cell_type": "markdown",
   "metadata": {},
   "source": [
    "**Compare the three models to the trigram model presented in class. What information is available for the classifier in each of the four approaches? Are you able to interpret the overall\n",
    "success of the models in relation to the information that is available in each one and the ability\n",
    "to exploit it in an optimal fashion?**"
   ]
  },
  {
   "cell_type": "code",
   "execution_count": null,
   "metadata": {},
   "outputs": [],
   "source": []
  }
 ],
 "metadata": {
  "kernelspec": {
   "display_name": "Python 3",
   "language": "python",
   "name": "python3"
  },
  "language_info": {
   "codemirror_mode": {
    "name": "ipython",
    "version": 3
   },
   "file_extension": ".py",
   "mimetype": "text/x-python",
   "name": "python",
   "nbconvert_exporter": "python",
   "pygments_lexer": "ipython3",
   "version": "3.8.6"
  }
 },
 "nbformat": 4,
 "nbformat_minor": 4
}
