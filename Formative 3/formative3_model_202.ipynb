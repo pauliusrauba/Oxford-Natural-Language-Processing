{
 "cells": [
  {
   "cell_type": "markdown",
   "metadata": {},
   "source": [
    "# Formative 3"
   ]
  },
  {
   "cell_type": "code",
   "execution_count": 1,
   "metadata": {},
   "outputs": [],
   "source": [
    "import pickle\n",
    "import re\n",
    "from collections import defaultdict, Counter\n",
    "from html import unescape\n",
    "\n",
    "import numpy as np\n",
    "import pandas as pd\n",
    "import torch\n",
    "from matplotlib import pyplot as plt\n",
    "from nltk import sent_tokenize\n",
    "from sklearn.model_selection import train_test_split\n",
    "from torch import nn, optim\n",
    "from torch.nn import functional as F"
   ]
  },
  {
   "cell_type": "code",
   "execution_count": 2,
   "metadata": {},
   "outputs": [],
   "source": [
    "pd.options.mode.chained_assignment = None"
   ]
  },
  {
   "cell_type": "code",
   "execution_count": 3,
   "metadata": {},
   "outputs": [],
   "source": [
    "# Define function to clean and split text\n",
    "def clean(text):\n",
    "    text = unescape(text)\n",
    "    return [re.sub('[^a-z0-9]', '', w.lower()) for w in text.strip().split()]"
   ]
  },
  {
   "cell_type": "code",
   "execution_count": 6,
   "metadata": {},
   "outputs": [],
   "source": [
    "# Load dataframe\n",
    "df = pd.read_csv('reddit_mbti.csv')\n",
    "\n",
    "# Remove columns not needed for formative\n",
    "df = df[['comment', 'type']]\n",
    "\n",
    "# Remove empty comments\n",
    "#df = df[df.comment.apply(lambda x: len(clean(x))) > 0]"
   ]
  },
  {
   "cell_type": "code",
   "execution_count": 11,
   "metadata": {},
   "outputs": [
    {
     "data": {
      "text/html": [
       "<div>\n",
       "<style scoped>\n",
       "    .dataframe tbody tr th:only-of-type {\n",
       "        vertical-align: middle;\n",
       "    }\n",
       "\n",
       "    .dataframe tbody tr th {\n",
       "        vertical-align: top;\n",
       "    }\n",
       "\n",
       "    .dataframe thead th {\n",
       "        text-align: right;\n",
       "    }\n",
       "</style>\n",
       "<table border=\"1\" class=\"dataframe\">\n",
       "  <thead>\n",
       "    <tr style=\"text-align: right;\">\n",
       "      <th></th>\n",
       "      <th>comment</th>\n",
       "      <th>type</th>\n",
       "    </tr>\n",
       "  </thead>\n",
       "  <tbody>\n",
       "    <tr>\n",
       "      <th>0</th>\n",
       "      <td>you really want to go down this path?  Would y...</td>\n",
       "      <td>enfp</td>\n",
       "    </tr>\n",
       "    <tr>\n",
       "      <th>1</th>\n",
       "      <td>I think insurance companies do that.  Once you...</td>\n",
       "      <td>intp</td>\n",
       "    </tr>\n",
       "    <tr>\n",
       "      <th>2</th>\n",
       "      <td>I see it as 22,500 people working for about an...</td>\n",
       "      <td>intp</td>\n",
       "    </tr>\n",
       "    <tr>\n",
       "      <th>3</th>\n",
       "      <td>Our President stands ready to ride his golf ca...</td>\n",
       "      <td>intp</td>\n",
       "    </tr>\n",
       "    <tr>\n",
       "      <th>4</th>\n",
       "      <td>Some write that he was trying to say \"big leag...</td>\n",
       "      <td>intp</td>\n",
       "    </tr>\n",
       "  </tbody>\n",
       "</table>\n",
       "</div>"
      ],
      "text/plain": [
       "                                             comment  type\n",
       "0  you really want to go down this path?  Would y...  enfp\n",
       "1  I think insurance companies do that.  Once you...  intp\n",
       "2  I see it as 22,500 people working for about an...  intp\n",
       "3  Our President stands ready to ride his golf ca...  intp\n",
       "4  Some write that he was trying to say \"big leag...  intp"
      ]
     },
     "execution_count": 11,
     "metadata": {},
     "output_type": "execute_result"
    }
   ],
   "source": [
    "df.head()"
   ]
  },
  {
   "cell_type": "code",
   "execution_count": 6,
   "metadata": {},
   "outputs": [],
   "source": [
    "# Define dictionary for particle look-up\n",
    "p2id = {'over': 0, 'back': 1, 'around': 2, 'out': 3}\n",
    "\n",
    "# Define dictionary for reverse particle look-up\n",
    "id2p = {v: k for k, v in p2id.items()}\n",
    "\n",
    "# Initialize lists for storing contexts around particles\n",
    "sent_1 = list()\n",
    "sent_2 = list()\n",
    "\n",
    "# Initialize list for storing labels\n",
    "labels = list()\n",
    "\n",
    "# Loop over comments\n",
    "for c in df.comment:\n",
    "    \n",
    "    # Loop over individual sentences\n",
    "    for s in sent_tokenize(c):\n",
    "        \n",
    "        # Clean and split sentence\n",
    "        split = clean(s)\n",
    "        \n",
    "        if len(split) < 10:\n",
    "            continue\n",
    "        \n",
    "        # Add sentence to list if only one particle in sentence\n",
    "        if len([w for w in split if w in p2id]) == 1:\n",
    "            \n",
    "            # Identify particle\n",
    "            p = [w for w in split if w in p2id][0]\n",
    "\n",
    "            # Store contexts and label\n",
    "            sent_1.append(split[:split.index(p)])\n",
    "            sent_2.append(split[split.index(p) + 1:])\n",
    "            labels.append(p)"
   ]
  },
  {
   "cell_type": "code",
   "execution_count": 7,
   "metadata": {},
   "outputs": [],
   "source": [
    "# Create dataframe with contexts and labels and perform stratified sampling\n",
    "p_df = pd.DataFrame({'sent_1': sent_1, 'sent_2': sent_2, 'label': labels})[['sent_1', 'sent_2', 'label']]\n",
    "p_df = p_df.groupby('label', group_keys=False).apply(lambda x: x.sample(n=1500, random_state=0)).reset_index(drop=True)"
   ]
  },
  {
   "cell_type": "code",
   "execution_count": 8,
   "metadata": {},
   "outputs": [],
   "source": [
    "# Split dataframe into training, evaluation, and test data\n",
    "train, dev_test = train_test_split(p_df, test_size=0.2, stratify=p_df['label'], random_state=0)\n",
    "dev, test = train_test_split(dev_test, test_size=0.5, stratify=dev_test['label'], random_state=0)"
   ]
  },
  {
   "cell_type": "code",
   "execution_count": 9,
   "metadata": {},
   "outputs": [],
   "source": [
    "# Create dictionary for word look-up\n",
    "word_counter = Counter([w for s in train.sent_1 for w in s] + [w for s in train.sent_2 for w in s])\n",
    "w2id = {w: i + 2 for i, w in enumerate(w for w, c in word_counter.most_common())}\n",
    "\n",
    "# Create dictionary for reverse word look-up\n",
    "id2w = {i: w for w, i in w2id.items()}"
   ]
  },
  {
   "cell_type": "code",
   "execution_count": 10,
   "metadata": {},
   "outputs": [],
   "source": [
    "# Define function to encode sentences\n",
    "def encode(sent, w2id):\n",
    "    return [w2id[w] if w in w2id else 1 for w in sent]"
   ]
  },
  {
   "cell_type": "code",
   "execution_count": 11,
   "metadata": {},
   "outputs": [],
   "source": [
    "# Define function to pad sentences\n",
    "def pad(sent):\n",
    "    if len(sent) > 5:\n",
    "        sent = sent[-5:]\n",
    "    elif len(sent) < 5:\n",
    "        sent = [0] * (5 - len(sent)) + sent\n",
    "    return sent"
   ]
  },
  {
   "cell_type": "code",
   "execution_count": 12,
   "metadata": {},
   "outputs": [],
   "source": [
    "# Encode and pad sentences\n",
    "for data in [train, dev, test]:\n",
    "    \n",
    "    # Encode and pad left contexts\n",
    "    data['enc_1'] = data.sent_1.apply(lambda x: pad(encode(x, w2id)))\n",
    "    \n",
    "    # Reverse order of right contexts prior to padding\n",
    "    data['enc_2'] = data.sent_2.apply(lambda x: pad(encode(x, w2id)[::-1]))"
   ]
  },
  {
   "cell_type": "code",
   "execution_count": 13,
   "metadata": {},
   "outputs": [],
   "source": [
    "# Define function for classifier training and evaluation\n",
    "def train_classifier(classifier, train_x, train_y, dev_x, dev_y, test_x, test_y, device):\n",
    "    \n",
    "    # Define training objective\n",
    "    criterion = nn.CrossEntropyLoss()\n",
    "\n",
    "    # Define optimizer\n",
    "    optimizer = optim.Adam(classifier.parameters(), lr=0.01)\n",
    "    \n",
    "    # Move model and data to CUDA\n",
    "    classifier = classifier.to(device)\n",
    "    [train_x, train_y, dev_x, dev_y, test_x, test_y] = [data.to(device) for data in [train_x, train_y, dev_x, dev_y, test_x, test_y]]\n",
    "    \n",
    "    # Train model\n",
    "    for epoch in range(1, 21):\n",
    "        \n",
    "        # Perform forward pass\n",
    "        classifier.train()\n",
    "        \n",
    "        optimizer.zero_grad() # <--- \n",
    "        output = classifier(train_x)\n",
    "        loss = criterion(output, train_y)\n",
    "        \n",
    "        # Perform backpropagation\n",
    "        loss.backward()\n",
    "        \n",
    "        # Update model weights\n",
    "        optimizer.step()\n",
    "        \n",
    "        # Evaluate model every fifth epoch\n",
    "        if epoch % 5 == 0:\n",
    "\n",
    "            classifier.eval() # <--- \"what i'm donna do next\"\n",
    "\n",
    "            with torch.no_grad():\n",
    "                    \n",
    "                    # Perform forward pass\n",
    "                    output =  classifier(dev_x)\n",
    "                    \n",
    "                    # Make prediction\n",
    "                    max_output = output.argmax(dim=1, keepdim=True)\n",
    "                    \n",
    "                    # Compute accuracy\n",
    "                    acc = max_output.squeeze(1).eq(dev_y).sum() / torch.FloatTensor([dev_y.shape[0]])\n",
    "\n",
    "                    print('Accuracy on dev data after {:02d} epochs: {:.4f}'.format(epoch, acc.data.item()))\n",
    "    \n",
    "    # Test model\n",
    "    classifier.eval()\n",
    "        \n",
    "    with torch.no_grad():\n",
    "        \n",
    "        # Perform forward pass\n",
    "        output =  classifier(test_x)\n",
    "        \n",
    "        # Make prediction\n",
    "        max_output = output.argmax(dim=1, keepdim=True)\n",
    "        \n",
    "        # Compute accuracy\n",
    "        acc = max_output.squeeze(1).eq(test_y).sum() / torch.FloatTensor([test_y.shape[0]])\n",
    "        \n",
    "        print('Accuracy on test data: {:.4f}'.format(acc.data.item()))\n",
    "\n",
    "    # Return labels and predictions\n",
    "    return acc.data.item(), [l.item() for l in test_y], [p.item() for p in max_output]"
   ]
  },
  {
   "cell_type": "code",
   "execution_count": 19,
   "metadata": {},
   "outputs": [],
   "source": [
    "# Define device\n",
    "device = torch.device('cuda' if torch.cuda.is_available() else 'cpu')"
   ]
  },
  {
   "cell_type": "code",
   "execution_count": 20,
   "metadata": {},
   "outputs": [],
   "source": [
    "### Part II: Logistic Regression Classifier\n",
    "\n",
    "# Define logistic regression classifier class\n",
    "class LRClassifier(nn.Module):\n",
    "    \n",
    "    def __init__(self, input_dim, output_dim):\n",
    "        \n",
    "        super(LRClassifier, self).__init__()\n",
    "        self.linear = nn.Linear(input_dim, output_dim)\n",
    "\n",
    "    def forward(self, x):\n",
    "        return self.linear(x)"
   ]
  },
  {
   "cell_type": "code",
   "execution_count": 21,
   "metadata": {},
   "outputs": [],
   "source": [
    "# Define function to convert context into sparse indicator vector\n",
    "def sent2sparse(sent_1, sent_2, vocab):\n",
    "    counter = Counter(sent_1 + sent_2)\n",
    "    return [counter[w] for w in sorted(vocab)[:5000]]"
   ]
  },
  {
   "cell_type": "code",
   "execution_count": 22,
   "metadata": {},
   "outputs": [],
   "source": [
    "# Define hyperparameters\n",
    "input_dim = 5000\n",
    "output_dim = 4"
   ]
  },
  {
   "cell_type": "code",
   "execution_count": 23,
   "metadata": {},
   "outputs": [
    {
     "name": "stdout",
     "output_type": "stream",
     "text": [
      "Using context window size of 1...\n",
      "Accuracy on dev data after 05 epochs: 0.5717\n",
      "Accuracy on dev data after 10 epochs: 0.5983\n",
      "Accuracy on dev data after 15 epochs: 0.5850\n",
      "Accuracy on dev data after 20 epochs: 0.5900\n",
      "Accuracy on test data: 0.5833\n",
      "Using context window size of 2...\n",
      "Accuracy on dev data after 05 epochs: 0.5233\n",
      "Accuracy on dev data after 10 epochs: 0.5350\n",
      "Accuracy on dev data after 15 epochs: 0.5417\n",
      "Accuracy on dev data after 20 epochs: 0.5533\n",
      "Accuracy on test data: 0.5500\n",
      "Using context window size of 3...\n",
      "Accuracy on dev data after 05 epochs: 0.5233\n",
      "Accuracy on dev data after 10 epochs: 0.5233\n",
      "Accuracy on dev data after 15 epochs: 0.5317\n",
      "Accuracy on dev data after 20 epochs: 0.5250\n",
      "Accuracy on test data: 0.5083\n",
      "Using context window size of 4...\n",
      "Accuracy on dev data after 05 epochs: 0.4750\n",
      "Accuracy on dev data after 10 epochs: 0.4850\n",
      "Accuracy on dev data after 15 epochs: 0.5017\n",
      "Accuracy on dev data after 20 epochs: 0.5067\n",
      "Accuracy on test data: 0.4900\n",
      "Using context window size of 5...\n",
      "Accuracy on dev data after 05 epochs: 0.4650\n",
      "Accuracy on dev data after 10 epochs: 0.4600\n",
      "Accuracy on dev data after 15 epochs: 0.4600\n",
      "Accuracy on dev data after 20 epochs: 0.4667\n",
      "Accuracy on test data: 0.4833\n"
     ]
    }
   ],
   "source": [
    "# Define range of context window sizes\n",
    "ks = [1, 2, 3, 4, 5]\n",
    "\n",
    "# Initialize lists for storing accuracies and top words\n",
    "accs = list()\n",
    "tops = list()\n",
    "\n",
    "# Loop over context window sizes\n",
    "for k in ks:\n",
    "    \n",
    "    print('Using context window size of {}...'.format(k))\n",
    "\n",
    "    # Convert encoded and padded right and left context into sparse vectors\n",
    "    for data in [train, dev, test]:\n",
    "        data['sparse'] = data.apply(lambda x: sent2sparse(x.enc_1[-k:], x.enc_2[-k:], set(id2w.keys())), axis=1)\n",
    "\n",
    "    # Transform all data to torch tensors\n",
    "    train_x = torch.tensor(list(train['sparse'])).float()\n",
    "    train_y = torch.tensor([p2id[p] for p in train.label])\n",
    "    dev_x = torch.tensor(list(dev['sparse'])).float()\n",
    "    dev_y = torch.tensor([p2id[p] for p in dev.label])\n",
    "    test_x = torch.tensor(list(test['sparse'])).float()\n",
    "    test_y = torch.tensor([p2id[p] for p in test.label])\n",
    "\n",
    "    # Train and evaluate model\n",
    "    classifier = LRClassifier(input_dim, output_dim)\n",
    "    acc, true_lr, pred_lr = train_classifier(classifier, train_x, train_y, dev_x, dev_y, test_x, test_y, device)\n",
    "    \n",
    "    # Store accuracies and top words\n",
    "    accs.append(acc)\n",
    "    tops.append([[id2w[i+2] for i in l] for l in classifier.linear.weight.topk(k=10, dim=-1)[1].tolist()])"
   ]
  },
  {
   "cell_type": "markdown",
   "metadata": {},
   "source": [
    "**A) What accuracy would a classifier get that predicts classes based on random guesses? How\n",
    "does the logistic regression classifier compare to that baseline?**"
   ]
  },
  {
   "cell_type": "markdown",
   "metadata": {},
   "source": [
    "Given that we are dealing with 4 classes and balanced data, a classifier based on random guesses would get an accuracy of 25%. The accuracy of the logistic regression classifier is way above that random baseline."
   ]
  },
  {
   "cell_type": "markdown",
   "metadata": {},
   "source": [
    "**B) Plot the accuracy as a function of the context window size $k$. What do you observe? What conclusions can you draw regarding the linguistic information necessary for predicting particles?**\n"
   ]
  },
  {
   "cell_type": "code",
   "execution_count": 24,
   "metadata": {},
   "outputs": [
    {
     "data": {
      "image/png": "[encoded data removed]",
      "text/plain": [
       "<Figure size 864x432 with 1 Axes>"
      ]
     },
     "metadata": {
      "needs_background": "light"
     },
     "output_type": "display_data"
    }
   ],
   "source": [
    "\n",
    "# Create plot of classification performance as a function of k\n",
    "fig, ax = plt.subplots(1, figsize=(12, 6))\n",
    "\n",
    "ax.plot(ks, accs)\n",
    "ax.set_title('Classification performance as a function of $k$')\n",
    "ax.set_xlabel('$k$')\n",
    "ax.set_ylabel('Classification performance (accuracy)')\n",
    "\n",
    "plt.show()"
   ]
  },
  {
   "cell_type": "markdown",
   "metadata": {},
   "source": [
    "There is a direct link between the context window size and the classification performance, with smaller values of $k$ leading to better performance. This suggests that the narrow syntactic context is more predictive of particles than the broader topical context. Notice the parallel to word embedding training, where smaller context window sizes generally lead to embeddings that capture more syntactic information."
   ]
  },
  {
   "cell_type": "markdown",
   "metadata": {},
   "source": [
    "**C) For each $k$, examine the top 10 predictive words of each particle. Are your observations in line with the hypothesis made above?**"
   ]
  },
  {
   "cell_type": "code",
   "execution_count": 26,
   "metadata": {},
   "outputs": [
    {
     "name": "stdout",
     "output_type": "stream",
     "text": [
      "Context window size of 1:\n",
      "Top predictive words for over: ['republicans', 'parkinsons', 'planes', 'unify', '500', '54', 'nearly', 'map', 'crazies', 'threats']\n",
      "Top predictive words for back: ['always', 'seat', 'winning', 'later', 'should', 'good', 'mean', 'building', 'never', 'weekends']\n",
      "Top predictive words for around: ['scandals', 'actually', 'barely', 'bad', 'than', '100000', 'sentiment', 'roads', 'having', 'supporters']\n",
      "Top predictive words for out: ['military', 'carry', 'ill', 'sent', 'crossed', 'looks', 'entirely', 'called', 'word', 'drops']\n",
      "Context window size of 2:\n",
      "Top predictive words for over: ['talking', 'scratch', 'quick', 'twice', 'drugs', 'fired', 'whose', 'hurt', 'talked', 'increase']\n",
      "Top predictive words for back: ['strong', 'machine', '1000', 'overwhelming', 'bit', 'hundreds', 'few', 'says', 'invite', 'falls']\n",
      "Top predictive words for around: ['youll', 'finish', 'criminal', 'tweets', 'head', 'bullshit', 'trying', 'everywhere', 'allegations', 'thank']\n",
      "Top predictive words for out: ['tossing', 'military', 'knock', 'settle', 'student', 'entirely', 'violently', 'lied', 'emails', 'anyways']\n",
      "Context window size of 3:\n",
      "Top predictive words for over: ['run', 'flynn', 'destroyed', 'declare', 'grew', 'trouble', 'start', 'drugs', 'count', 'smooth']\n",
      "Top predictive words for back: ['building', 'argue', 'democracy', 'falls', 'totally', 'candidates', 'hundreds', 'overwhelming', 'senator', 'build']\n",
      "Top predictive words for around: ['student', 'expect', 'whenever', 'order', 'request', 'circle', 'opinion', 'sexually', 'races', 'concentration']\n",
      "Top predictive words for out: ['dinner', 'team', 'area', 'flight', 'looks', 'rented', 'plus', 'apples', 'door', 'board']\n",
      "Context window size of 4:\n",
      "Top predictive words for over: ['drunk', 'mongering', 'peoples', 'blame', 'flynn', 'friends', 'fed', 'ruling', 'grew', 'effectively']\n",
      "Top predictive words for back: ['300', 'building', 'americans', 'child', 'buying', 'tpp', 'yeah', 'ones', 'wearing', 'style']\n",
      "Top predictive words for around: ['also', 'kept', 'sources', 'tied', 'immigration', 'comfort', 'libertarian', 'whenever', 'simple', 'fisa']\n",
      "Top predictive words for out: ['area', 'team', 'weeks', 'industry', 'stop', 'eloquent', 'step', 'profit', 'done', 'met']\n",
      "Context window size of 5:\n",
      "Top predictive words for over: ['though', 'car', 'tomorrow', 'feel', 'equal', 'useful', 'corruption', 'perception', 'forms', 'crush']\n",
      "Top predictive words for back: ['union', 'hey', 'cycles', 'faith', 'tea', 'constant', 'quality', 'background', 'paying', 'confirm']\n",
      "Top predictive words for around: ['develop', 'supports', 'plans', 'save', 'winners', 'taxes', 'spinning', 'finish', 'politics', 'show']\n",
      "Top predictive words for out: ['role', 'oregon', 'released', 'latest', 'tax', 'law', 'companies', 'buying', 'scapegoat', 'allow']\n"
     ]
    }
   ],
   "source": [
    "for k, top in zip(ks, tops):\n",
    "    print('Context window size of {}:'.format(k))\n",
    "    for i in range(4):\n",
    "        print('Top predictive words for {}:'.format(id2p[i]), top[i])"
   ]
  },
  {
   "cell_type": "code",
   "execution_count": 27,
   "metadata": {},
   "outputs": [
    {
     "name": "stdout",
     "output_type": "stream",
     "text": [
      "Context window size of 1:\n",
      "Top predictive words for over: ['republicans', 'parkinsons', 'planes', 'unify', '500', '54', 'nearly', 'map', 'crazies', 'threats']\n",
      "Top predictive words for back: ['always', 'seat', 'winning', 'later', 'should', 'good', 'mean', 'building', 'never', 'weekends']\n",
      "Top predictive words for around: ['scandals', 'actually', 'barely', 'bad', 'than', '100000', 'sentiment', 'roads', 'having', 'supporters']\n",
      "Top predictive words for out: ['military', 'carry', 'ill', 'sent', 'crossed', 'looks', 'entirely', 'called', 'word', 'drops']\n",
      "Context window size of 2:\n",
      "Top predictive words for over: ['talking', 'scratch', 'quick', 'twice', 'drugs', 'fired', 'whose', 'hurt', 'talked', 'increase']\n",
      "Top predictive words for back: ['strong', 'machine', '1000', 'overwhelming', 'bit', 'hundreds', 'few', 'says', 'invite', 'falls']\n",
      "Top predictive words for around: ['youll', 'finish', 'criminal', 'tweets', 'head', 'bullshit', 'trying', 'everywhere', 'allegations', 'thank']\n",
      "Top predictive words for out: ['tossing', 'military', 'knock', 'settle', 'student', 'entirely', 'violently', 'lied', 'emails', 'anyways']\n",
      "Context window size of 3:\n",
      "Top predictive words for over: ['run', 'flynn', 'destroyed', 'declare', 'grew', 'trouble', 'start', 'drugs', 'count', 'smooth']\n",
      "Top predictive words for back: ['building', 'argue', 'democracy', 'falls', 'totally', 'candidates', 'hundreds', 'overwhelming', 'senator', 'build']\n",
      "Top predictive words for around: ['student', 'expect', 'whenever', 'order', 'request', 'circle', 'opinion', 'sexually', 'races', 'concentration']\n",
      "Top predictive words for out: ['dinner', 'team', 'area', 'flight', 'looks', 'rented', 'plus', 'apples', 'door', 'board']\n",
      "Context window size of 4:\n",
      "Top predictive words for over: ['drunk', 'mongering', 'peoples', 'blame', 'flynn', 'friends', 'fed', 'ruling', 'grew', 'effectively']\n",
      "Top predictive words for back: ['300', 'building', 'americans', 'child', 'buying', 'tpp', 'yeah', 'ones', 'wearing', 'style']\n",
      "Top predictive words for around: ['also', 'kept', 'sources', 'tied', 'immigration', 'comfort', 'libertarian', 'whenever', 'simple', 'fisa']\n",
      "Top predictive words for out: ['area', 'team', 'weeks', 'industry', 'stop', 'eloquent', 'step', 'profit', 'done', 'met']\n",
      "Context window size of 5:\n",
      "Top predictive words for over: ['though', 'car', 'tomorrow', 'feel', 'equal', 'useful', 'corruption', 'perception', 'forms', 'crush']\n",
      "Top predictive words for back: ['union', 'hey', 'cycles', 'faith', 'tea', 'constant', 'quality', 'background', 'paying', 'confirm']\n",
      "Top predictive words for around: ['develop', 'supports', 'plans', 'save', 'winners', 'taxes', 'spinning', 'finish', 'politics', 'show']\n",
      "Top predictive words for out: ['role', 'oregon', 'released', 'latest', 'tax', 'law', 'companies', 'buying', 'scapegoat', 'allow']\n"
     ]
    }
   ],
   "source": [
    "for k, top in zip(ks, tops):\n",
    "    print('Context window size of {}:'.format(k))\n",
    "    for i in range(4):\n",
    "        print('Top predictive words for {}:'.format(id2p[i]), top[i])"
   ]
  },
  {
   "cell_type": "markdown",
   "metadata": {},
   "source": [
    "For smaller values of $k$, several of the most predictive words frequently occur in syntactic contexts with the particle (e.g., _cenetered around_). This is also the case for some larger values of $k$, but arguably to a lesser extent."
   ]
  },
  {
   "cell_type": "markdown",
   "metadata": {},
   "source": [
    "### Part III: Feed-forward Neural Network Classifier"
   ]
  },
  {
   "cell_type": "code",
   "execution_count": 28,
   "metadata": {},
   "outputs": [],
   "source": [
    "# Define feed-forward neural network classifier class\n",
    "class FNNClassifier(nn.Module):\n",
    "    \n",
    "    def __init__(self, input_dim, output_dim, hidden_dim):\n",
    "        \n",
    "        super(FNNClassifier, self).__init__()\n",
    "        self.linear_1 = nn.Linear(input_dim, hidden_dim)\n",
    "        self.linear_2 = nn.Linear(hidden_dim, output_dim)\n",
    "\n",
    "    def forward(self, x):\n",
    "        h = torch.tanh(self.linear_1(x))\n",
    "        return self.linear_2(h)"
   ]
  },
  {
   "cell_type": "code",
   "execution_count": 29,
   "metadata": {},
   "outputs": [
    {
     "ename": "AttributeError",
     "evalue": "Can only use the '.sparse' accessor with Sparse data.",
     "output_type": "error",
     "traceback": [
      "\u001b[1;31m---------------------------------------------------------------------------\u001b[0m",
      "\u001b[1;31mAttributeError\u001b[0m                            Traceback (most recent call last)",
      "\u001b[1;32m<ipython-input-29-dba368bd3291>\u001b[0m in \u001b[0;36m<module>\u001b[1;34m\u001b[0m\n\u001b[0;32m      4\u001b[0m \u001b[1;33m\u001b[0m\u001b[0m\n\u001b[0;32m      5\u001b[0m \u001b[1;31m# Transform all data to torch tensors\u001b[0m\u001b[1;33m\u001b[0m\u001b[1;33m\u001b[0m\u001b[1;33m\u001b[0m\u001b[0m\n\u001b[1;32m----> 6\u001b[1;33m \u001b[0mtrain_x\u001b[0m \u001b[1;33m=\u001b[0m \u001b[0mtorch\u001b[0m\u001b[1;33m.\u001b[0m\u001b[0mtensor\u001b[0m\u001b[1;33m(\u001b[0m\u001b[0mlist\u001b[0m\u001b[1;33m(\u001b[0m\u001b[0mtrain\u001b[0m\u001b[1;33m.\u001b[0m\u001b[0msparse\u001b[0m\u001b[1;33m)\u001b[0m\u001b[1;33m)\u001b[0m\u001b[1;33m.\u001b[0m\u001b[0mfloat\u001b[0m\u001b[1;33m(\u001b[0m\u001b[1;33m)\u001b[0m\u001b[1;33m\u001b[0m\u001b[1;33m\u001b[0m\u001b[0m\n\u001b[0m\u001b[0;32m      7\u001b[0m \u001b[0mtrain_y\u001b[0m \u001b[1;33m=\u001b[0m \u001b[0mtorch\u001b[0m\u001b[1;33m.\u001b[0m\u001b[0mtensor\u001b[0m\u001b[1;33m(\u001b[0m\u001b[1;33m[\u001b[0m\u001b[0mp2id\u001b[0m\u001b[1;33m[\u001b[0m\u001b[0mp\u001b[0m\u001b[1;33m]\u001b[0m \u001b[1;32mfor\u001b[0m \u001b[0mp\u001b[0m \u001b[1;32min\u001b[0m \u001b[0mtrain\u001b[0m\u001b[1;33m.\u001b[0m\u001b[0mlabel\u001b[0m\u001b[1;33m]\u001b[0m\u001b[1;33m)\u001b[0m\u001b[1;33m\u001b[0m\u001b[1;33m\u001b[0m\u001b[0m\n\u001b[0;32m      8\u001b[0m \u001b[0mdev_x\u001b[0m \u001b[1;33m=\u001b[0m \u001b[0mtorch\u001b[0m\u001b[1;33m.\u001b[0m\u001b[0mtensor\u001b[0m\u001b[1;33m(\u001b[0m\u001b[0mlist\u001b[0m\u001b[1;33m(\u001b[0m\u001b[0mdev\u001b[0m\u001b[1;33m.\u001b[0m\u001b[0msparse\u001b[0m\u001b[1;33m)\u001b[0m\u001b[1;33m)\u001b[0m\u001b[1;33m.\u001b[0m\u001b[0mfloat\u001b[0m\u001b[1;33m(\u001b[0m\u001b[1;33m)\u001b[0m\u001b[1;33m\u001b[0m\u001b[1;33m\u001b[0m\u001b[0m\n",
      "\u001b[1;32m~\\anaconda3\\lib\\site-packages\\pandas\\core\\generic.py\u001b[0m in \u001b[0;36m__getattr__\u001b[1;34m(self, name)\u001b[0m\n\u001b[0;32m   5454\u001b[0m             \u001b[1;32mor\u001b[0m \u001b[0mname\u001b[0m \u001b[1;32min\u001b[0m \u001b[0mself\u001b[0m\u001b[1;33m.\u001b[0m\u001b[0m_accessors\u001b[0m\u001b[1;33m\u001b[0m\u001b[1;33m\u001b[0m\u001b[0m\n\u001b[0;32m   5455\u001b[0m         ):\n\u001b[1;32m-> 5456\u001b[1;33m             \u001b[1;32mreturn\u001b[0m \u001b[0mobject\u001b[0m\u001b[1;33m.\u001b[0m\u001b[0m__getattribute__\u001b[0m\u001b[1;33m(\u001b[0m\u001b[0mself\u001b[0m\u001b[1;33m,\u001b[0m \u001b[0mname\u001b[0m\u001b[1;33m)\u001b[0m\u001b[1;33m\u001b[0m\u001b[1;33m\u001b[0m\u001b[0m\n\u001b[0m\u001b[0;32m   5457\u001b[0m         \u001b[1;32melse\u001b[0m\u001b[1;33m:\u001b[0m\u001b[1;33m\u001b[0m\u001b[1;33m\u001b[0m\u001b[0m\n\u001b[0;32m   5458\u001b[0m             \u001b[1;32mif\u001b[0m \u001b[0mself\u001b[0m\u001b[1;33m.\u001b[0m\u001b[0m_info_axis\u001b[0m\u001b[1;33m.\u001b[0m\u001b[0m_can_hold_identifiers_and_holds_name\u001b[0m\u001b[1;33m(\u001b[0m\u001b[0mname\u001b[0m\u001b[1;33m)\u001b[0m\u001b[1;33m:\u001b[0m\u001b[1;33m\u001b[0m\u001b[1;33m\u001b[0m\u001b[0m\n",
      "\u001b[1;32m~\\anaconda3\\lib\\site-packages\\pandas\\core\\accessor.py\u001b[0m in \u001b[0;36m__get__\u001b[1;34m(self, obj, cls)\u001b[0m\n\u001b[0;32m    178\u001b[0m             \u001b[1;31m# we're accessing the attribute of the class, i.e., Dataset.geo\u001b[0m\u001b[1;33m\u001b[0m\u001b[1;33m\u001b[0m\u001b[1;33m\u001b[0m\u001b[0m\n\u001b[0;32m    179\u001b[0m             \u001b[1;32mreturn\u001b[0m \u001b[0mself\u001b[0m\u001b[1;33m.\u001b[0m\u001b[0m_accessor\u001b[0m\u001b[1;33m\u001b[0m\u001b[1;33m\u001b[0m\u001b[0m\n\u001b[1;32m--> 180\u001b[1;33m         \u001b[0maccessor_obj\u001b[0m \u001b[1;33m=\u001b[0m \u001b[0mself\u001b[0m\u001b[1;33m.\u001b[0m\u001b[0m_accessor\u001b[0m\u001b[1;33m(\u001b[0m\u001b[0mobj\u001b[0m\u001b[1;33m)\u001b[0m\u001b[1;33m\u001b[0m\u001b[1;33m\u001b[0m\u001b[0m\n\u001b[0m\u001b[0;32m    181\u001b[0m         \u001b[1;31m# Replace the property with the accessor object. Inspired by:\u001b[0m\u001b[1;33m\u001b[0m\u001b[1;33m\u001b[0m\u001b[1;33m\u001b[0m\u001b[0m\n\u001b[0;32m    182\u001b[0m         \u001b[1;31m# https://www.pydanny.com/cached-property.html\u001b[0m\u001b[1;33m\u001b[0m\u001b[1;33m\u001b[0m\u001b[1;33m\u001b[0m\u001b[0m\n",
      "\u001b[1;32m~\\anaconda3\\lib\\site-packages\\pandas\\core\\arrays\\sparse\\accessor.py\u001b[0m in \u001b[0;36m__init__\u001b[1;34m(self, data)\u001b[0m\n\u001b[0;32m     17\u001b[0m     \u001b[1;32mdef\u001b[0m \u001b[0m__init__\u001b[0m\u001b[1;33m(\u001b[0m\u001b[0mself\u001b[0m\u001b[1;33m,\u001b[0m \u001b[0mdata\u001b[0m\u001b[1;33m=\u001b[0m\u001b[1;32mNone\u001b[0m\u001b[1;33m)\u001b[0m\u001b[1;33m:\u001b[0m\u001b[1;33m\u001b[0m\u001b[1;33m\u001b[0m\u001b[0m\n\u001b[0;32m     18\u001b[0m         \u001b[0mself\u001b[0m\u001b[1;33m.\u001b[0m\u001b[0m_parent\u001b[0m \u001b[1;33m=\u001b[0m \u001b[0mdata\u001b[0m\u001b[1;33m\u001b[0m\u001b[1;33m\u001b[0m\u001b[0m\n\u001b[1;32m---> 19\u001b[1;33m         \u001b[0mself\u001b[0m\u001b[1;33m.\u001b[0m\u001b[0m_validate\u001b[0m\u001b[1;33m(\u001b[0m\u001b[0mdata\u001b[0m\u001b[1;33m)\u001b[0m\u001b[1;33m\u001b[0m\u001b[1;33m\u001b[0m\u001b[0m\n\u001b[0m\u001b[0;32m     20\u001b[0m \u001b[1;33m\u001b[0m\u001b[0m\n\u001b[0;32m     21\u001b[0m     \u001b[1;32mdef\u001b[0m \u001b[0m_validate\u001b[0m\u001b[1;33m(\u001b[0m\u001b[0mself\u001b[0m\u001b[1;33m,\u001b[0m \u001b[0mdata\u001b[0m\u001b[1;33m)\u001b[0m\u001b[1;33m:\u001b[0m\u001b[1;33m\u001b[0m\u001b[1;33m\u001b[0m\u001b[0m\n",
      "\u001b[1;32m~\\anaconda3\\lib\\site-packages\\pandas\\core\\arrays\\sparse\\accessor.py\u001b[0m in \u001b[0;36m_validate\u001b[1;34m(self, data)\u001b[0m\n\u001b[0;32m    221\u001b[0m         \u001b[0mdtypes\u001b[0m \u001b[1;33m=\u001b[0m \u001b[0mdata\u001b[0m\u001b[1;33m.\u001b[0m\u001b[0mdtypes\u001b[0m\u001b[1;33m\u001b[0m\u001b[1;33m\u001b[0m\u001b[0m\n\u001b[0;32m    222\u001b[0m         \u001b[1;32mif\u001b[0m \u001b[1;32mnot\u001b[0m \u001b[0mall\u001b[0m\u001b[1;33m(\u001b[0m\u001b[0misinstance\u001b[0m\u001b[1;33m(\u001b[0m\u001b[0mt\u001b[0m\u001b[1;33m,\u001b[0m \u001b[0mSparseDtype\u001b[0m\u001b[1;33m)\u001b[0m \u001b[1;32mfor\u001b[0m \u001b[0mt\u001b[0m \u001b[1;32min\u001b[0m \u001b[0mdtypes\u001b[0m\u001b[1;33m)\u001b[0m\u001b[1;33m:\u001b[0m\u001b[1;33m\u001b[0m\u001b[1;33m\u001b[0m\u001b[0m\n\u001b[1;32m--> 223\u001b[1;33m             \u001b[1;32mraise\u001b[0m \u001b[0mAttributeError\u001b[0m\u001b[1;33m(\u001b[0m\u001b[0mself\u001b[0m\u001b[1;33m.\u001b[0m\u001b[0m_validation_msg\u001b[0m\u001b[1;33m)\u001b[0m\u001b[1;33m\u001b[0m\u001b[1;33m\u001b[0m\u001b[0m\n\u001b[0m\u001b[0;32m    224\u001b[0m \u001b[1;33m\u001b[0m\u001b[0m\n\u001b[0;32m    225\u001b[0m     \u001b[1;33m@\u001b[0m\u001b[0mclassmethod\u001b[0m\u001b[1;33m\u001b[0m\u001b[1;33m\u001b[0m\u001b[0m\n",
      "\u001b[1;31mAttributeError\u001b[0m: Can only use the '.sparse' accessor with Sparse data."
     ]
    }
   ],
   "source": [
    "# Convert encoded and padded right and left context into sparse vectors\n",
    "for data in [train, dev, test]:\n",
    "    data['sparse'] = data.apply(lambda x: sent2sparse(x.enc_1[-1:], x.enc_2[-1:], set(id2w.keys())), axis=1)\n",
    "\n",
    "# Transform all data to torch tensors\n",
    "train_x = torch.tensor(list(train.sparse)).float()\n",
    "train_y = torch.tensor([p2id[p] for p in train.label])\n",
    "dev_x = torch.tensor(list(dev.sparse)).float()\n",
    "dev_y = torch.tensor([p2id[p] for p in dev.label])\n",
    "test_x = torch.tensor(list(test.sparse)).float()\n",
    "test_y = torch.tensor([p2id[p] for p in test.label])"
   ]
  },
  {
   "cell_type": "code",
   "execution_count": null,
   "metadata": {},
   "outputs": [],
   "source": [
    "# Define hyperparameters\n",
    "input_dim = 5000\n",
    "output_dim = 4"
   ]
  },
  {
   "cell_type": "code",
   "execution_count": null,
   "metadata": {},
   "outputs": [],
   "source": [
    "# Define range of dimensions\n",
    "ds = [5, 10, 50, 100, 500]\n",
    "\n",
    "# Initialize lists for storing accuracies\n",
    "accs = list()\n",
    "\n",
    "# Loop over dimensions\n",
    "for d in ds:\n",
    "    \n",
    "    print('Using hidden dimension of {:03d}...'.format(d))\n",
    "\n",
    "    # Train and evaluate model\n",
    "    classifier = FNNClassifier(input_dim, output_dim, d)\n",
    "    acc, true_ffn, pred_ffn = train_classifier(classifier, train_x, train_y, dev_x, dev_y, test_x, test_y, device)\n",
    "    \n",
    "    # Store accuracies\n",
    "    accs.append(acc)"
   ]
  },
  {
   "cell_type": "code",
   "execution_count": null,
   "metadata": {},
   "outputs": [],
   "source": [
    "# Rerun with best dimension\n",
    "classifier = FNNClassifier(input_dim, output_dim, 50)\n",
    "acc, true_ffn, pred_ffn = train_classifier(classifier, train_x, train_y, dev_x, dev_y, test_x, test_y, device)"
   ]
  },
  {
   "cell_type": "code",
   "execution_count": null,
   "metadata": {},
   "outputs": [],
   "source": [
    "# Inspect cases of wrong logistic regression predictions and correct feed-forward neural network predictions\n",
    "n = 5\n",
    "\n",
    "for s_1, s_2, l, p_lr, p_ffn in zip(test.sent_1, test.sent_2, true_lr, pred_lr, pred_ffn):\n",
    "    if l != p_lr and l == p_ffn:\n",
    "        print(id2p[l], id2p[p_lr], id2p[p_ffn])\n",
    "        print('\\t'.join(s_1[-5:]), '\\t\\t', '\\t'.join(s_2[:5]))\n",
    "        print()\n",
    "        n -= 1\n",
    "\n",
    "    if n == 0:\n",
    "        break  "
   ]
  },
  {
   "cell_type": "markdown",
   "metadata": {},
   "source": [
    "**A) How\n",
    "does this classifier compare to the logistic regression classifier?**"
   ]
  },
  {
   "cell_type": "markdown",
   "metadata": {},
   "source": [
    "For tuned $d$, the feed-forward neural network classifier performs better than the logistic regression classifier. For the best value of $d$, the difference amounts to 2%."
   ]
  },
  {
   "cell_type": "markdown",
   "metadata": {},
   "source": [
    "**B) Plot the accuracy as a function of the hidden dimension $d$. What do you observe?**"
   ]
  },
  {
   "cell_type": "code",
   "execution_count": null,
   "metadata": {},
   "outputs": [],
   "source": [
    "# Create plot of classification performance as a function of k\n",
    "fig, ax = plt.subplots(1, figsize=(12, 6))\n",
    "\n",
    "ax.plot(ds, accs)\n",
    "ax.set_title('Classification performance as a function of $d$')\n",
    "ax.set_xlabel('$d$')\n",
    "ax.set_ylabel('Classification performance (accuracy)')\n",
    "\n",
    "plt.show()"
   ]
  },
  {
   "cell_type": "markdown",
   "metadata": {},
   "source": [
    "The best performance is reached with $d = 50$. For smaller values, the performance of the feed-forward neural network classifier is similar or worse than the logistic regression classifier. For larger values, the performance does not improve further and is a bit worse than at the peak value. When repeating the hyperparameter search multiple times, $d = 100$ sometimes performs better than $d = 50$."
   ]
  },
  {
   "cell_type": "markdown",
   "metadata": {},
   "source": [
    "### Part IV: LSTM Classifier"
   ]
  },
  {
   "cell_type": "code",
   "execution_count": 30,
   "metadata": {},
   "outputs": [],
   "source": [
    "# Define LSTM classifier class\n",
    "class LSTMClassifier(nn.Module):\n",
    "    \n",
    "    # Pass hyperparameters as arguments\n",
    "    def __init__(self, input_dim, embedding_dim, hidden_dim, output_dim, dropout, context):\n",
    "        \n",
    "        super(LSTMClassifier, self).__init__()\n",
    "        \n",
    "        self.context = context\n",
    "        \n",
    "        if self.context in {'left', 'both'}:\n",
    "        \n",
    "            # Define embedding and LSTM layers for left context (batch_dim x 5 -> batch x 5 x embedding_dim -> batch_dim x hidden_dim)\n",
    "            self.embedding_1 = nn.Embedding(input_dim, embedding_dim, padding_idx=0)\n",
    "            self.lstm_1 = nn.LSTM(embedding_dim, hidden_dim, batch_first=True)\n",
    "            \n",
    "        if self.context in {'right', 'both'}:\n",
    "            \n",
    "            # Define embedding and LSTM layers for right context (batch_dim x 5 -> batch x 5 x embedding_dim -> batch_dim x hidden_dim)\n",
    "            self.embedding_2 = nn.Embedding(input_dim, embedding_dim, padding_idx=0)\n",
    "            self.lstm_2 = nn.LSTM(embedding_dim, hidden_dim, batch_first=True)\n",
    "            \n",
    "        if self.context in {'left', 'right'}:\n",
    "        \n",
    "            # Define dense layer (batch_dim x hidden_dim -> batch_dim x output_dim)\n",
    "            self.linear = nn.Linear(hidden_dim, output_dim)\n",
    "            \n",
    "        if self.context == 'both':\n",
    "            \n",
    "            # Define dense layer (batch_dim x 2 * hidden_dim -> batch_dim x output_dim)\n",
    "            self.linear = nn.Linear(2 * hidden_dim, output_dim)\n",
    "        \n",
    "        # Define dropout\n",
    "        self.dropout = nn.Dropout(dropout)\n",
    "        \n",
    "    def forward(self, x):\n",
    "        \n",
    "        sent_1, sent_2 = torch.chunk(x, 2, dim=-1)\n",
    "        \n",
    "        if self.context in {'left', 'both'}:\n",
    "            \n",
    "            # Define flow through embedding and LSTM layers for left context\n",
    "            emb_1 = self.dropout(self.embedding_1(sent_1))\n",
    "            output_1, (hidden_1, cell_1) = self.lstm_1(emb_1)\n",
    "            \n",
    "        if self.context in {'right', 'both'}:\n",
    "            \n",
    "            # Define flow through embedding and LSTM layers for right context            \n",
    "            emb_2 = self.dropout(self.embedding_2(sent_2))            \n",
    "            output_2, (hidden_2, cell_2) = self.lstm_2(emb_2)\n",
    "            \n",
    "        if self.context == 'left':\n",
    "            \n",
    "            # Pass through dense layer\n",
    "            output = self.linear(self.dropout(output_1[:, -1, :]))\n",
    "            \n",
    "        if self.context == 'right':\n",
    "            \n",
    "            # Pass through dense layer\n",
    "            output = self.linear(self.dropout(output_2[:, -1, :]))\n",
    "            \n",
    "        if self.context == 'both':\n",
    "        \n",
    "            # Concatenate and pass through dense layer\n",
    "            output = self.linear(self.dropout(torch.cat((output_1[:, -1, :], output_2[:, -1, :]), dim=-1)))\n",
    "        \n",
    "        return output"
   ]
  },
  {
   "cell_type": "code",
   "execution_count": 31,
   "metadata": {},
   "outputs": [],
   "source": [
    "# Transform all data to torch tensors\n",
    "train_x = torch.cat((torch.tensor(list(train.enc_1)), torch.tensor(list(train.enc_2))), dim=-1) \n",
    "train_y = torch.tensor([p2id[p] for p in train.label])\n",
    "dev_x = torch.cat((torch.tensor(list(dev.enc_1)), torch.tensor(list(dev.enc_2))), dim=-1)\n",
    "dev_y = torch.tensor([p2id[p] for p in dev.label])\n",
    "test_x = torch.cat((torch.tensor(list(test.enc_1)), torch.tensor(list(test.enc_2))), dim=-1)\n",
    "test_y = torch.tensor([p2id[p] for p in test.label])"
   ]
  },
  {
   "cell_type": "code",
   "execution_count": 34,
   "metadata": {},
   "outputs": [
    {
     "data": {
      "text/html": [
       "<div>\n",
       "<style scoped>\n",
       "    .dataframe tbody tr th:only-of-type {\n",
       "        vertical-align: middle;\n",
       "    }\n",
       "\n",
       "    .dataframe tbody tr th {\n",
       "        vertical-align: top;\n",
       "    }\n",
       "\n",
       "    .dataframe thead th {\n",
       "        text-align: right;\n",
       "    }\n",
       "</style>\n",
       "<table border=\"1\" class=\"dataframe\">\n",
       "  <thead>\n",
       "    <tr style=\"text-align: right;\">\n",
       "      <th></th>\n",
       "      <th>sent_1</th>\n",
       "      <th>sent_2</th>\n",
       "      <th>label</th>\n",
       "      <th>enc_1</th>\n",
       "      <th>enc_2</th>\n",
       "      <th>sparse</th>\n",
       "    </tr>\n",
       "  </thead>\n",
       "  <tbody>\n",
       "    <tr>\n",
       "      <th>1118</th>\n",
       "      <td>[sandy, had]</td>\n",
       "      <td>[100b, in, funding, and, it, affected, way, mo...</td>\n",
       "      <td>around</td>\n",
       "      <td>[0, 0, 0, 3031, 80]</td>\n",
       "      <td>[11, 4, 1051, 8, 5248]</td>\n",
       "      <td>[0, 0, 0, 0, 0, 0, 0, 0, 0, 0, 0, 0, 0, 0, 0, ...</td>\n",
       "    </tr>\n",
       "    <tr>\n",
       "      <th>852</th>\n",
       "      <td>[so, once, shes, there, theres, no, reason, to...</td>\n",
       "      <td>[even, if, you, buy, into, the, fallacy, that,...</td>\n",
       "      <td>around</td>\n",
       "      <td>[62, 276, 3, 203, 11]</td>\n",
       "      <td>[91, 465, 13, 22, 72]</td>\n",
       "      <td>[0, 0, 0, 0, 0, 0, 0, 0, 0, 1, 0, 0, 0, 0, 0, ...</td>\n",
       "    </tr>\n",
       "    <tr>\n",
       "      <th>1431</th>\n",
       "      <td>[as, a, result, they, gained, extraterritorial...</td>\n",
       "      <td>[the, world]</td>\n",
       "      <td>around</td>\n",
       "      <td>[745, 371, 3920, 8, 2504]</td>\n",
       "      <td>[0, 0, 0, 131, 2]</td>\n",
       "      <td>[1, 0, 0, 0, 0, 0, 0, 0, 0, 0, 0, 0, 0, 0, 0, ...</td>\n",
       "    </tr>\n",
       "    <tr>\n",
       "      <th>4981</th>\n",
       "      <td>[theyre, the, ones, paying, all, these, politi...</td>\n",
       "      <td>[so, they, can, price, gouge, necessities, for...</td>\n",
       "      <td>over</td>\n",
       "      <td>[153, 516, 3, 263, 74]</td>\n",
       "      <td>[9339, 1625, 50, 14, 32]</td>\n",
       "      <td>[0, 0, 0, 0, 0, 0, 0, 0, 0, 0, 0, 0, 0, 0, 0, ...</td>\n",
       "    </tr>\n",
       "    <tr>\n",
       "      <th>3221</th>\n",
       "      <td>[payment, for, class, a, drugs, , 1mhowever, w...</td>\n",
       "      <td>[]</td>\n",
       "      <td>out</td>\n",
       "      <td>[870, 39, 10, 2508, 27]</td>\n",
       "      <td>[0, 0, 0, 0, 0]</td>\n",
       "      <td>[0, 0, 0, 0, 0, 0, 0, 0, 0, 0, 0, 0, 0, 0, 0, ...</td>\n",
       "    </tr>\n",
       "    <tr>\n",
       "      <th>...</th>\n",
       "      <td>...</td>\n",
       "      <td>...</td>\n",
       "      <td>...</td>\n",
       "      <td>...</td>\n",
       "      <td>...</td>\n",
       "      <td>...</td>\n",
       "    </tr>\n",
       "    <tr>\n",
       "      <th>5757</th>\n",
       "      <td>[the, fact, that, a, contested, convention, is...</td>\n",
       "      <td>[on, the, first, ballot]</td>\n",
       "      <td>over</td>\n",
       "      <td>[9, 39, 5, 1091, 158]</td>\n",
       "      <td>[0, 2607, 172, 2, 16]</td>\n",
       "      <td>[0, 0, 0, 0, 0, 0, 0, 0, 0, 0, 0, 0, 0, 0, 1, ...</td>\n",
       "    </tr>\n",
       "    <tr>\n",
       "      <th>2982</th>\n",
       "      <td>[the, last, two, gop, presidential, nominees, ...</td>\n",
       "      <td>[to, the, center, in, time, for, the, national...</td>\n",
       "      <td>back</td>\n",
       "      <td>[900, 3, 87, 7, 213]</td>\n",
       "      <td>[61, 8, 1514, 2, 3]</td>\n",
       "      <td>[0, 1, 0, 0, 0, 0, 0, 0, 0, 0, 0, 0, 0, 0, 0, ...</td>\n",
       "    </tr>\n",
       "    <tr>\n",
       "      <th>3808</th>\n",
       "      <td>[im, not, old, by, any, terms, but, i, swear, ...</td>\n",
       "      <td>[curled, up, in, a, ball, unable, to, stop, co...</td>\n",
       "      <td>out</td>\n",
       "      <td>[67, 3, 3783, 47, 67]</td>\n",
       "      <td>[2355, 5, 8, 47, 12852]</td>\n",
       "      <td>[0, 0, 0, 0, 0, 0, 0, 0, 0, 0, 0, 0, 0, 0, 0, ...</td>\n",
       "    </tr>\n",
       "    <tr>\n",
       "      <th>1447</th>\n",
       "      <td>[a, few, of, the, women]</td>\n",
       "      <td>[my, campus, who, are, muslim, have, told, me,...</td>\n",
       "      <td>around</td>\n",
       "      <td>[5, 169, 6, 2, 359]</td>\n",
       "      <td>[861, 21, 46, 12853, 53]</td>\n",
       "      <td>[0, 0, 0, 0, 0, 0, 0, 0, 0, 0, 0, 0, 0, 0, 0, ...</td>\n",
       "    </tr>\n",
       "    <tr>\n",
       "      <th>662</th>\n",
       "      <td>[if, the, latter, i, cant, really, feel, bad, ...</td>\n",
       "      <td>[450kyr]</td>\n",
       "      <td>around</td>\n",
       "      <td>[12, 152, 46, 9, 201]</td>\n",
       "      <td>[0, 0, 0, 0, 12854]</td>\n",
       "      <td>[0, 0, 0, 0, 0, 0, 0, 0, 0, 0, 0, 0, 0, 0, 0, ...</td>\n",
       "    </tr>\n",
       "  </tbody>\n",
       "</table>\n",
       "<p>4800 rows × 6 columns</p>\n",
       "</div>"
      ],
      "text/plain": [
       "                                                 sent_1  \\\n",
       "1118                                       [sandy, had]   \n",
       "852   [so, once, shes, there, theres, no, reason, to...   \n",
       "1431  [as, a, result, they, gained, extraterritorial...   \n",
       "4981  [theyre, the, ones, paying, all, these, politi...   \n",
       "3221  [payment, for, class, a, drugs, , 1mhowever, w...   \n",
       "...                                                 ...   \n",
       "5757  [the, fact, that, a, contested, convention, is...   \n",
       "2982  [the, last, two, gop, presidential, nominees, ...   \n",
       "3808  [im, not, old, by, any, terms, but, i, swear, ...   \n",
       "1447                           [a, few, of, the, women]   \n",
       "662   [if, the, latter, i, cant, really, feel, bad, ...   \n",
       "\n",
       "                                                 sent_2   label  \\\n",
       "1118  [100b, in, funding, and, it, affected, way, mo...  around   \n",
       "852   [even, if, you, buy, into, the, fallacy, that,...  around   \n",
       "1431                                       [the, world]  around   \n",
       "4981  [so, they, can, price, gouge, necessities, for...    over   \n",
       "3221                                                 []     out   \n",
       "...                                                 ...     ...   \n",
       "5757                           [on, the, first, ballot]    over   \n",
       "2982  [to, the, center, in, time, for, the, national...    back   \n",
       "3808  [curled, up, in, a, ball, unable, to, stop, co...     out   \n",
       "1447  [my, campus, who, are, muslim, have, told, me,...  around   \n",
       "662                                            [450kyr]  around   \n",
       "\n",
       "                          enc_1                     enc_2  \\\n",
       "1118        [0, 0, 0, 3031, 80]    [11, 4, 1051, 8, 5248]   \n",
       "852       [62, 276, 3, 203, 11]     [91, 465, 13, 22, 72]   \n",
       "1431  [745, 371, 3920, 8, 2504]         [0, 0, 0, 131, 2]   \n",
       "4981     [153, 516, 3, 263, 74]  [9339, 1625, 50, 14, 32]   \n",
       "3221    [870, 39, 10, 2508, 27]           [0, 0, 0, 0, 0]   \n",
       "...                         ...                       ...   \n",
       "5757      [9, 39, 5, 1091, 158]     [0, 2607, 172, 2, 16]   \n",
       "2982       [900, 3, 87, 7, 213]       [61, 8, 1514, 2, 3]   \n",
       "3808      [67, 3, 3783, 47, 67]   [2355, 5, 8, 47, 12852]   \n",
       "1447        [5, 169, 6, 2, 359]  [861, 21, 46, 12853, 53]   \n",
       "662       [12, 152, 46, 9, 201]       [0, 0, 0, 0, 12854]   \n",
       "\n",
       "                                                 sparse  \n",
       "1118  [0, 0, 0, 0, 0, 0, 0, 0, 0, 0, 0, 0, 0, 0, 0, ...  \n",
       "852   [0, 0, 0, 0, 0, 0, 0, 0, 0, 1, 0, 0, 0, 0, 0, ...  \n",
       "1431  [1, 0, 0, 0, 0, 0, 0, 0, 0, 0, 0, 0, 0, 0, 0, ...  \n",
       "4981  [0, 0, 0, 0, 0, 0, 0, 0, 0, 0, 0, 0, 0, 0, 0, ...  \n",
       "3221  [0, 0, 0, 0, 0, 0, 0, 0, 0, 0, 0, 0, 0, 0, 0, ...  \n",
       "...                                                 ...  \n",
       "5757  [0, 0, 0, 0, 0, 0, 0, 0, 0, 0, 0, 0, 0, 0, 1, ...  \n",
       "2982  [0, 1, 0, 0, 0, 0, 0, 0, 0, 0, 0, 0, 0, 0, 0, ...  \n",
       "3808  [0, 0, 0, 0, 0, 0, 0, 0, 0, 0, 0, 0, 0, 0, 0, ...  \n",
       "1447  [0, 0, 0, 0, 0, 0, 0, 0, 0, 0, 0, 0, 0, 0, 0, ...  \n",
       "662   [0, 0, 0, 0, 0, 0, 0, 0, 0, 0, 0, 0, 0, 0, 0, ...  \n",
       "\n",
       "[4800 rows x 6 columns]"
      ]
     },
     "execution_count": 34,
     "metadata": {},
     "output_type": "execute_result"
    }
   ],
   "source": [
    "train"
   ]
  },
  {
   "cell_type": "code",
   "execution_count": null,
   "metadata": {},
   "outputs": [],
   "source": [
    "# Define hyperparameters\n",
    "input_dim = len(w2id) + 2\n",
    "embedding_dim = 300\n",
    "hidden_dim = 200\n",
    "output_dim = 4\n",
    "dropout = 0.5"
   ]
  },
  {
   "cell_type": "code",
   "execution_count": null,
   "metadata": {},
   "outputs": [],
   "source": [
    "# Train and test on both contexts\n",
    "classifier = LSTMClassifier(input_dim, embedding_dim, hidden_dim, output_dim, dropout, 'both')\n",
    "acc, true_b, pred_b = train_classifier(classifier, train_x, train_y, dev_x, dev_y, test_x, test_y, device)"
   ]
  },
  {
   "cell_type": "code",
   "execution_count": null,
   "metadata": {},
   "outputs": [],
   "source": [
    "# Inspect cases of wrong feed-forward neural network predictions and correct LSTM predictions\n",
    "n = 5\n",
    "\n",
    "for s_1, s_2, l, p_ffn, p_lstm in zip(test.sent_1, test.sent_2, true_ffn, pred_ffn, pred_b):\n",
    "    if l != p_ffn and l == p_lstm:\n",
    "        print(id2p[l], id2p[p_ffn], id2p[p_lstm])\n",
    "        print('\\t'.join(s_1[-5:]), '\\t\\t', '\\t'.join(s_2[:5]))\n",
    "        print()\n",
    "        n -= 1\n",
    "\n",
    "    if n == 0:\n",
    "        break  "
   ]
  },
  {
   "cell_type": "markdown",
   "metadata": {},
   "source": [
    "**A) How\n",
    "does the LSTM classifier compare to the feed-forward neural network classifier?**"
   ]
  },
  {
   "cell_type": "markdown",
   "metadata": {},
   "source": [
    "The LSTM outperforms the feed-forward neural network classifier substantially, leading to a performance improvement of 8%."
   ]
  },
  {
   "cell_type": "markdown",
   "metadata": {},
   "source": [
    "**B)  Modify the LSTM architecture so that it only takes the left or right context into account. Train and test these two models. Which of the two contexts provides more information for\n",
    "particle prediction?**"
   ]
  },
  {
   "cell_type": "code",
   "execution_count": null,
   "metadata": {},
   "outputs": [],
   "source": [
    "# Train and test on left contexts\n",
    "classifier = LSTMClassifier(input_dim, embedding_dim, hidden_dim, output_dim, dropout, 'left')\n",
    "acc, true_l, pred_l = train_classifier(classifier, train_x, train_y, dev_x, dev_y, test_x, test_y, device)"
   ]
  },
  {
   "cell_type": "code",
   "execution_count": null,
   "metadata": {},
   "outputs": [],
   "source": [
    "# Train and test on right contexts\n",
    "classifier = LSTMClassifier(input_dim, embedding_dim, hidden_dim, output_dim, dropout, 'right')\n",
    "acc, true_r, pred_r = train_classifier(classifier, train_x, train_y, dev_x, dev_y, test_x, test_y, device)"
   ]
  },
  {
   "cell_type": "markdown",
   "metadata": {},
   "source": [
    "Both models perform worse than the particle classifier trained on both contexts. The model trained on the right context performs substantially better than the one trained on the left context."
   ]
  },
  {
   "cell_type": "markdown",
   "metadata": {},
   "source": [
    "**C) Tabulate the number of misclassified examples as a function of the number of UNK tokens\n",
    "in the left and right contexts. Manually inspect a couple of misclassified examples. What do\n",
    "you observe? How do your observations relate to results of earlier parts of the formative?**"
   ]
  },
  {
   "cell_type": "code",
   "execution_count": null,
   "metadata": {},
   "outputs": [],
   "source": [
    "unk_counter = defaultdict(Counter)\n",
    "\n",
    "for c_l, c_r, l, p in zip(test.enc_1, test.enc_2, true_b, pred_b):\n",
    "    unk_counter[len([i for i in c_l if i == 1])]['left_f'] += int(l != p)\n",
    "    unk_counter[len([i for i in c_r if i == 1])]['right_f'] += int(l != p)\n",
    "    unk_counter[len([i for i in c_l if i == 1])]['left_c'] += int(l == p)\n",
    "    unk_counter[len([i for i in c_r if i == 1])]['right_c'] += int(l == p)\n",
    "    \n",
    "for n in unk_counter:\n",
    "    total = sum(unk_counter[n].values())\n",
    "    unk_counter[n] = {t: unk_counter[n][t] / total for t in unk_counter[n]}"
   ]
  },
  {
   "cell_type": "code",
   "execution_count": null,
   "metadata": {},
   "outputs": [],
   "source": [
    "fig, ax = plt.subplots(figsize=(12, 6))\n",
    "\n",
    "ax.bar([x - 0.3 for x in range(3)], [unk_counter[n]['left_c'] for n in range(3)], 0.2, label='Left context correct')\n",
    "ax.bar([x - 0.1 for x in range(3)], [unk_counter[n]['left_f'] for n in range(3)], 0.2, label='Left context false')\n",
    "ax.bar([x + 0.1 for x in range(3)], [unk_counter[n]['right_c'] for n in range(3)], 0.2, label='Right context correct')\n",
    "ax.bar([x + 0.3 for x in range(3)], [unk_counter[n]['right_f'] for n in range(3)], 0.2, label='Right context false')\n",
    "\n",
    "ax.xaxis.set_ticks([0, 1, 2, 3])\n",
    "ax.set_xlabel('Number of UNK tokens')\n",
    "ax.set_ylabel('Share of examples')\n",
    "ax.set_title('Examples by number of UNK tokens and context type')\n",
    "\n",
    "ax.legend(loc='upper left')\n",
    "\n",
    "plt.show()"
   ]
  },
  {
   "cell_type": "code",
   "execution_count": null,
   "metadata": {},
   "outputs": [],
   "source": [
    "# Print five misclassified examples with two UNK tokens\n",
    "n = 5\n",
    "\n",
    "for s_1, s_2, c_l, c_r, l, p in zip(test.sent_1, test.sent_2, test.enc_1, test.enc_2, true_b, pred_b):\n",
    "    if (len([i for i in c_l if i == 1]) == 2 or len([i for i in c_r if i == 1]) == 2) and l != p:\n",
    "        print(id2p[l], id2p[p])\n",
    "        print('\\t'.join(s_1[-5:]), '\\t\\t', '\\t'.join(s_2[:5]))\n",
    "        print('\\t'.join([str(t) for t in c_l]), '\\t\\t', '\\t'.join([str(t) for t in c_r][::-1]))\n",
    "        print()\n",
    "        n -= 1\n",
    "\n",
    "    if n == 0:\n",
    "        break      "
   ]
  },
  {
   "cell_type": "markdown",
   "metadata": {},
   "source": [
    "The number of UNK tokens has a negative influence on the model performance. The effect is more pronounced for the right context. In addition, it is interesting to note that most of the UNK tokens occurred close to the particle. This is in line with the observation made above that the nearest words are most predictive of the particle."
   ]
  },
  {
   "cell_type": "markdown",
   "metadata": {},
   "source": [
    "**D) Create a confusion matrix of the predicted labels versus the true labels. What do you\n",
    "observe?**"
   ]
  },
  {
   "cell_type": "code",
   "execution_count": null,
   "metadata": {},
   "outputs": [],
   "source": [
    "for labels, preds in [(true_b, pred_b), (true_l, pred_l), (true_r, pred_r)]:\n",
    "    \n",
    "    # Initialize confuction matrix\n",
    "    c_matrix = defaultdict(Counter)\n",
    "\n",
    "    # Create confusion matrix\n",
    "    for l, p in zip(labels, preds):\n",
    "        c_matrix[id2p[l]][id2p[p]] += 1\n",
    "\n",
    "    # Display confusion matrix\n",
    "    print(pd.DataFrame.from_dict(c_matrix, orient='index', columns=list(p2id.keys())).reindex(index=list(p2id.keys())))\n",
    "    \n",
    "    print()"
   ]
  },
  {
   "cell_type": "markdown",
   "metadata": {},
   "source": [
    "For all three models, most misclassifications occurred for _around_. Also, all three models have a relatively low number of errors for _back_."
   ]
  },
  {
   "cell_type": "markdown",
   "metadata": {},
   "source": [
    "### Part V: Overall Discussion"
   ]
  },
  {
   "cell_type": "markdown",
   "metadata": {},
   "source": [
    "**Compare the three models to the trigram model presented in class. What information is available for the classifier in each of the four approaches? Are you able to interpret the overall\n",
    "success of the models in relation to the information that is available in each one and the ability\n",
    "to exploit it in an optimal fashion?**\n",
    "\n",
    "The performance of the logistic regression classifier is similar to the trigram model presented in class. For a fair comparison, we need to look at the model using a window size of two, which is only slightly better than the trigram model. The feed-forward neural network is already substantially better than the trigram model. It has a much larger model capacity, i.e., much more trainable parameters, than the trigram model, which allows it to capture the patterns in the data with a greater detail. As opposed to the logistic regression and the feed-forward neural network classfiers, the LSTM has information about the order of words, which is crucial for the task of particle prediction and hence leads to a large performance increase."
   ]
  },
  {
   "cell_type": "code",
   "execution_count": null,
   "metadata": {},
   "outputs": [],
   "source": []
  }
 ],
 "metadata": {
  "kernelspec": {
   "display_name": "Python 3",
   "language": "python",
   "name": "python3"
  },
  "language_info": {
   "codemirror_mode": {
    "name": "ipython",
    "version": 3
   },
   "file_extension": ".py",
   "mimetype": "text/x-python",
   "name": "python",
   "nbconvert_exporter": "python",
   "pygments_lexer": "ipython3",
   "version": "3.8.6"
  }
 },
 "nbformat": 4,
 "nbformat_minor": 4
}
