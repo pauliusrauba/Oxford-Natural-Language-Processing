{
 "cells": [
  {
   "cell_type": "code",
   "execution_count": 23,
   "id": "annoying-devil",
   "metadata": {},
   "outputs": [],
   "source": [
    "import pandas as pd\n",
    "import os\n",
    "import numpy as np\n",
    "import pycountry\n",
    "from html import unescape\n",
    "import re\n",
    "import nltk\n",
    "from nltk.corpus import stopwords\n",
    "import pickle\n",
    "from collections import Counter, defaultdict\n",
    "from scipy.spatial.distance import cosine\n",
    "\n",
    "import matplotlib.pyplot as plt\n",
    "import seaborn as sns\n",
    "\n",
    "from sklearn.manifold import TSNE\n",
    "import glob"
   ]
  },
  {
   "cell_type": "markdown",
   "id": "mechanical-shuttle",
   "metadata": {},
   "source": [
    "## Setup for looping"
   ]
  },
  {
   "cell_type": "code",
   "execution_count": 5,
   "id": "supported-newton",
   "metadata": {},
   "outputs": [],
   "source": [
    "def number_to_regime(number):\n",
    "    \"\"\"Map The Economist Intelligence Unit number to a regime type\"\"\"\n",
    "    if number > 8:\n",
    "        return 'Full democracy'\n",
    "    elif number > 6:\n",
    "        return 'Flawed democracy'\n",
    "    elif number > 4:\n",
    "        return 'Hybrid regime'\n",
    "    elif number >= 0:\n",
    "        return 'Authoritarian regime'\n",
    "    else:\n",
    "        raise ValueError('Data has negative values')"
   ]
  },
  {
   "cell_type": "code",
   "execution_count": 6,
   "id": "composite-excellence",
   "metadata": {},
   "outputs": [],
   "source": [
    "# Get additional countries\n",
    "countries_additional = ['South Korea', 'North Korea', 'Korea', 'UAE', 'Bonaire', 'Bosnia', \"Cote D'ivoire\", 'Falkland Islands', 'Micronesia', \n",
    "                        'Iran', 'Laos', 'Moldova', 'Palestine', 'Syria', 'Taiwan', 'Tanzania', 'USA', 'United States of America', 'US', 'Vatican', 'Vietnam', 'America']\n",
    "\n",
    "country_list = [c.name for c in pycountry.countries]\n",
    "countries_all = countries_additional + country_list"
   ]
  },
  {
   "cell_type": "code",
   "execution_count": 111,
   "id": "earned-broadway",
   "metadata": {},
   "outputs": [],
   "source": [
    "# Get deficient mapping countries\n",
    "deficient_mapping = ['Switzerland', 'Nepal']\n",
    "\n",
    "# Get democracy csv file\n",
    "democracies = pd.read_excel('democracy-dictatorship.xlsx')\n",
    "\n",
    "# Map the democracies\n",
    "democracies['Country'] = [x[2:] if x in deficient_mapping else x[1:] for x in democracies.Country.unique()]\n",
    "\n",
    "def get_countries(text, countries_additional=countries_additional):\n",
    "    countries = []\n",
    "    country_list = [c.name for c in pycountry.countries]\n",
    "    for country in country_list + countries_additional:\n",
    "        if country in str(text):\n",
    "            countries.append(country)\n",
    "    return countries"
   ]
  },
  {
   "cell_type": "code",
   "execution_count": 112,
   "id": "classified-drunk",
   "metadata": {},
   "outputs": [],
   "source": [
    "# Get mapping to the countries\n",
    "mapping = {'UAE': 'United Arab Emirates',\n",
    "           'Bosnia': 'Bosnia and Herzegovina',\n",
    "           'USA': 'United States',\n",
    "           'United States of America': 'United States',\n",
    "           'US': 'United States',\n",
    "           'America': 'United States',\n",
    "           'Congo, The Democratic Republic of the': 'Democratic Republic of the Congo',\n",
    "           'Congo': 'Democratic Republic of the Congo',\n",
    "           'Czechia': 'Czech Republic',\n",
    "           'Dominica': 'Dominican Republic',\n",
    "            'Iran, Islamic Republic of': 'Iran',\n",
    "           'Russian Federation': 'Russia',\n",
    "           'Viet nam': 'Vietnam',\n",
    "           'Syrian Arab Republic': 'Syria'\n",
    "\n",
    "          }"
   ]
  },
  {
   "cell_type": "code",
   "execution_count": 114,
   "id": "bridal-premium",
   "metadata": {},
   "outputs": [],
   "source": [
    "democracy_mapped = {}\n",
    "democracy_unmapped = []\n",
    "democracy_list = [x for x in democracies.Country]\n",
    "\n",
    "# Loop over all the countries\n",
    "for c in countries_all:\n",
    "\n",
    "    # If the country is in the list, add it directly\n",
    "    if c in democracy_list: \n",
    "        democracy_mapped[c] = number_to_regime(\n",
    "            democracies.loc[democracies.Country == c, year].values)\n",
    "\n",
    "    # If the country is in the additional mapping key, add it by changing the key\n",
    "    elif c in mapping.keys():\n",
    "        map_country = mapping[c]\n",
    "        democracy_mapped[c] = number_to_regime(\n",
    "            democracies.loc[democracies.Country == map_country, year].values)\n",
    "\n",
    "    # Else say this is unmapped and will not be used in future analysis\n",
    "    else: democracy_unmapped.append(c)\n"
   ]
  },
  {
   "cell_type": "code",
   "execution_count": 115,
   "id": "floral-blank",
   "metadata": {},
   "outputs": [],
   "source": [
    "def get_democracy_mapping(year=2010):\n",
    "    # Create country-democracy-dictatorship mapping\n",
    "    democracy_mapped = {}\n",
    "    democracy_unmapped = []\n",
    "    democracy_list = [x for x in democracies.Country]\n",
    "\n",
    "    # Loop over all the countries\n",
    "    for c in countries_all:\n",
    "\n",
    "        # If the country is in the list, add it directly\n",
    "        if c in democracy_list: \n",
    "            democracy_mapped[c] = number_to_regime(\n",
    "                democracies.loc[democracies.Country == c, year].values)\n",
    "\n",
    "        # If the country is in the additional mapping key, add it by changing the key\n",
    "        elif c in mapping.keys():\n",
    "            map_country = mapping[c]\n",
    "            democracy_mapped[c] = number_to_regime(\n",
    "                democracies.loc[democracies.Country == map_country, year].values)\n",
    "\n",
    "        # Else say this is unmapped and will not be used in future analysis\n",
    "        else: democracy_unmapped.append(c)\n",
    "            \n",
    "    return democracy_mapped"
   ]
  },
  {
   "cell_type": "code",
   "execution_count": 130,
   "id": "inappropriate-expression",
   "metadata": {},
   "outputs": [],
   "source": [
    "def unit_test_democracy():\n",
    "    \"\"\"Tests that at least one of the mappings is different\"\"\"\n",
    "    \n",
    "    # Get data for 2010 and 2015\n",
    "    democracy_mapped1 = get_democracy_mapping(2010)\n",
    "    democracy_mapped2 = get_democracy_mapping(2015)\n",
    "    \n",
    "    non_maps = []\n",
    "    for d1, d2 in zip(democracy_mapped1.items(), democracy_mapped2.items()):\n",
    "        if d1[0] == d2[0] and d1[1] != d2[1]:\n",
    "            non_maps.append(d1[0])\n",
    "    \n",
    "    assert len(non_maps) != 0, 'None of the regimes have changed for any of the countries'"
   ]
  },
  {
   "cell_type": "code",
   "execution_count": 131,
   "id": "approximate-precipitation",
   "metadata": {},
   "outputs": [],
   "source": [
    "unit_test_democracy()"
   ]
  },
  {
   "cell_type": "code",
   "execution_count": 144,
   "id": "hairy-minister",
   "metadata": {},
   "outputs": [],
   "source": [
    "def map_to_regime_list(ls, democracy_mapped):\n",
    "    \"\"\"Mapping the number of countries to a regime list\"\"\"\n",
    "    return [democracy_mapped.get(x, 'None') for x in ls]\n",
    "\n",
    "\n",
    "def regime_list_to_category(ls):\n",
    "    \"\"\"Function to change the regime list to a single category\"\"\"\n",
    "    \n",
    "    # Get the number of unique regimes listed\n",
    "    uniques = np.unique(ls)\n",
    "    \n",
    "    # If only one regime, then use it as the category\n",
    "    if len(uniques) == 1:\n",
    "        return uniques[0]\n",
    "    \n",
    "    # If there are two regimes, then look at whether they are democracy and authoritarianism.\n",
    "    elif len(uniques) == 2:\n",
    "        \n",
    "        # Test if the category involves two items\n",
    "        if ('Full democracy' in uniques) and ('Authoritarian regime' in uniques):\n",
    "            return 'Democracy and Authoritarianism'\n",
    "    \n",
    "    # Otherwise, return nothing\n",
    "    else:\n",
    "        return 'Other'"
   ]
  },
  {
   "cell_type": "code",
   "execution_count": 29,
   "id": "timely-petroleum",
   "metadata": {},
   "outputs": [],
   "source": [
    "# Get stopwords\n",
    "stopwords = open(f'.{os.sep}supplementary_files{os.sep}stopwords.txt', 'r').readlines()\n",
    "stopwords = set([x.replace('\\n', '') for x in stopwords])\n",
    "\n",
    "# Get a dictionary that maps any country to the word 'country'\n",
    "country_map_dict = {k:'country' for k in countries_all}\n"
   ]
  },
  {
   "cell_type": "code",
   "execution_count": 57,
   "id": "wired-motivation",
   "metadata": {},
   "outputs": [],
   "source": [
    "def get_country_replacement(txt, countries_all=countries_all, replace_word='country'):\n",
    "    \"\"\"Replace all the countries into the word 'country'\"\"\"\n",
    "    for country in countries_all:\n",
    "        if country in txt:\n",
    "            txt = txt.replace(country, replace_word)  \n",
    "    return txt\n",
    "\n",
    "def remove_URL(sample):\n",
    "    \"\"\"Remove URLs from a sample string\"\"\"\n",
    "    return re.sub(r\"http\\S+\", \"\", sample)\n",
    "\n",
    "\n",
    "# Define function to clean and split text\n",
    "def remove_symbols(text):\n",
    "    \"\"\"Remove all the symbols and stopwords\"\"\"\n",
    "    text = unescape(text)\n",
    "    text_cleaned = [re.sub('[^a-zA-Z0-9]', '', w) for w in text.strip().split() if w not in stopwords]\n",
    "    return [w for w in text_cleaned if w != '']"
   ]
  },
  {
   "cell_type": "code",
   "execution_count": 61,
   "id": "crude-infection",
   "metadata": {},
   "outputs": [],
   "source": [
    "def lower_and_rm_stopwords(text):\n",
    "    \"\"\"Capitalizes the letter of each word\"\"\"\n",
    "    return [x.lower() for x in text if x != '' and x not in stopwords]\n",
    "\n",
    "\n",
    "def clean(text):\n",
    "    \"\"\"Clean the text using the previously defined functions\"\"\"\n",
    "    change_country = get_country_replacement(text)\n",
    "    no_url = remove_URL(change_country)\n",
    "    no_symbols = remove_symbols(no_url)\n",
    "    clean_text = lower_and_rm_stopwords(no_symbols)\n",
    "    \n",
    "    return clean_text"
   ]
  },
  {
   "cell_type": "markdown",
   "id": "athletic-harvey",
   "metadata": {},
   "source": [
    "## Getting all the files"
   ]
  },
  {
   "cell_type": "markdown",
   "id": "adjusted-strategy",
   "metadata": {},
   "source": [
    "Re-do the file for:\n",
    "- 2012-04\n",
    "- .\\data_processed\\politics_2012-07.csv"
   ]
  },
  {
   "cell_type": "code",
   "execution_count": 86,
   "id": "integrated-nevada",
   "metadata": {},
   "outputs": [],
   "source": [
    "from tqdm import tqdm"
   ]
  },
  {
   "cell_type": "code",
   "execution_count": 87,
   "id": "excellent-preference",
   "metadata": {},
   "outputs": [],
   "source": [
    "processed_dir = 'data_processed'"
   ]
  },
  {
   "cell_type": "code",
   "execution_count": 90,
   "id": "copyrighted-brain",
   "metadata": {},
   "outputs": [],
   "source": [
    "df = pd.read_csv(file, compression = 'bz2', low_memory=False)"
   ]
  },
  {
   "cell_type": "code",
   "execution_count": null,
   "id": "adolescent-cream",
   "metadata": {
    "scrolled": true
   },
   "outputs": [],
   "source": [
    "df = pd.read_csv('./data/politics_2012-04.bz2', compression='bz2', low_memory=False, error_bad_lines=False)"
   ]
  },
  {
   "cell_type": "code",
   "execution_count": null,
   "id": "bronze-baker",
   "metadata": {},
   "outputs": [],
   "source": [
    "for file in tqdm(glob.glob('./data/*.bz2')):\n",
    "    \n",
    "    # Get the year and democracy mapping\n",
    "    year = int(file[16:20])\n",
    "    filename = file[7:-4]\n",
    "    directory_to_save = f'.{os.sep}{processed_dir}{os.sep}{filename}.csv'\n",
    "    print(directory_to_save)\n",
    "    \n",
    "    democracy_mapped = get_democracy_mapping(year)\n",
    "    \n",
    "    # Read file\n",
    "    df = pd.read_csv(file, compression = 'bz2', low_memory=False)\n",
    "\n",
    "    # Get the country data\n",
    "    df['countries'] = df.body.map(get_countries)\n",
    "\n",
    "    # Filter out only the posts that mention countries\n",
    "    df_countries = df.loc[df.countries.map(lambda x: x != []), ['body', 'countries', 'score']]\n",
    "\n",
    "    # Get the regimes\n",
    "    df_countries['regimes'] = df_countries['countries'].apply(lambda ls: [democracy_mapped.get(x, 'None') for x in ls])\n",
    "\n",
    "    # Get the outcome variable\n",
    "    df_countries['outcome'] = df_countries['regimes'].map(regime_list_to_category)\n",
    "\n",
    "    # Get the tokens\n",
    "    df_countries['tokens'] = df_countries.body.map(clean)\n",
    "    \n",
    "    # Export to csv\n",
    "    df_countries.to_csv(directory_to_save, index=False)"
   ]
  },
  {
   "cell_type": "code",
   "execution_count": 193,
   "id": "unlimited-rover",
   "metadata": {
    "scrolled": false
   },
   "outputs": [
    {
     "name": "stdout",
     "output_type": "stream",
     "text": [
      ".\\data_processed\\politics_2012-08.csv\n",
      ".\\data_processed\\politics_2012-09.csv\n",
      ".\\data_processed\\politics_2012-10.csv\n",
      ".\\data_processed\\politics_2012-11.csv\n",
      ".\\data_processed\\politics_2012-12.csv\n",
      ".\\data_processed\\politics_2013-01.csv\n",
      ".\\data_processed\\politics_2013-02.csv\n",
      ".\\data_processed\\politics_2013-03.csv\n",
      ".\\data_processed\\politics_2013-04.csv\n",
      ".\\data_processed\\politics_2013-05.csv\n",
      ".\\data_processed\\politics_2013-06.csv\n",
      ".\\data_processed\\politics_2013-07.csv\n",
      ".\\data_processed\\politics_2013-08.csv\n",
      ".\\data_processed\\politics_2013-09.csv\n",
      ".\\data_processed\\politics_2013-10.csv\n",
      ".\\data_processed\\politics_2013-11.csv\n",
      ".\\data_processed\\politics_2013-12.csv\n",
      ".\\data_processed\\politics_2014-01.csv\n",
      ".\\data_processed\\politics_2014-02.csv\n",
      ".\\data_processed\\politics_2014-03.csv\n",
      ".\\data_processed\\politics_2014-04.csv\n",
      ".\\data_processed\\politics_2014-05.csv\n",
      ".\\data_processed\\politics_2014-06.csv\n",
      ".\\data_processed\\politics_2014-07.csv\n",
      ".\\data_processed\\politics_2014-08.csv\n",
      ".\\data_processed\\politics_2014-09.csv\n",
      ".\\data_processed\\politics_2014-10.csv\n",
      ".\\data_processed\\politics_2014-11.csv\n",
      ".\\data_processed\\politics_2014-12.csv\n",
      ".\\data_processed\\politics_2015-01.csv\n",
      ".\\data_processed\\politics_2015-02.csv\n",
      ".\\data_processed\\politics_2015-03.csv\n",
      ".\\data_processed\\politics_2015-04.csv\n",
      ".\\data_processed\\politics_2015-05.csv\n",
      ".\\data_processed\\politics_2015-06.csv\n",
      ".\\data_processed\\politics_2015-07.csv\n",
      ".\\data_processed\\politics_2015-08.csv\n",
      ".\\data_processed\\politics_2015-09.csv\n",
      ".\\data_processed\\politics_2015-10.csv\n",
      ".\\data_processed\\politics_2015-11.csv\n",
      ".\\data_processed\\politics_2015-12.csv\n"
     ]
    }
   ],
   "source": [
    "for file in glob.glob('./data/*.bz2')[31:]:\n",
    "    \n",
    "    # Get the year and democracy mapping\n",
    "    year = int(file[16:20])\n",
    "    filename = file[7:-4]\n",
    "    directory_to_save = f'.{os.sep}{processed_dir}{os.sep}{filename}.csv'\n",
    "    print(directory_to_save)\n",
    "    \n",
    "    democracy_mapped = get_democracy_mapping(year)\n",
    "    \n",
    "    # Read file\n",
    "    try:\n",
    "        df = pd.read_csv(file, compression = 'bz2', low_memory=False)\n",
    "    except:\n",
    "        df = pd.read_csv(file, compression = 'bz2', low_memory=False, lineterminator='\\n')\n",
    "\n",
    "    # Get the country data\n",
    "    df['countries'] = df.body.map(get_countries)\n",
    "\n",
    "    # Filter out only the posts that mention countries\n",
    "    df_countries = df.loc[df.countries.map(lambda x: x != []), ['body', 'countries', 'score']]\n",
    "\n",
    "    # Get the regimes\n",
    "    df_countries['regimes'] = df_countries['countries'].apply(lambda ls: [democracy_mapped.get(x, 'None') for x in ls])\n",
    "\n",
    "    # Get the outcome variable\n",
    "    df_countries['outcome'] = df_countries['regimes'].map(regime_list_to_category)\n",
    "\n",
    "    # Get the tokens\n",
    "    df_countries['tokens'] = df_countries.body.map(clean)\n",
    "    \n",
    "    # Export to csv\n",
    "    df_countries.to_csv(directory_to_save, index=False)"
   ]
  },
  {
   "cell_type": "code",
   "execution_count": null,
   "id": "concrete-funeral",
   "metadata": {},
   "outputs": [],
   "source": []
  },
  {
   "cell_type": "code",
   "execution_count": null,
   "id": "celtic-transition",
   "metadata": {},
   "outputs": [],
   "source": []
  }
 ],
 "metadata": {
  "kernelspec": {
   "display_name": "Python 3",
   "language": "python",
   "name": "python3"
  },
  "language_info": {
   "codemirror_mode": {
    "name": "ipython",
    "version": 3
   },
   "file_extension": ".py",
   "mimetype": "text/x-python",
   "name": "python",
   "nbconvert_exporter": "python",
   "pygments_lexer": "ipython3",
   "version": "3.8.6"
  }
 },
 "nbformat": 4,
 "nbformat_minor": 5
}
